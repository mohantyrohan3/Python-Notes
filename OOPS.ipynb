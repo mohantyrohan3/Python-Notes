{
 "cells": [
  {
   "cell_type": "markdown",
   "id": "cf31b37e",
   "metadata": {},
   "source": [
    "# OOPS"
   ]
  },
  {
   "cell_type": "code",
   "execution_count": 2,
   "id": "2adbcada",
   "metadata": {},
   "outputs": [],
   "source": [
    "# In objects the properties are attributes and behaviour/function are called methods\n",
    "class Student:\n",
    "    pass\n",
    "s1=Student()\n",
    "s2=Student()\n",
    "s3=Student()"
   ]
  },
  {
   "cell_type": "code",
   "execution_count": 24,
   "id": "eab00a46",
   "metadata": {},
   "outputs": [],
   "source": [
    "# 2 diff types of Attributes = Instance attributes and class attributes\n",
    "# Instance = belongs to object\n",
    "# class = belongs to class and common for every object\n",
    " # intsance attributes - we can add as per our wish\n",
    "s1.age=20\n",
    "s1.name=\"Rohan\""
   ]
  },
  {
   "cell_type": "code",
   "execution_count": 5,
   "id": "1960d6f2",
   "metadata": {},
   "outputs": [],
   "source": [
    "s2.rollno=121"
   ]
  },
  {
   "cell_type": "code",
   "execution_count": 6,
   "id": "fff47356",
   "metadata": {},
   "outputs": [],
   "source": [
    "s3.age=19"
   ]
  },
  {
   "cell_type": "code",
   "execution_count": 8,
   "id": "3b8f393a",
   "metadata": {},
   "outputs": [
    {
     "name": "stdout",
     "output_type": "stream",
     "text": [
      "{'age': 20, 'name': 'Rohan'}\n",
      "{'rollno': 121}\n",
      "{'age': 19}\n"
     ]
    }
   ],
   "source": [
    "# Every class has a dict of attributes and their values\n",
    "print(s1.__dict__)\n",
    "print(s2.__dict__)\n",
    "print(s3.__dict__)"
   ]
  },
  {
   "cell_type": "code",
   "execution_count": 11,
   "id": "2c229537",
   "metadata": {},
   "outputs": [
    {
     "name": "stdout",
     "output_type": "stream",
     "text": [
      "Rohan\n"
     ]
    },
    {
     "ename": "AttributeError",
     "evalue": "'Student' object has no attribute 'name'",
     "output_type": "error",
     "traceback": [
      "\u001b[1;31m---------------------------------------------------------------------------\u001b[0m",
      "\u001b[1;31mAttributeError\u001b[0m                            Traceback (most recent call last)",
      "\u001b[1;32m~\\AppData\\Local\\Temp/ipykernel_46600/3011189217.py\u001b[0m in \u001b[0;36m<module>\u001b[1;34m\u001b[0m\n\u001b[0;32m      1\u001b[0m \u001b[0mprint\u001b[0m\u001b[1;33m(\u001b[0m\u001b[0ms1\u001b[0m\u001b[1;33m.\u001b[0m\u001b[0mname\u001b[0m\u001b[1;33m)\u001b[0m\u001b[1;33m\u001b[0m\u001b[1;33m\u001b[0m\u001b[0m\n\u001b[1;32m----> 2\u001b[1;33m \u001b[0mprint\u001b[0m\u001b[1;33m(\u001b[0m\u001b[0ms2\u001b[0m\u001b[1;33m.\u001b[0m\u001b[0mname\u001b[0m\u001b[1;33m)\u001b[0m\u001b[1;33m\u001b[0m\u001b[1;33m\u001b[0m\u001b[0m\n\u001b[0m",
      "\u001b[1;31mAttributeError\u001b[0m: 'Student' object has no attribute 'name'"
     ]
    }
   ],
   "source": [
    "print(s1.name)\n",
    "print(s2.name)"
   ]
  },
  {
   "cell_type": "markdown",
   "id": "b95dc74b",
   "metadata": {},
   "source": [
    "### Inbuilt functions"
   ]
  },
  {
   "cell_type": "code",
   "execution_count": 13,
   "id": "9a9f6eb6",
   "metadata": {},
   "outputs": [
    {
     "data": {
      "text/plain": [
       "True"
      ]
     },
     "execution_count": 13,
     "metadata": {},
     "output_type": "execute_result"
    }
   ],
   "source": [
    "hasattr(s1,\"name\")"
   ]
  },
  {
   "cell_type": "code",
   "execution_count": 17,
   "id": "73277930",
   "metadata": {},
   "outputs": [
    {
     "data": {
      "text/plain": [
       "'Rohan'"
      ]
     },
     "execution_count": 17,
     "metadata": {},
     "output_type": "execute_result"
    }
   ],
   "source": [
    "getattr(s1,\"name\",0)"
   ]
  },
  {
   "cell_type": "code",
   "execution_count": 21,
   "id": "11aa83ae",
   "metadata": {},
   "outputs": [
    {
     "data": {
      "text/plain": [
       "'Mohanty'"
      ]
     },
     "execution_count": 21,
     "metadata": {},
     "output_type": "execute_result"
    }
   ],
   "source": [
    "setattr(s2,\"name\",\"Mohanty\")\n",
    "getattr(s2,\"name\")"
   ]
  },
  {
   "cell_type": "code",
   "execution_count": 25,
   "id": "46ebd4b5",
   "metadata": {},
   "outputs": [
    {
     "data": {
      "text/plain": [
       "{'name': 'Rohan'}"
      ]
     },
     "execution_count": 25,
     "metadata": {},
     "output_type": "execute_result"
    }
   ],
   "source": [
    "delattr(s1,\"age\")\n",
    "s1.__dict__"
   ]
  },
  {
   "cell_type": "markdown",
   "id": "17dd13bd",
   "metadata": {},
   "source": [
    "### Class Attributes"
   ]
  },
  {
   "cell_type": "code",
   "execution_count": 27,
   "id": "e89a1fde",
   "metadata": {},
   "outputs": [
    {
     "data": {
      "text/plain": [
       "mappingproxy({'__module__': '__main__',\n",
       "              '__dict__': <attribute '__dict__' of 'Student' objects>,\n",
       "              '__weakref__': <attribute '__weakref__' of 'Student' objects>,\n",
       "              '__doc__': None,\n",
       "              'totalstudent': 20})"
      ]
     },
     "execution_count": 27,
     "metadata": {},
     "output_type": "execute_result"
    }
   ],
   "source": [
    "Student.totalstudent=20\n",
    "Student.__dict__"
   ]
  },
  {
   "cell_type": "code",
   "execution_count": 30,
   "id": "b85128cb",
   "metadata": {},
   "outputs": [],
   "source": [
    "class Student:\n",
    "    totalstudents=20\n",
    "    classteachername=\"Kunal\"\n"
   ]
  },
  {
   "cell_type": "code",
   "execution_count": 34,
   "id": "422e612b",
   "metadata": {},
   "outputs": [
    {
     "data": {
      "text/plain": [
       "20"
      ]
     },
     "execution_count": 34,
     "metadata": {},
     "output_type": "execute_result"
    }
   ],
   "source": [
    "s1=Student()\n",
    "s2=Student()\n",
    "s1.totalstudents # We can acceess class attributes through objects"
   ]
  },
  {
   "cell_type": "code",
   "execution_count": 38,
   "id": "f7dd89f2",
   "metadata": {},
   "outputs": [],
   "source": [
    "Student.totalstudents=40"
   ]
  },
  {
   "cell_type": "code",
   "execution_count": 39,
   "id": "59120d64",
   "metadata": {},
   "outputs": [
    {
     "data": {
      "text/plain": [
       "40"
      ]
     },
     "execution_count": 39,
     "metadata": {},
     "output_type": "execute_result"
    }
   ],
   "source": [
    "s1=Student()\n",
    "s2=Student()\n",
    "s1.totalstudents"
   ]
  },
  {
   "cell_type": "code",
   "execution_count": 47,
   "id": "929e63d4",
   "metadata": {},
   "outputs": [],
   "source": [
    "s1.totalstudents=50"
   ]
  },
  {
   "cell_type": "code",
   "execution_count": 48,
   "id": "21e9c074",
   "metadata": {},
   "outputs": [
    {
     "data": {
      "text/plain": [
       "50"
      ]
     },
     "execution_count": 48,
     "metadata": {},
     "output_type": "execute_result"
    }
   ],
   "source": [
    "s1.totalstudents"
   ]
  },
  {
   "cell_type": "code",
   "execution_count": 35,
   "id": "3e74b3a7",
   "metadata": {},
   "outputs": [],
   "source": [
    "# If we try to change class attributes through objects it will  create instance attributes for that object\n",
    "class student:\n",
    "    # Instasnce attributes\n",
    "    totalstudents=20\n",
    "    classteachername=\"rohan\"\n",
    "    # Instance Fucntions\n",
    "    def printhello(self):\n",
    "        print(\"hello\")\n",
    "    def print1(self,str):\n",
    "        print(str)\n",
    "    def printname(self):\n",
    "        print(self.name)\n",
    "    def addname(self,name):\n",
    "        self.surname=name\n",
    "    def test(self,num):\n",
    "            student.totalstudents=num\n",
    "            print(student.totalstudents)\n",
    "s1=student()\n",
    "s1.name=\"Rohan\"\n",
    "s2=student()"
   ]
  },
  {
   "cell_type": "code",
   "execution_count": 18,
   "id": "be147c06",
   "metadata": {},
   "outputs": [
    {
     "name": "stdout",
     "output_type": "stream",
     "text": [
      "hello\n"
     ]
    }
   ],
   "source": [
    "s1.printhello() # student.printhello(s1) this actually happens"
   ]
  },
  {
   "cell_type": "code",
   "execution_count": 19,
   "id": "4541cc47",
   "metadata": {},
   "outputs": [
    {
     "name": "stdout",
     "output_type": "stream",
     "text": [
      "hello\n"
     ]
    }
   ],
   "source": [
    "s1.printhello()"
   ]
  },
  {
   "cell_type": "code",
   "execution_count": 20,
   "id": "0a90b368",
   "metadata": {},
   "outputs": [
    {
     "name": "stdout",
     "output_type": "stream",
     "text": [
      "Rohan Is good\n"
     ]
    }
   ],
   "source": [
    "s1.print1(\"Rohan Is good\")"
   ]
  },
  {
   "cell_type": "code",
   "execution_count": 21,
   "id": "8a5f7ba0",
   "metadata": {},
   "outputs": [
    {
     "ename": "TypeError",
     "evalue": "printhello() missing 1 required positional argument: 'self'",
     "output_type": "error",
     "traceback": [
      "\u001b[1;31m---------------------------------------------------------------------------\u001b[0m",
      "\u001b[1;31mTypeError\u001b[0m                                 Traceback (most recent call last)",
      "\u001b[1;32m~\\AppData\\Local\\Temp/ipykernel_54036/3223517760.py\u001b[0m in \u001b[0;36m<module>\u001b[1;34m\u001b[0m\n\u001b[1;32m----> 1\u001b[1;33m \u001b[0mstudent\u001b[0m\u001b[1;33m.\u001b[0m\u001b[0mprinthello\u001b[0m\u001b[1;33m(\u001b[0m\u001b[1;33m)\u001b[0m\u001b[1;33m\u001b[0m\u001b[1;33m\u001b[0m\u001b[0m\n\u001b[0m",
      "\u001b[1;31mTypeError\u001b[0m: printhello() missing 1 required positional argument: 'self'"
     ]
    }
   ],
   "source": [
    "student.printhello()"
   ]
  },
  {
   "cell_type": "code",
   "execution_count": 22,
   "id": "c3f4bd4c",
   "metadata": {},
   "outputs": [
    {
     "name": "stdout",
     "output_type": "stream",
     "text": [
      "hello\n"
     ]
    }
   ],
   "source": [
    "student.printhello(s1)"
   ]
  },
  {
   "cell_type": "code",
   "execution_count": 23,
   "id": "34631f5d",
   "metadata": {},
   "outputs": [
    {
     "name": "stdout",
     "output_type": "stream",
     "text": [
      "Rohan\n"
     ]
    }
   ],
   "source": [
    "s1.printname()"
   ]
  },
  {
   "cell_type": "code",
   "execution_count": 33,
   "id": "965aade5",
   "metadata": {},
   "outputs": [
    {
     "data": {
      "text/plain": [
       "{'name': 'Rohan', 'surname': 'Mohanty'}"
      ]
     },
     "execution_count": 33,
     "metadata": {},
     "output_type": "execute_result"
    }
   ],
   "source": [
    "s1.addname(\"Mohanty\")\n",
    "s1.__dict__"
   ]
  },
  {
   "cell_type": "code",
   "execution_count": 38,
   "id": "0499900c",
   "metadata": {},
   "outputs": [
    {
     "name": "stdout",
     "output_type": "stream",
     "text": [
      "30\n"
     ]
    }
   ],
   "source": [
    "s1.test(30)"
   ]
  },
  {
   "cell_type": "markdown",
   "id": "a9c8f624",
   "metadata": {},
   "source": [
    "## Constructors"
   ]
  },
  {
   "cell_type": "code",
   "execution_count": 47,
   "id": "7579eb31",
   "metadata": {},
   "outputs": [
    {
     "ename": "TypeError",
     "evalue": "__init__() missing 3 required positional arguments: 'name', 'rn', and 'age'",
     "output_type": "error",
     "traceback": [
      "\u001b[1;31m---------------------------------------------------------------------------\u001b[0m",
      "\u001b[1;31mTypeError\u001b[0m                                 Traceback (most recent call last)",
      "\u001b[1;32m~\\AppData\\Local\\Temp/ipykernel_54036/265167020.py\u001b[0m in \u001b[0;36m<module>\u001b[1;34m\u001b[0m\n\u001b[0;32m     29\u001b[0m             \u001b[0mstudent\u001b[0m\u001b[1;33m.\u001b[0m\u001b[0mtotalstudents\u001b[0m\u001b[1;33m=\u001b[0m\u001b[0mnum\u001b[0m\u001b[1;33m\u001b[0m\u001b[1;33m\u001b[0m\u001b[0m\n\u001b[0;32m     30\u001b[0m             \u001b[0mprint\u001b[0m\u001b[1;33m(\u001b[0m\u001b[0mstudent\u001b[0m\u001b[1;33m.\u001b[0m\u001b[0mtotalstudents\u001b[0m\u001b[1;33m)\u001b[0m\u001b[1;33m\u001b[0m\u001b[1;33m\u001b[0m\u001b[0m\n\u001b[1;32m---> 31\u001b[1;33m \u001b[0ms1\u001b[0m\u001b[1;33m=\u001b[0m\u001b[0mstudent1\u001b[0m\u001b[1;33m(\u001b[0m\u001b[1;33m)\u001b[0m\u001b[1;33m\u001b[0m\u001b[1;33m\u001b[0m\u001b[0m\n\u001b[0m\u001b[0;32m     32\u001b[0m \u001b[0ms1\u001b[0m\u001b[1;33m.\u001b[0m\u001b[0mname\u001b[0m\u001b[1;33m=\u001b[0m\u001b[1;34m\"Rohan\"\u001b[0m\u001b[1;33m\u001b[0m\u001b[1;33m\u001b[0m\u001b[0m\n\u001b[0;32m     33\u001b[0m \u001b[0ms2\u001b[0m\u001b[1;33m=\u001b[0m\u001b[0mstudent1\u001b[0m\u001b[1;33m(\u001b[0m\u001b[1;33m)\u001b[0m\u001b[1;33m\u001b[0m\u001b[1;33m\u001b[0m\u001b[0m\n",
      "\u001b[1;31mTypeError\u001b[0m: __init__() missing 3 required positional arguments: 'name', 'rn', and 'age'"
     ]
    }
   ],
   "source": [
    "s2=student() # As Soon as we writre this code default constructor is called\n",
    "class student1:\n",
    "    # Instasnce attributes\n",
    "    totalstudents=20\n",
    "    classteachername=\"rohan\"\n",
    "    \n",
    "    def __init__(self):\n",
    "        print(\"called\")\n",
    "        self.name=\"Rohan\"\n",
    "        self.rollno=45\n",
    "        self.age=20\n",
    "    def __init__(self,name,rn,age):\n",
    "        print(\"called\")\n",
    "        self.name=name\n",
    "        self.rollno=rn\n",
    "        self.age=age\n",
    "\n",
    "    \n",
    "    # Instance Fucntions\n",
    "    def printhello(self):\n",
    "        print(\"hello\")\n",
    "    def print1(self,str):\n",
    "        print(str)\n",
    "    def printname(self):\n",
    "        print(self.name)\n",
    "    def addname(self,name):\n",
    "        self.surname=name\n",
    "    def test(self,num):\n",
    "            student.totalstudents=num\n",
    "            print(student.totalstudents)\n",
    "s1=student1()\n",
    "s1.name=\"Rohan\"\n",
    "s2=student1()"
   ]
  },
  {
   "cell_type": "code",
   "execution_count": 48,
   "id": "845e64a0",
   "metadata": {},
   "outputs": [
    {
     "name": "stdout",
     "output_type": "stream",
     "text": [
      "called\n"
     ]
    },
    {
     "data": {
      "text/plain": [
       "{'name': 'mohanty', 'rollno': 45, 'age': 21}"
      ]
     },
     "execution_count": 48,
     "metadata": {},
     "output_type": "execute_result"
    }
   ],
   "source": [
    "s3=student1(\"mohanty\",45,21)\n",
    "s3.__dict__"
   ]
  },
  {
   "cell_type": "markdown",
   "id": "18cc3908",
   "metadata": {},
   "source": [
    "## Access Modifiers"
   ]
  },
  {
   "cell_type": "code",
   "execution_count": 72,
   "id": "642cdff4",
   "metadata": {},
   "outputs": [],
   "source": [
    "# 3 types public,private,protected\n",
    "# To make private we just write __ infront of name\n",
    "class student2:\n",
    "    # Instasnce attributes\n",
    "    __totalstudents=20\n",
    "    classteachername=\"rohan\"\n",
    "    \n",
    "    \n",
    "    @classmethod\n",
    "    def gettotal(cls):\n",
    "        return student2.__totalstudents\n",
    "    \n",
    "    def __init__(self):\n",
    "        print(\"called\")\n",
    "        self.__name=\"Rohan\"\n",
    "        self.rollno=45\n",
    "        self.age=20\n",
    "    def __init__(self,name,rn,age):\n",
    "        print(\"called\")\n",
    "        self.__name=name\n",
    "        self.rollno=rn\n",
    "        self.age=age\n",
    "    def getname(self):\n",
    "        return self.__name\n",
    "\n",
    "    \n",
    "    # Instance Fucntions\n",
    "    def printhello(self):\n",
    "        print(\"hello\")\n",
    "    def print1(self,str):\n",
    "        print(str)\n",
    "    def printname(self):\n",
    "        print(self.__name)\n",
    "    def addname(self,name):\n",
    "        self.surname=name\n",
    "    def test(self,num):\n",
    "            student.totalstudents=num\n",
    "            print(student.totalstudents)\n"
   ]
  },
  {
   "cell_type": "code",
   "execution_count": 73,
   "id": "bbebc881",
   "metadata": {},
   "outputs": [
    {
     "name": "stdout",
     "output_type": "stream",
     "text": [
      "called\n",
      "Rohan\n"
     ]
    },
    {
     "data": {
      "text/plain": [
       "20"
      ]
     },
     "execution_count": 73,
     "metadata": {},
     "output_type": "execute_result"
    }
   ],
   "source": [
    "s1=student2(\"Rohan\",45,20)\n",
    "print(s1.getname())\n",
    "student2.gettotal()"
   ]
  },
  {
   "cell_type": "markdown",
   "id": "9547e9a1",
   "metadata": {},
   "source": [
    "## Class Methods and static methods"
   ]
  },
  {
   "cell_type": "code",
   "execution_count": 74,
   "id": "e3710c7f",
   "metadata": {},
   "outputs": [],
   "source": [
    "@classmethod\n",
    "def gettotalstudemts(cls):\n",
    "    return student2.totalstudents"
   ]
  },
  {
   "cell_type": "code",
   "execution_count": null,
   "id": "05eadeec",
   "metadata": {},
   "outputs": [],
   "source": []
  }
 ],
 "metadata": {
  "kernelspec": {
   "display_name": "Python 3 (ipykernel)",
   "language": "python",
   "name": "python3"
  },
  "language_info": {
   "codemirror_mode": {
    "name": "ipython",
    "version": 3
   },
   "file_extension": ".py",
   "mimetype": "text/x-python",
   "name": "python",
   "nbconvert_exporter": "python",
   "pygments_lexer": "ipython3",
   "version": "3.9.7"
  }
 },
 "nbformat": 4,
 "nbformat_minor": 5
}
