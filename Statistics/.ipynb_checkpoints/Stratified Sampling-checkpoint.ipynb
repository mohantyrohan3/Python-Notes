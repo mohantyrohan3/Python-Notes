{
 "cells": [
  {
   "cell_type": "code",
   "execution_count": 1,
   "id": "212c2f76",
   "metadata": {},
   "outputs": [
    {
     "data": {
      "text/html": [
       "<div>\n",
       "<style scoped>\n",
       "    .dataframe tbody tr th:only-of-type {\n",
       "        vertical-align: middle;\n",
       "    }\n",
       "\n",
       "    .dataframe tbody tr th {\n",
       "        vertical-align: top;\n",
       "    }\n",
       "\n",
       "    .dataframe thead th {\n",
       "        text-align: right;\n",
       "    }\n",
       "</style>\n",
       "<table border=\"1\" class=\"dataframe\">\n",
       "  <thead>\n",
       "    <tr style=\"text-align: right;\">\n",
       "      <th></th>\n",
       "      <th>SNo</th>\n",
       "      <th>Date</th>\n",
       "      <th>StartupName</th>\n",
       "      <th>IndustryVertical</th>\n",
       "      <th>SubVertical</th>\n",
       "      <th>CityLocation</th>\n",
       "      <th>InvestorsName</th>\n",
       "      <th>InvestmentType</th>\n",
       "      <th>AmountInUSD</th>\n",
       "      <th>Remarks</th>\n",
       "    </tr>\n",
       "  </thead>\n",
       "  <tbody>\n",
       "    <tr>\n",
       "      <th>0</th>\n",
       "      <td>0</td>\n",
       "      <td>01/08/2017</td>\n",
       "      <td>TouchKin</td>\n",
       "      <td>Technology</td>\n",
       "      <td>Predictive Care Platform</td>\n",
       "      <td>Bangalore</td>\n",
       "      <td>Kae Capital</td>\n",
       "      <td>Private Equity</td>\n",
       "      <td>1,300,000</td>\n",
       "      <td>NaN</td>\n",
       "    </tr>\n",
       "    <tr>\n",
       "      <th>1</th>\n",
       "      <td>1</td>\n",
       "      <td>02/08/2017</td>\n",
       "      <td>Ethinos</td>\n",
       "      <td>Technology</td>\n",
       "      <td>Digital Marketing Agency</td>\n",
       "      <td>Mumbai</td>\n",
       "      <td>Triton Investment Advisors</td>\n",
       "      <td>Private Equity</td>\n",
       "      <td>NaN</td>\n",
       "      <td>NaN</td>\n",
       "    </tr>\n",
       "    <tr>\n",
       "      <th>2</th>\n",
       "      <td>2</td>\n",
       "      <td>02/08/2017</td>\n",
       "      <td>Leverage Edu</td>\n",
       "      <td>Consumer Internet</td>\n",
       "      <td>Online platform for Higher Education Services</td>\n",
       "      <td>New Delhi</td>\n",
       "      <td>Kashyap Deorah, Anand Sankeshwar, Deepak Jain,...</td>\n",
       "      <td>Seed Funding</td>\n",
       "      <td>NaN</td>\n",
       "      <td>NaN</td>\n",
       "    </tr>\n",
       "    <tr>\n",
       "      <th>3</th>\n",
       "      <td>3</td>\n",
       "      <td>02/08/2017</td>\n",
       "      <td>Zepo</td>\n",
       "      <td>Consumer Internet</td>\n",
       "      <td>DIY Ecommerce platform</td>\n",
       "      <td>Mumbai</td>\n",
       "      <td>Kunal Shah, LetsVenture, Anupam Mittal, Hetal ...</td>\n",
       "      <td>Seed Funding</td>\n",
       "      <td>500,000</td>\n",
       "      <td>NaN</td>\n",
       "    </tr>\n",
       "    <tr>\n",
       "      <th>4</th>\n",
       "      <td>4</td>\n",
       "      <td>02/08/2017</td>\n",
       "      <td>Click2Clinic</td>\n",
       "      <td>Consumer Internet</td>\n",
       "      <td>healthcare service aggregator</td>\n",
       "      <td>Hyderabad</td>\n",
       "      <td>Narottam Thudi, Shireesh Palle</td>\n",
       "      <td>Seed Funding</td>\n",
       "      <td>850,000</td>\n",
       "      <td>NaN</td>\n",
       "    </tr>\n",
       "  </tbody>\n",
       "</table>\n",
       "</div>"
      ],
      "text/plain": [
       "   SNo        Date   StartupName   IndustryVertical  \\\n",
       "0    0  01/08/2017      TouchKin         Technology   \n",
       "1    1  02/08/2017       Ethinos         Technology   \n",
       "2    2  02/08/2017  Leverage Edu  Consumer Internet   \n",
       "3    3  02/08/2017          Zepo  Consumer Internet   \n",
       "4    4  02/08/2017  Click2Clinic  Consumer Internet   \n",
       "\n",
       "                                     SubVertical CityLocation  \\\n",
       "0                       Predictive Care Platform    Bangalore   \n",
       "1                       Digital Marketing Agency       Mumbai   \n",
       "2  Online platform for Higher Education Services    New Delhi   \n",
       "3                         DIY Ecommerce platform       Mumbai   \n",
       "4                  healthcare service aggregator    Hyderabad   \n",
       "\n",
       "                                       InvestorsName  InvestmentType  \\\n",
       "0                                        Kae Capital  Private Equity   \n",
       "1                         Triton Investment Advisors  Private Equity   \n",
       "2  Kashyap Deorah, Anand Sankeshwar, Deepak Jain,...    Seed Funding   \n",
       "3  Kunal Shah, LetsVenture, Anupam Mittal, Hetal ...    Seed Funding   \n",
       "4                     Narottam Thudi, Shireesh Palle    Seed Funding   \n",
       "\n",
       "  AmountInUSD Remarks  \n",
       "0   1,300,000     NaN  \n",
       "1         NaN     NaN  \n",
       "2         NaN     NaN  \n",
       "3     500,000     NaN  \n",
       "4     850,000     NaN  "
      ]
     },
     "execution_count": 1,
     "metadata": {},
     "output_type": "execute_result"
    }
   ],
   "source": [
    "import pandas as pd\n",
    "df=pd.read_csv('0000000000002370.csv')\n",
    "df.head()"
   ]
  },
  {
   "cell_type": "code",
   "execution_count": 2,
   "id": "b6c2c738",
   "metadata": {},
   "outputs": [],
   "source": [
    "df['CityLocation']=df['CityLocation'].replace('bangalore','Bangalore')\n",
    "df['CityLocation']=df['CityLocation'].replace('Delhi','New Delhi')"
   ]
  },
  {
   "cell_type": "code",
   "execution_count": 17,
   "id": "1743ba8e",
   "metadata": {},
   "outputs": [],
   "source": [
    "df1=df[df['CityLocation']=='Bangalore']\n",
    "df2=df[(df['CityLocation']=='New Delhi') | (df['CityLocation']=='Gurgaon ') | (df['CityLocation']=='Noida')]\n",
    "df3=df[df['CityLocation']=='Mumbai']\n",
    "df4=df[df['CityLocation']=='Pune']\n",
    "df5=df[df['CityLocation']=='Hyderabad']"
   ]
  },
  {
   "cell_type": "code",
   "execution_count": 18,
   "id": "324b217e",
   "metadata": {},
   "outputs": [],
   "source": [
    "df1=df1['AmountInUSD']\n",
    "df2=df2['AmountInUSD']\n",
    "df3=df3['AmountInUSD']\n",
    "df4=df4['AmountInUSD']\n",
    "df5=df5['AmountInUSD']"
   ]
  },
  {
   "cell_type": "code",
   "execution_count": 21,
   "id": "76278408",
   "metadata": {},
   "outputs": [],
   "source": [
    "df1.dropna(inplace=True)\n",
    "df2.dropna(inplace=True)\n",
    "df3.dropna(inplace=True)\n",
    "df4.dropna(inplace=True)\n",
    "df5.dropna(inplace=True)"
   ]
  },
  {
   "cell_type": "code",
   "execution_count": 24,
   "id": "bcbcc8f8",
   "metadata": {},
   "outputs": [],
   "source": [
    "df1=df1.str.replace(',','')\n",
    "df2=df2.str.replace(',','')\n",
    "df3=df3.str.replace(',','')\n",
    "df4=df4.str.replace(',','')\n",
    "df5=df5.str.replace(',','')"
   ]
  },
  {
   "cell_type": "code",
   "execution_count": 26,
   "id": "7877a54c",
   "metadata": {},
   "outputs": [],
   "source": [
    "df1=pd.to_numeric(df1)\n",
    "df2=pd.to_numeric(df2)\n",
    "df3=pd.to_numeric(df3)\n",
    "df4=pd.to_numeric(df4)\n",
    "df5=pd.to_numeric(df5)"
   ]
  },
  {
   "cell_type": "code",
   "execution_count": 29,
   "id": "aff73e12",
   "metadata": {
    "scrolled": true
   },
   "outputs": [
    {
     "data": {
      "text/plain": [
       "3         500000\n",
       "10       1000000\n",
       "17        464000\n",
       "46       1250000\n",
       "50      50000000\n",
       "          ...   \n",
       "2167     1200000\n",
       "2179    18000000\n",
       "2185    12000000\n",
       "2187     1000000\n",
       "2193    21500000\n",
       "Name: AmountInUSD, Length: 300, dtype: int64"
      ]
     },
     "execution_count": 29,
     "metadata": {},
     "output_type": "execute_result"
    }
   ],
   "source": [
    "df3"
   ]
  },
  {
   "cell_type": "markdown",
   "id": "7bd22a0e",
   "metadata": {},
   "source": [
    "### Finding Max"
   ]
  },
  {
   "cell_type": "code",
   "execution_count": 98,
   "id": "9a7a0ebc",
   "metadata": {},
   "outputs": [
    {
     "data": {
      "text/plain": [
       "1525"
      ]
     },
     "execution_count": 98,
     "metadata": {},
     "output_type": "execute_result"
    }
   ],
   "source": [
    "# First finding population max\n",
    "final_df=df['AmountInUSD']\n",
    "final_df.dropna(inplace=True)\n",
    "final_df.size"
   ]
  },
  {
   "cell_type": "code",
   "execution_count": 65,
   "id": "038cf762",
   "metadata": {
    "scrolled": true
   },
   "outputs": [
    {
     "name": "stdout",
     "output_type": "stream",
     "text": [
      "1400000000\n"
     ]
    }
   ],
   "source": [
    "final_df=final_df.str.replace(',','')\n",
    "final_df=pd.to_numeric(final_df)\n",
    "Max=final_df.max()\n",
    "print(Max)"
   ]
  },
  {
   "cell_type": "code",
   "execution_count": 87,
   "id": "761c4203",
   "metadata": {},
   "outputs": [
    {
     "data": {
      "text/plain": [
       "1525"
      ]
     },
     "execution_count": 87,
     "metadata": {},
     "output_type": "execute_result"
    }
   ],
   "source": [
    "population=final_df.size\n",
    "population"
   ]
  },
  {
   "cell_type": "code",
   "execution_count": 37,
   "id": "f24a067c",
   "metadata": {},
   "outputs": [
    {
     "name": "stderr",
     "output_type": "stream",
     "text": [
      "C:\\Users\\mohan\\AppData\\Local\\Temp/ipykernel_26952/1223869134.py:1: DeprecationWarning: The default dtype for empty Series will be 'object' instead of 'float64' in a future version. Specify a dtype explicitly to silence this warning.\n",
      "  s1 = pd.Series()\n"
     ]
    },
    {
     "data": {
      "text/plain": [
       "Series([], dtype: float64)"
      ]
     },
     "execution_count": 37,
     "metadata": {},
     "output_type": "execute_result"
    }
   ],
   "source": [
    "s1 = pd.Series()\n",
    "s1"
   ]
  },
  {
   "cell_type": "markdown",
   "id": "ca344b58",
   "metadata": {},
   "source": [
    "## Sampling"
   ]
  },
  {
   "cell_type": "code",
   "execution_count": 54,
   "id": "40d84e2f",
   "metadata": {},
   "outputs": [],
   "source": [
    "sample1=pd.Series(dtype='int64')\n",
    "\n",
    "temp1=df1.sample(20,random_state=1)\n",
    "temp2=df2.sample(20,random_state=1)\n",
    "temp3=df3.sample(20,random_state=1)\n",
    "temp4=df4.sample(20,random_state=1)\n",
    "temp5=df5.sample(20,random_state=1)"
   ]
  },
  {
   "cell_type": "code",
   "execution_count": 57,
   "id": "144cd733",
   "metadata": {},
   "outputs": [
    {
     "name": "stdout",
     "output_type": "stream",
     "text": [
      "55000000\n"
     ]
    }
   ],
   "source": [
    "ans=pd.concat([temp1,temp2,temp3,temp4,temp5], ignore_index=True)\n",
    "Max1=ans.max()\n",
    "print(Max1)"
   ]
  },
  {
   "cell_type": "code",
   "execution_count": 59,
   "id": "99d80c5b",
   "metadata": {},
   "outputs": [
    {
     "name": "stdout",
     "output_type": "stream",
     "text": [
      "1345000000\n"
     ]
    }
   ],
   "source": [
    "Sampling_Error=Max-Max1\n",
    "print(Sampling_Error)"
   ]
  },
  {
   "cell_type": "markdown",
   "id": "4f73dfcd",
   "metadata": {},
   "source": [
    "## Propotional Sampling"
   ]
  },
  {
   "cell_type": "code",
   "execution_count": 95,
   "id": "48e097c3",
   "metadata": {},
   "outputs": [
    {
     "data": {
      "text/plain": [
       "53"
      ]
     },
     "execution_count": 95,
     "metadata": {},
     "output_type": "execute_result"
    }
   ],
   "source": [
    "size1=df1.size\n",
    "size2=df2.size\n",
    "size3=df3.size\n",
    "size4=df4.size\n",
    "size5=df5.size\n",
    "size5"
   ]
  },
  {
   "cell_type": "code",
   "execution_count": 70,
   "id": "413d8dc5",
   "metadata": {},
   "outputs": [],
   "source": [
    "#  Important Formula (No_of_values_ith Strata / population_size ) * Sample_Size"
   ]
  },
  {
   "cell_type": "code",
   "execution_count": 100,
   "id": "91949138",
   "metadata": {},
   "outputs": [
    {
     "data": {
      "text/plain": [
       "2033    50000000\n",
       "280       500000\n",
       "1780     3300000\n",
       "396      5000000\n",
       "699       150000\n",
       "          ...   \n",
       "1213      360000\n",
       "61        232000\n",
       "2142      165000\n",
       "1218      330000\n",
       "1215      100000\n",
       "Name: AmountInUSD, Length: 100, dtype: int64"
      ]
     },
     "execution_count": 100,
     "metadata": {},
     "output_type": "execute_result"
    }
   ],
   "source": [
    "data_list=[df1,df2,df3,df4,df5]\n",
    "size_list=[size1,size2,size3,size4,size5]\n",
    "total_size=100\n",
    "population=1070\n",
    "final_sample=[]\n",
    "for i in range(5):\n",
    "    sample_size=round((size_list[i]/population)*total_size)\n",
    "    temp1=data_list[i].sample(sample_size,random_state=1)\n",
    "    final_sample.append(temp1)\n",
    "sample=pd.concat([final_sample[0],final_sample[1],final_sample[2],final_sample[3],final_sample[4]])\n",
    "sample"
   ]
  },
  {
   "cell_type": "code",
   "execution_count": 102,
   "id": "6c1b9426",
   "metadata": {},
   "outputs": [],
   "source": [
    "Max1=sample.max()"
   ]
  },
  {
   "cell_type": "code",
   "execution_count": 103,
   "id": "160239b0",
   "metadata": {},
   "outputs": [
    {
     "name": "stdout",
     "output_type": "stream",
     "text": [
      "1345000000\n"
     ]
    }
   ],
   "source": [
    "print(Max-Max1)"
   ]
  }
 ],
 "metadata": {
  "kernelspec": {
   "display_name": "Python 3 (ipykernel)",
   "language": "python",
   "name": "python3"
  },
  "language_info": {
   "codemirror_mode": {
    "name": "ipython",
    "version": 3
   },
   "file_extension": ".py",
   "mimetype": "text/x-python",
   "name": "python",
   "nbconvert_exporter": "python",
   "pygments_lexer": "ipython3",
   "version": "3.9.7"
  }
 },
 "nbformat": 4,
 "nbformat_minor": 5
}
