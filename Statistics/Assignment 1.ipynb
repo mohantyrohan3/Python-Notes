{
 "cells": [
  {
   "cell_type": "code",
   "execution_count": 1,
   "id": "df3644e6",
   "metadata": {},
   "outputs": [
    {
     "data": {
      "text/html": [
       "<div>\n",
       "<style scoped>\n",
       "    .dataframe tbody tr th:only-of-type {\n",
       "        vertical-align: middle;\n",
       "    }\n",
       "\n",
       "    .dataframe tbody tr th {\n",
       "        vertical-align: top;\n",
       "    }\n",
       "\n",
       "    .dataframe thead th {\n",
       "        text-align: right;\n",
       "    }\n",
       "</style>\n",
       "<table border=\"1\" class=\"dataframe\">\n",
       "  <thead>\n",
       "    <tr style=\"text-align: right;\">\n",
       "      <th></th>\n",
       "      <th>SNo</th>\n",
       "      <th>Date</th>\n",
       "      <th>StartupName</th>\n",
       "      <th>IndustryVertical</th>\n",
       "      <th>SubVertical</th>\n",
       "      <th>CityLocation</th>\n",
       "      <th>InvestorsName</th>\n",
       "      <th>InvestmentType</th>\n",
       "      <th>AmountInUSD</th>\n",
       "      <th>Remarks</th>\n",
       "    </tr>\n",
       "  </thead>\n",
       "  <tbody>\n",
       "    <tr>\n",
       "      <th>0</th>\n",
       "      <td>0</td>\n",
       "      <td>01/08/2017</td>\n",
       "      <td>TouchKin</td>\n",
       "      <td>Technology</td>\n",
       "      <td>Predictive Care Platform</td>\n",
       "      <td>Bangalore</td>\n",
       "      <td>Kae Capital</td>\n",
       "      <td>Private Equity</td>\n",
       "      <td>1,300,000</td>\n",
       "      <td>NaN</td>\n",
       "    </tr>\n",
       "    <tr>\n",
       "      <th>1</th>\n",
       "      <td>1</td>\n",
       "      <td>02/08/2017</td>\n",
       "      <td>Ethinos</td>\n",
       "      <td>Technology</td>\n",
       "      <td>Digital Marketing Agency</td>\n",
       "      <td>Mumbai</td>\n",
       "      <td>Triton Investment Advisors</td>\n",
       "      <td>Private Equity</td>\n",
       "      <td>NaN</td>\n",
       "      <td>NaN</td>\n",
       "    </tr>\n",
       "    <tr>\n",
       "      <th>2</th>\n",
       "      <td>2</td>\n",
       "      <td>02/08/2017</td>\n",
       "      <td>Leverage Edu</td>\n",
       "      <td>Consumer Internet</td>\n",
       "      <td>Online platform for Higher Education Services</td>\n",
       "      <td>New Delhi</td>\n",
       "      <td>Kashyap Deorah, Anand Sankeshwar, Deepak Jain,...</td>\n",
       "      <td>Seed Funding</td>\n",
       "      <td>NaN</td>\n",
       "      <td>NaN</td>\n",
       "    </tr>\n",
       "    <tr>\n",
       "      <th>3</th>\n",
       "      <td>3</td>\n",
       "      <td>02/08/2017</td>\n",
       "      <td>Zepo</td>\n",
       "      <td>Consumer Internet</td>\n",
       "      <td>DIY Ecommerce platform</td>\n",
       "      <td>Mumbai</td>\n",
       "      <td>Kunal Shah, LetsVenture, Anupam Mittal, Hetal ...</td>\n",
       "      <td>Seed Funding</td>\n",
       "      <td>500,000</td>\n",
       "      <td>NaN</td>\n",
       "    </tr>\n",
       "    <tr>\n",
       "      <th>4</th>\n",
       "      <td>4</td>\n",
       "      <td>02/08/2017</td>\n",
       "      <td>Click2Clinic</td>\n",
       "      <td>Consumer Internet</td>\n",
       "      <td>healthcare service aggregator</td>\n",
       "      <td>Hyderabad</td>\n",
       "      <td>Narottam Thudi, Shireesh Palle</td>\n",
       "      <td>Seed Funding</td>\n",
       "      <td>850,000</td>\n",
       "      <td>NaN</td>\n",
       "    </tr>\n",
       "  </tbody>\n",
       "</table>\n",
       "</div>"
      ],
      "text/plain": [
       "   SNo        Date   StartupName   IndustryVertical  \\\n",
       "0    0  01/08/2017      TouchKin         Technology   \n",
       "1    1  02/08/2017       Ethinos         Technology   \n",
       "2    2  02/08/2017  Leverage Edu  Consumer Internet   \n",
       "3    3  02/08/2017          Zepo  Consumer Internet   \n",
       "4    4  02/08/2017  Click2Clinic  Consumer Internet   \n",
       "\n",
       "                                     SubVertical CityLocation  \\\n",
       "0                       Predictive Care Platform    Bangalore   \n",
       "1                       Digital Marketing Agency       Mumbai   \n",
       "2  Online platform for Higher Education Services    New Delhi   \n",
       "3                         DIY Ecommerce platform       Mumbai   \n",
       "4                  healthcare service aggregator    Hyderabad   \n",
       "\n",
       "                                       InvestorsName  InvestmentType  \\\n",
       "0                                        Kae Capital  Private Equity   \n",
       "1                         Triton Investment Advisors  Private Equity   \n",
       "2  Kashyap Deorah, Anand Sankeshwar, Deepak Jain,...    Seed Funding   \n",
       "3  Kunal Shah, LetsVenture, Anupam Mittal, Hetal ...    Seed Funding   \n",
       "4                     Narottam Thudi, Shireesh Palle    Seed Funding   \n",
       "\n",
       "  AmountInUSD Remarks  \n",
       "0   1,300,000     NaN  \n",
       "1         NaN     NaN  \n",
       "2         NaN     NaN  \n",
       "3     500,000     NaN  \n",
       "4     850,000     NaN  "
      ]
     },
     "execution_count": 1,
     "metadata": {},
     "output_type": "execute_result"
    }
   ],
   "source": [
    "import pandas as pd\n",
    "df=pd.read_csv('0000000000002370.csv')\n",
    "df.head()"
   ]
  },
  {
   "cell_type": "code",
   "execution_count": 2,
   "id": "697b341c",
   "metadata": {},
   "outputs": [],
   "source": [
    "df['CityLocation']=df['CityLocation'].replace('bangalore','Bangalore')"
   ]
  },
  {
   "cell_type": "code",
   "execution_count": 5,
   "id": "6162cad2",
   "metadata": {},
   "outputs": [],
   "source": [
    "df['CityLocation']=df['CityLocation'].replace('Delhi','New Delhi')"
   ]
  },
  {
   "cell_type": "code",
   "execution_count": 14,
   "id": "6bf20872",
   "metadata": {},
   "outputs": [
    {
     "data": {
      "text/html": [
       "<div>\n",
       "<style scoped>\n",
       "    .dataframe tbody tr th:only-of-type {\n",
       "        vertical-align: middle;\n",
       "    }\n",
       "\n",
       "    .dataframe tbody tr th {\n",
       "        vertical-align: top;\n",
       "    }\n",
       "\n",
       "    .dataframe thead th {\n",
       "        text-align: right;\n",
       "    }\n",
       "</style>\n",
       "<table border=\"1\" class=\"dataframe\">\n",
       "  <thead>\n",
       "    <tr style=\"text-align: right;\">\n",
       "      <th></th>\n",
       "      <th>SNo</th>\n",
       "      <th>Date</th>\n",
       "      <th>StartupName</th>\n",
       "      <th>IndustryVertical</th>\n",
       "      <th>SubVertical</th>\n",
       "      <th>CityLocation</th>\n",
       "      <th>InvestorsName</th>\n",
       "      <th>InvestmentType</th>\n",
       "      <th>AmountInUSD</th>\n",
       "      <th>Remarks</th>\n",
       "    </tr>\n",
       "  </thead>\n",
       "  <tbody>\n",
       "    <tr>\n",
       "      <th>0</th>\n",
       "      <td>0</td>\n",
       "      <td>01/08/2017</td>\n",
       "      <td>TouchKin</td>\n",
       "      <td>Technology</td>\n",
       "      <td>Predictive Care Platform</td>\n",
       "      <td>Bangalore</td>\n",
       "      <td>Kae Capital</td>\n",
       "      <td>Private Equity</td>\n",
       "      <td>1,300,000</td>\n",
       "      <td>NaN</td>\n",
       "    </tr>\n",
       "    <tr>\n",
       "      <th>2</th>\n",
       "      <td>2</td>\n",
       "      <td>02/08/2017</td>\n",
       "      <td>Leverage Edu</td>\n",
       "      <td>Consumer Internet</td>\n",
       "      <td>Online platform for Higher Education Services</td>\n",
       "      <td>New Delhi</td>\n",
       "      <td>Kashyap Deorah, Anand Sankeshwar, Deepak Jain,...</td>\n",
       "      <td>Seed Funding</td>\n",
       "      <td>NaN</td>\n",
       "      <td>NaN</td>\n",
       "    </tr>\n",
       "    <tr>\n",
       "      <th>5</th>\n",
       "      <td>5</td>\n",
       "      <td>01/07/2017</td>\n",
       "      <td>Billion Loans</td>\n",
       "      <td>Consumer Internet</td>\n",
       "      <td>Peer to Peer Lending platform</td>\n",
       "      <td>Bangalore</td>\n",
       "      <td>Reliance Corporate Advisory Services Ltd</td>\n",
       "      <td>Seed Funding</td>\n",
       "      <td>1,000,000</td>\n",
       "      <td>NaN</td>\n",
       "    </tr>\n",
       "    <tr>\n",
       "      <th>8</th>\n",
       "      <td>8</td>\n",
       "      <td>05/07/2017</td>\n",
       "      <td>Jumbotail</td>\n",
       "      <td>eCommerce</td>\n",
       "      <td>online marketplace for food and grocery</td>\n",
       "      <td>Bangalore</td>\n",
       "      <td>Kalaari Capital, Nexus India Capital Advisors</td>\n",
       "      <td>Private Equity</td>\n",
       "      <td>8,500,000</td>\n",
       "      <td>NaN</td>\n",
       "    </tr>\n",
       "    <tr>\n",
       "      <th>11</th>\n",
       "      <td>11</td>\n",
       "      <td>06/07/2017</td>\n",
       "      <td>Minjar</td>\n",
       "      <td>Technology</td>\n",
       "      <td>Cloud Solutions provider</td>\n",
       "      <td>Bangalore</td>\n",
       "      <td>Blume Ventures, Contrarian Capital India Partn...</td>\n",
       "      <td>Seed Funding</td>\n",
       "      <td>NaN</td>\n",
       "      <td>NaN</td>\n",
       "    </tr>\n",
       "  </tbody>\n",
       "</table>\n",
       "</div>"
      ],
      "text/plain": [
       "    SNo        Date    StartupName   IndustryVertical  \\\n",
       "0     0  01/08/2017       TouchKin         Technology   \n",
       "2     2  02/08/2017   Leverage Edu  Consumer Internet   \n",
       "5     5  01/07/2017  Billion Loans  Consumer Internet   \n",
       "8     8  05/07/2017      Jumbotail          eCommerce   \n",
       "11   11  06/07/2017         Minjar         Technology   \n",
       "\n",
       "                                      SubVertical CityLocation  \\\n",
       "0                        Predictive Care Platform    Bangalore   \n",
       "2   Online platform for Higher Education Services    New Delhi   \n",
       "5                   Peer to Peer Lending platform    Bangalore   \n",
       "8         online marketplace for food and grocery    Bangalore   \n",
       "11                       Cloud Solutions provider    Bangalore   \n",
       "\n",
       "                                        InvestorsName  InvestmentType  \\\n",
       "0                                         Kae Capital  Private Equity   \n",
       "2   Kashyap Deorah, Anand Sankeshwar, Deepak Jain,...    Seed Funding   \n",
       "5            Reliance Corporate Advisory Services Ltd    Seed Funding   \n",
       "8       Kalaari Capital, Nexus India Capital Advisors  Private Equity   \n",
       "11  Blume Ventures, Contrarian Capital India Partn...    Seed Funding   \n",
       "\n",
       "   AmountInUSD Remarks  \n",
       "0    1,300,000     NaN  \n",
       "2          NaN     NaN  \n",
       "5    1,000,000     NaN  \n",
       "8    8,500,000     NaN  \n",
       "11         NaN     NaN  "
      ]
     },
     "execution_count": 14,
     "metadata": {},
     "output_type": "execute_result"
    }
   ],
   "source": [
    "final_df=df[(df['CityLocation']=='Bangalore') | (df['CityLocation']=='New Delhi')]\n",
    "final_df.head()"
   ]
  },
  {
   "cell_type": "code",
   "execution_count": 16,
   "id": "0f73d904",
   "metadata": {},
   "outputs": [
    {
     "data": {
      "text/html": [
       "<div>\n",
       "<style scoped>\n",
       "    .dataframe tbody tr th:only-of-type {\n",
       "        vertical-align: middle;\n",
       "    }\n",
       "\n",
       "    .dataframe tbody tr th {\n",
       "        vertical-align: top;\n",
       "    }\n",
       "\n",
       "    .dataframe thead th {\n",
       "        text-align: right;\n",
       "    }\n",
       "</style>\n",
       "<table border=\"1\" class=\"dataframe\">\n",
       "  <thead>\n",
       "    <tr style=\"text-align: right;\">\n",
       "      <th></th>\n",
       "      <th>AmountInUSD</th>\n",
       "    </tr>\n",
       "  </thead>\n",
       "  <tbody>\n",
       "    <tr>\n",
       "      <th>0</th>\n",
       "      <td>1,300,000</td>\n",
       "    </tr>\n",
       "    <tr>\n",
       "      <th>2</th>\n",
       "      <td>NaN</td>\n",
       "    </tr>\n",
       "    <tr>\n",
       "      <th>5</th>\n",
       "      <td>1,000,000</td>\n",
       "    </tr>\n",
       "    <tr>\n",
       "      <th>8</th>\n",
       "      <td>8,500,000</td>\n",
       "    </tr>\n",
       "    <tr>\n",
       "      <th>11</th>\n",
       "      <td>NaN</td>\n",
       "    </tr>\n",
       "    <tr>\n",
       "      <th>...</th>\n",
       "      <td>...</td>\n",
       "    </tr>\n",
       "    <tr>\n",
       "      <th>2190</th>\n",
       "      <td>10,000,000</td>\n",
       "    </tr>\n",
       "    <tr>\n",
       "      <th>2191</th>\n",
       "      <td>NaN</td>\n",
       "    </tr>\n",
       "    <tr>\n",
       "      <th>2196</th>\n",
       "      <td>3,500,000</td>\n",
       "    </tr>\n",
       "    <tr>\n",
       "      <th>2197</th>\n",
       "      <td>NaN</td>\n",
       "    </tr>\n",
       "    <tr>\n",
       "      <th>2198</th>\n",
       "      <td>400,000</td>\n",
       "    </tr>\n",
       "  </tbody>\n",
       "</table>\n",
       "<p>1013 rows × 1 columns</p>\n",
       "</div>"
      ],
      "text/plain": [
       "     AmountInUSD\n",
       "0      1,300,000\n",
       "2            NaN\n",
       "5      1,000,000\n",
       "8      8,500,000\n",
       "11           NaN\n",
       "...          ...\n",
       "2190  10,000,000\n",
       "2191         NaN\n",
       "2196   3,500,000\n",
       "2197         NaN\n",
       "2198     400,000\n",
       "\n",
       "[1013 rows x 1 columns]"
      ]
     },
     "execution_count": 16,
     "metadata": {},
     "output_type": "execute_result"
    }
   ],
   "source": [
    "final_df=final_df[['AmountInUSD']]\n",
    "final_df"
   ]
  },
  {
   "cell_type": "code",
   "execution_count": 17,
   "id": "34c1c571",
   "metadata": {
    "scrolled": true
   },
   "outputs": [
    {
     "name": "stderr",
     "output_type": "stream",
     "text": [
      "C:\\Users\\mohan\\anaconda3\\lib\\site-packages\\pandas\\util\\_decorators.py:311: SettingWithCopyWarning: \n",
      "A value is trying to be set on a copy of a slice from a DataFrame\n",
      "\n",
      "See the caveats in the documentation: https://pandas.pydata.org/pandas-docs/stable/user_guide/indexing.html#returning-a-view-versus-a-copy\n",
      "  return func(*args, **kwargs)\n"
     ]
    },
    {
     "data": {
      "text/html": [
       "<div>\n",
       "<style scoped>\n",
       "    .dataframe tbody tr th:only-of-type {\n",
       "        vertical-align: middle;\n",
       "    }\n",
       "\n",
       "    .dataframe tbody tr th {\n",
       "        vertical-align: top;\n",
       "    }\n",
       "\n",
       "    .dataframe thead th {\n",
       "        text-align: right;\n",
       "    }\n",
       "</style>\n",
       "<table border=\"1\" class=\"dataframe\">\n",
       "  <thead>\n",
       "    <tr style=\"text-align: right;\">\n",
       "      <th></th>\n",
       "      <th>AmountInUSD</th>\n",
       "    </tr>\n",
       "  </thead>\n",
       "  <tbody>\n",
       "    <tr>\n",
       "      <th>0</th>\n",
       "      <td>1,300,000</td>\n",
       "    </tr>\n",
       "    <tr>\n",
       "      <th>5</th>\n",
       "      <td>1,000,000</td>\n",
       "    </tr>\n",
       "    <tr>\n",
       "      <th>8</th>\n",
       "      <td>8,500,000</td>\n",
       "    </tr>\n",
       "    <tr>\n",
       "      <th>13</th>\n",
       "      <td>1,000,000</td>\n",
       "    </tr>\n",
       "    <tr>\n",
       "      <th>19</th>\n",
       "      <td>18,500,000</td>\n",
       "    </tr>\n",
       "    <tr>\n",
       "      <th>...</th>\n",
       "      <td>...</td>\n",
       "    </tr>\n",
       "    <tr>\n",
       "      <th>2178</th>\n",
       "      <td>15,000,000</td>\n",
       "    </tr>\n",
       "    <tr>\n",
       "      <th>2181</th>\n",
       "      <td>500,000</td>\n",
       "    </tr>\n",
       "    <tr>\n",
       "      <th>2190</th>\n",
       "      <td>10,000,000</td>\n",
       "    </tr>\n",
       "    <tr>\n",
       "      <th>2196</th>\n",
       "      <td>3,500,000</td>\n",
       "    </tr>\n",
       "    <tr>\n",
       "      <th>2198</th>\n",
       "      <td>400,000</td>\n",
       "    </tr>\n",
       "  </tbody>\n",
       "</table>\n",
       "<p>618 rows × 1 columns</p>\n",
       "</div>"
      ],
      "text/plain": [
       "     AmountInUSD\n",
       "0      1,300,000\n",
       "5      1,000,000\n",
       "8      8,500,000\n",
       "13     1,000,000\n",
       "19    18,500,000\n",
       "...          ...\n",
       "2178  15,000,000\n",
       "2181     500,000\n",
       "2190  10,000,000\n",
       "2196   3,500,000\n",
       "2198     400,000\n",
       "\n",
       "[618 rows x 1 columns]"
      ]
     },
     "execution_count": 17,
     "metadata": {},
     "output_type": "execute_result"
    }
   ],
   "source": [
    "final_df.dropna(inplace=True)\n",
    "final_df"
   ]
  },
  {
   "cell_type": "code",
   "execution_count": 20,
   "id": "9b7e945e",
   "metadata": {},
   "outputs": [
    {
     "data": {
      "text/plain": [
       "0        1,300,000\n",
       "5        1,000,000\n",
       "8        8,500,000\n",
       "13       1,000,000\n",
       "19      18,500,000\n",
       "           ...    \n",
       "2178    15,000,000\n",
       "2181       500,000\n",
       "2190    10,000,000\n",
       "2196     3,500,000\n",
       "2198       400,000\n",
       "Name: AmountInUSD, Length: 618, dtype: object"
      ]
     },
     "execution_count": 20,
     "metadata": {},
     "output_type": "execute_result"
    }
   ],
   "source": [
    "amt=final_df['AmountInUSD']"
   ]
  },
  {
   "cell_type": "code",
   "execution_count": 24,
   "id": "77013e44",
   "metadata": {},
   "outputs": [
    {
     "data": {
      "text/plain": [
       "0      1300000\n",
       "5      1000000\n",
       "8      8500000\n",
       "13     1000000\n",
       "19    18500000\n",
       "Name: AmountInUSD, dtype: object"
      ]
     },
     "execution_count": 24,
     "metadata": {},
     "output_type": "execute_result"
    }
   ],
   "source": [
    "final_amt=amt.str.replace(',','')\n",
    "final_amt.head()"
   ]
  },
  {
   "cell_type": "code",
   "execution_count": 26,
   "id": "306fb6c1",
   "metadata": {},
   "outputs": [
    {
     "data": {
      "text/plain": [
       "0        1300000\n",
       "5        1000000\n",
       "8        8500000\n",
       "13       1000000\n",
       "19      18500000\n",
       "          ...   \n",
       "2178    15000000\n",
       "2181      500000\n",
       "2190    10000000\n",
       "2196     3500000\n",
       "2198      400000\n",
       "Name: AmountInUSD, Length: 618, dtype: int64"
      ]
     },
     "execution_count": 26,
     "metadata": {},
     "output_type": "execute_result"
    }
   ],
   "source": [
    "final_amt=pd.to_numeric(final_amt)\n",
    "final_amt"
   ]
  },
  {
   "cell_type": "code",
   "execution_count": 34,
   "id": "a6eecf19",
   "metadata": {},
   "outputs": [
    {
     "data": {
      "text/plain": [
       "18017834.317152105"
      ]
     },
     "execution_count": 34,
     "metadata": {},
     "output_type": "execute_result"
    }
   ],
   "source": [
    "Max=final_amt.max()\n",
    "Min=final_amt.min()\n",
    "Mean=final_amt.mean()\n",
    "Mean"
   ]
  },
  {
   "cell_type": "markdown",
   "id": "c5277bf6",
   "metadata": {},
   "source": [
    "### Without Replacement"
   ]
  },
  {
   "cell_type": "code",
   "execution_count": 28,
   "id": "02421df3",
   "metadata": {
    "scrolled": true
   },
   "outputs": [
    {
     "data": {
      "text/plain": [
       "1128      3000000\n",
       "534       1000000\n",
       "782        675000\n",
       "1565     15000000\n",
       "79       12300000\n",
       "149        500000\n",
       "823       3000000\n",
       "494        500000\n",
       "1520      1000000\n",
       "1954      4850000\n",
       "310        650000\n",
       "43         200000\n",
       "298        191000\n",
       "227        600000\n",
       "402        441000\n",
       "313         50000\n",
       "2129       200000\n",
       "2024     16500000\n",
       "1762     37500000\n",
       "1134       550000\n",
       "1046       500000\n",
       "981        100000\n",
       "131       5000000\n",
       "492      15000000\n",
       "1094      1000000\n",
       "2120      3000000\n",
       "932       6000000\n",
       "1591      2000000\n",
       "2149       200000\n",
       "2115       470000\n",
       "1278    200000000\n",
       "1817     90000000\n",
       "206       5500000\n",
       "941      20000000\n",
       "1697       200000\n",
       "0         1300000\n",
       "1273       125000\n",
       "1716     45000000\n",
       "578        150000\n",
       "1021       900000\n",
       "609       1050000\n",
       "684      50000000\n",
       "226       2000000\n",
       "111       5000000\n",
       "628      25000000\n",
       "232       1000000\n",
       "1101      1000000\n",
       "1492      2000000\n",
       "1295      5000000\n",
       "542       4000000\n",
       "Name: AmountInUSD, dtype: int64"
      ]
     },
     "execution_count": 28,
     "metadata": {},
     "output_type": "execute_result"
    }
   ],
   "source": [
    "sample_size=50\n",
    "sample=final_amt.sample(sample_size,random_state=1)\n",
    "sample"
   ]
  },
  {
   "cell_type": "code",
   "execution_count": 40,
   "id": "41812094",
   "metadata": {},
   "outputs": [
    {
     "data": {
      "text/plain": [
       "pandas.core.series.Series"
      ]
     },
     "execution_count": 40,
     "metadata": {},
     "output_type": "execute_result"
    }
   ],
   "source": [
    "type(sample)"
   ]
  },
  {
   "cell_type": "code",
   "execution_count": 33,
   "id": "c339ad98",
   "metadata": {},
   "outputs": [
    {
     "data": {
      "text/plain": [
       "11824040.0"
      ]
     },
     "execution_count": 33,
     "metadata": {},
     "output_type": "execute_result"
    }
   ],
   "source": [
    "Max1=sample.max()\n",
    "Min1=sample.min()\n",
    "Avg1=sample.mean()\n",
    "Avg1"
   ]
  },
  {
   "cell_type": "code",
   "execution_count": 32,
   "id": "45d1701f",
   "metadata": {},
   "outputs": [
    {
     "name": "stdout",
     "output_type": "stream",
     "text": [
      "6193794.317152105\n"
     ]
    }
   ],
   "source": [
    "sampling error=print(Mean-Avg1)"
   ]
  },
  {
   "cell_type": "markdown",
   "id": "286a6d78",
   "metadata": {},
   "source": [
    "## With Replacement"
   ]
  },
  {
   "cell_type": "code",
   "execution_count": 35,
   "id": "f5d527d1",
   "metadata": {},
   "outputs": [
    {
     "data": {
      "text/plain": [
       "119     104500000\n",
       "822       2000000\n",
       "249        750000\n",
       "477       1000000\n",
       "437         22500\n",
       "          ...    \n",
       "863       5000000\n",
       "1252      1000000\n",
       "2114     16000000\n",
       "655       1000000\n",
       "1085        40000\n",
       "Name: AmountInUSD, Length: 75, dtype: int64"
      ]
     },
     "execution_count": 35,
     "metadata": {},
     "output_type": "execute_result"
    }
   ],
   "source": [
    "sample_size=75\n",
    "sample=final_amt.sample(sample_size,random_state=1,replace=True)\n",
    "sample"
   ]
  },
  {
   "cell_type": "code",
   "execution_count": 38,
   "id": "0c8727db",
   "metadata": {},
   "outputs": [
    {
     "data": {
      "text/plain": [
       "6917686.666666667"
      ]
     },
     "execution_count": 38,
     "metadata": {},
     "output_type": "execute_result"
    }
   ],
   "source": [
    "Max2=sample.max()\n",
    "Min2=sample.min()\n",
    "Avg2=sample.mean()\n",
    "Avg2"
   ]
  },
  {
   "cell_type": "code",
   "execution_count": 39,
   "id": "f998fd1d",
   "metadata": {},
   "outputs": [
    {
     "name": "stdout",
     "output_type": "stream",
     "text": [
      "11100147.650485437\n"
     ]
    }
   ],
   "source": [
    "sampling_error1=print(Mean-Avg2)"
   ]
  },
  {
   "cell_type": "code",
   "execution_count": null,
   "id": "858e9c0e",
   "metadata": {},
   "outputs": [],
   "source": []
  }
 ],
 "metadata": {
  "kernelspec": {
   "display_name": "Python 3 (ipykernel)",
   "language": "python",
   "name": "python3"
  },
  "language_info": {
   "codemirror_mode": {
    "name": "ipython",
    "version": 3
   },
   "file_extension": ".py",
   "mimetype": "text/x-python",
   "name": "python",
   "nbconvert_exporter": "python",
   "pygments_lexer": "ipython3",
   "version": "3.9.7"
  }
 },
 "nbformat": 4,
 "nbformat_minor": 5
}
