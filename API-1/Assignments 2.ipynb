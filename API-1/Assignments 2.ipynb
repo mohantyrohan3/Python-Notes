{
 "cells": [
  {
   "cell_type": "code",
   "execution_count": 5,
   "id": "ea4c47a4",
   "metadata": {},
   "outputs": [
    {
     "data": {
      "text/plain": [
       "{'status': 200,\n",
       " 'warning': 'These results do not include state and province holidays. For more information, please visit https://holidayapi.com/docs',\n",
       " 'requests': {'used': 5, 'available': 9995, 'resets': '2022-08-01 00:00:00'},\n",
       " 'holidays': [{'name': 'Republic Day',\n",
       "   'date': '2021-01-26',\n",
       "   'observed': '2021-01-26',\n",
       "   'public': True,\n",
       "   'country': 'IN',\n",
       "   'uuid': '2e10b51e-08a0-4595-a234-f2cf0a1d0863',\n",
       "   'weekday': {'date': {'name': 'Tuesday', 'numeric': '2'},\n",
       "    'observed': {'name': 'Tuesday', 'numeric': '2'}}},\n",
       "  {'name': \"Valentine's Day\",\n",
       "   'date': '2021-02-14',\n",
       "   'observed': '2021-02-14',\n",
       "   'public': False,\n",
       "   'country': 'IN',\n",
       "   'uuid': '0e6de01c-da87-4530-9fa4-d572feee3fa9',\n",
       "   'weekday': {'date': {'name': 'Sunday', 'numeric': '7'},\n",
       "    'observed': {'name': 'Sunday', 'numeric': '7'}}},\n",
       "  {'name': 'March Equinox',\n",
       "   'date': '2021-03-20',\n",
       "   'observed': '2021-03-20',\n",
       "   'public': False,\n",
       "   'country': 'IN',\n",
       "   'uuid': '154cb189-4316-46dc-b982-fb9d743ba81f',\n",
       "   'weekday': {'date': {'name': 'Saturday', 'numeric': '6'},\n",
       "    'observed': {'name': 'Saturday', 'numeric': '6'}}},\n",
       "  {'name': 'Bank Holiday',\n",
       "   'date': '2021-04-01',\n",
       "   'observed': '2021-04-01',\n",
       "   'public': False,\n",
       "   'country': 'IN',\n",
       "   'uuid': 'a6c8f88c-e540-4b81-99c3-3219e9574182',\n",
       "   'weekday': {'date': {'name': 'Thursday', 'numeric': '4'},\n",
       "    'observed': {'name': 'Thursday', 'numeric': '4'}}},\n",
       "  {'name': \"Doctor Ambedkar's Birthday\",\n",
       "   'date': '2021-04-14',\n",
       "   'observed': '2021-04-14',\n",
       "   'public': True,\n",
       "   'country': 'IN',\n",
       "   'uuid': 'd47d215a-677d-41e3-90db-c89ed558045d',\n",
       "   'weekday': {'date': {'name': 'Wednesday', 'numeric': '3'},\n",
       "    'observed': {'name': 'Wednesday', 'numeric': '3'}}},\n",
       "  {'name': \"Mother's Day\",\n",
       "   'date': '2021-05-09',\n",
       "   'observed': '2021-05-09',\n",
       "   'public': False,\n",
       "   'country': 'IN',\n",
       "   'uuid': 'c0dc5da4-87be-422b-b4de-0ca8a5d0c9c4',\n",
       "   'weekday': {'date': {'name': 'Sunday', 'numeric': '7'},\n",
       "    'observed': {'name': 'Sunday', 'numeric': '7'}}},\n",
       "  {'name': \"Father's Day\",\n",
       "   'date': '2021-06-20',\n",
       "   'observed': '2021-06-20',\n",
       "   'public': False,\n",
       "   'country': 'IN',\n",
       "   'uuid': '498c9897-34c0-4057-90d5-e4083d71df41',\n",
       "   'weekday': {'date': {'name': 'Sunday', 'numeric': '7'},\n",
       "    'observed': {'name': 'Sunday', 'numeric': '7'}}},\n",
       "  {'name': 'June Solstice',\n",
       "   'date': '2021-06-21',\n",
       "   'observed': '2021-06-21',\n",
       "   'public': False,\n",
       "   'country': 'IN',\n",
       "   'uuid': '6191ca15-10a5-4915-a2e0-2abb89ba4845',\n",
       "   'weekday': {'date': {'name': 'Monday', 'numeric': '1'},\n",
       "    'observed': {'name': 'Monday', 'numeric': '1'}}},\n",
       "  {'name': 'Friendship Day',\n",
       "   'date': '2021-08-01',\n",
       "   'observed': '2021-08-01',\n",
       "   'public': False,\n",
       "   'country': 'IN',\n",
       "   'uuid': 'f90d0370-e197-4dad-9b42-dbe468c6db49',\n",
       "   'weekday': {'date': {'name': 'Sunday', 'numeric': '7'},\n",
       "    'observed': {'name': 'Sunday', 'numeric': '7'}}},\n",
       "  {'name': 'Independence Day',\n",
       "   'date': '2021-08-15',\n",
       "   'observed': '2021-08-15',\n",
       "   'public': True,\n",
       "   'country': 'IN',\n",
       "   'uuid': 'c0e23dd6-718e-4f17-80fe-33a8feed374f',\n",
       "   'weekday': {'date': {'name': 'Sunday', 'numeric': '7'},\n",
       "    'observed': {'name': 'Sunday', 'numeric': '7'}}},\n",
       "  {'name': 'September Equinox',\n",
       "   'date': '2021-09-22',\n",
       "   'observed': '2021-09-22',\n",
       "   'public': False,\n",
       "   'country': 'IN',\n",
       "   'uuid': 'ca0b7d04-b469-4f1d-b38c-35b7979d58a4',\n",
       "   'weekday': {'date': {'name': 'Wednesday', 'numeric': '3'},\n",
       "    'observed': {'name': 'Wednesday', 'numeric': '3'}}},\n",
       "  {'name': \"Mahatma Gandhi's Birthday\",\n",
       "   'date': '2021-10-02',\n",
       "   'observed': '2021-10-02',\n",
       "   'public': True,\n",
       "   'country': 'IN',\n",
       "   'uuid': 'b1002352-7376-46e1-a265-f667e40b3727',\n",
       "   'weekday': {'date': {'name': 'Saturday', 'numeric': '6'},\n",
       "    'observed': {'name': 'Saturday', 'numeric': '6'}}},\n",
       "  {'name': 'December Solstice',\n",
       "   'date': '2021-12-21',\n",
       "   'observed': '2021-12-21',\n",
       "   'public': False,\n",
       "   'country': 'IN',\n",
       "   'uuid': '9b9d90ef-3053-4781-91c5-0cb093ca66ac',\n",
       "   'weekday': {'date': {'name': 'Tuesday', 'numeric': '2'},\n",
       "    'observed': {'name': 'Tuesday', 'numeric': '2'}}}]}"
      ]
     },
     "execution_count": 5,
     "metadata": {},
     "output_type": "execute_result"
    }
   ],
   "source": [
    "import requests\n",
    "import json\n",
    "\n",
    "p=requests.get(\"https://holidayapi.com/v1/holidays\",params={\"key\":\"e99be17d-f289-4103-8e1a-b0dcf3d8cc86\",\"country\":\"IN\",\"year\":\"2021\",\"date\":\"2021-10-02\"})\n",
    "ans=json.loads(p.text)\n",
    "ans"
   ]
  },
  {
   "cell_type": "code",
   "execution_count": null,
   "id": "eb4cf058",
   "metadata": {},
   "outputs": [],
   "source": []
  },
  {
   "cell_type": "code",
   "execution_count": 9,
   "id": "0e3bda32",
   "metadata": {},
   "outputs": [
    {
     "data": {
      "text/plain": [
       "{'cod': 401,\n",
       " 'message': 'Invalid API key. Please see http://openweathermap.org/faq#error401 for more info.'}"
      ]
     },
     "execution_count": 9,
     "metadata": {},
     "output_type": "execute_result"
    }
   ],
   "source": [
    "import requests\n",
    "import json\n",
    "\n",
    "p=requests.get(\"https://api.openweathermap.org/data/2.5/weather\",params={\"Rohan\":\"3f4b94983ec00e53bf50256f1ba3d66e\"})\n",
    "ans=json.loads(p.text)\n",
    "ans"
   ]
  },
  {
   "cell_type": "code",
   "execution_count": null,
   "id": "512ca56d",
   "metadata": {},
   "outputs": [],
   "source": []
  },
  {
   "cell_type": "code",
   "execution_count": null,
   "id": "4c6c6e10",
   "metadata": {},
   "outputs": [],
   "source": []
  }
 ],
 "metadata": {
  "kernelspec": {
   "display_name": "Python 3 (ipykernel)",
   "language": "python",
   "name": "python3"
  },
  "language_info": {
   "codemirror_mode": {
    "name": "ipython",
    "version": 3
   },
   "file_extension": ".py",
   "mimetype": "text/x-python",
   "name": "python",
   "nbconvert_exporter": "python",
   "pygments_lexer": "ipython3",
   "version": "3.9.7"
  }
 },
 "nbformat": 4,
 "nbformat_minor": 5
}
