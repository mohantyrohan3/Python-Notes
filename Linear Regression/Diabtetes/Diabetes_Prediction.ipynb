{
 "cells": [
  {
   "cell_type": "code",
   "execution_count": 4,
   "id": "43384803",
   "metadata": {},
   "outputs": [],
   "source": [
    "import numpy as np"
   ]
  },
  {
   "cell_type": "code",
   "execution_count": 7,
   "id": "388cef8e",
   "metadata": {},
   "outputs": [
    {
     "data": {
      "text/plain": [
       "array([[-4.91050164e-02, -4.46416365e-02,  1.60854917e-01, ...,\n",
       "         2.80165065e-02,  1.13486232e-02,  3.46000000e+02],\n",
       "       [-7.09002471e-02,  5.06801187e-02, -8.91974838e-02, ...,\n",
       "        -1.29079423e-02, -5.49250874e-02,  1.04000000e+02],\n",
       "       [ 1.75052192e-03, -4.46416365e-02, -7.08746786e-02, ...,\n",
       "        -2.25121719e-02,  7.20651633e-03,  4.90000000e+01],\n",
       "       ...,\n",
       "       [ 2.35457526e-02, -4.46416365e-02,  7.03187031e-02, ...,\n",
       "        -1.91970476e-02, -9.36191133e-03,  2.88000000e+02],\n",
       "       [ 1.62806757e-02,  5.06801187e-02,  7.24743273e-02, ...,\n",
       "        -2.36445576e-02,  6.10539062e-02,  1.31000000e+02],\n",
       "       [-9.14709343e-03,  5.06801187e-02, -3.09956318e-02, ...,\n",
       "         6.20931562e-03,  2.79170509e-02,  4.20000000e+01]])"
      ]
     },
     "execution_count": 7,
     "metadata": {},
     "output_type": "execute_result"
    }
   ],
   "source": [
    "train=np.genfromtxt('train.csv',delimiter=',')\n",
    "train"
   ]
  },
  {
   "cell_type": "code",
   "execution_count": 10,
   "id": "b84b09e4",
   "metadata": {},
   "outputs": [
    {
     "data": {
      "text/plain": [
       "(331, 11)"
      ]
     },
     "execution_count": 10,
     "metadata": {},
     "output_type": "execute_result"
    }
   ],
   "source": [
    "train.shape"
   ]
  },
  {
   "cell_type": "code",
   "execution_count": 18,
   "id": "faab47bf",
   "metadata": {},
   "outputs": [
    {
     "data": {
      "text/plain": [
       "(331, 10)"
      ]
     },
     "execution_count": 18,
     "metadata": {},
     "output_type": "execute_result"
    }
   ],
   "source": [
    "X_train=train[:,:10]\n",
    "X_train.shape"
   ]
  },
  {
   "cell_type": "code",
   "execution_count": 19,
   "id": "b175aaa6",
   "metadata": {},
   "outputs": [
    {
     "data": {
      "text/plain": [
       "(331,)"
      ]
     },
     "execution_count": 19,
     "metadata": {},
     "output_type": "execute_result"
    }
   ],
   "source": [
    "Y_train=train[:,10]\n",
    "Y_train.shape"
   ]
  },
  {
   "cell_type": "code",
   "execution_count": 20,
   "id": "ffc4f097",
   "metadata": {},
   "outputs": [],
   "source": [
    "# Spliting is done"
   ]
  },
  {
   "cell_type": "code",
   "execution_count": 22,
   "id": "3aaca0da",
   "metadata": {},
   "outputs": [
    {
     "data": {
      "text/plain": [
       "(111, 10)"
      ]
     },
     "execution_count": 22,
     "metadata": {},
     "output_type": "execute_result"
    }
   ],
   "source": [
    "X_test= np.genfromtxt('test.csv',delimiter=',')\n",
    "X_test.shape"
   ]
  },
  {
   "cell_type": "code",
   "execution_count": 23,
   "id": "bc7c4f39",
   "metadata": {},
   "outputs": [],
   "source": [
    "# Model Building"
   ]
  },
  {
   "cell_type": "code",
   "execution_count": 24,
   "id": "c5558217",
   "metadata": {},
   "outputs": [],
   "source": [
    "from sklearn.linear_model import LinearRegression\n",
    "algo=LinearRegression()"
   ]
  },
  {
   "cell_type": "code",
   "execution_count": 25,
   "id": "75d4f80e",
   "metadata": {},
   "outputs": [
    {
     "data": {
      "text/plain": [
       "LinearRegression()"
      ]
     },
     "execution_count": 25,
     "metadata": {},
     "output_type": "execute_result"
    }
   ],
   "source": [
    "algo.fit(X_train,Y_train)"
   ]
  },
  {
   "cell_type": "code",
   "execution_count": 36,
   "id": "b2758174",
   "metadata": {},
   "outputs": [
    {
     "data": {
      "text/plain": [
       "150.702574894566"
      ]
     },
     "execution_count": 36,
     "metadata": {},
     "output_type": "execute_result"
    }
   ],
   "source": [
    "algo.intercept_"
   ]
  },
  {
   "cell_type": "code",
   "execution_count": 37,
   "id": "051504a3",
   "metadata": {},
   "outputs": [
    {
     "data": {
      "text/plain": [
       "array([  21.73408096, -256.66866675,  569.60940087,  303.63233545,\n",
       "       -833.11088526,  525.74313633,  136.07129167,  140.89458927,\n",
       "        731.44498492,   53.32119133])"
      ]
     },
     "execution_count": 37,
     "metadata": {},
     "output_type": "execute_result"
    }
   ],
   "source": [
    "algo.coef_"
   ]
  },
  {
   "cell_type": "code",
   "execution_count": 29,
   "id": "313077cf",
   "metadata": {},
   "outputs": [],
   "source": [
    "# Now predicting "
   ]
  },
  {
   "cell_type": "code",
   "execution_count": 45,
   "id": "4adcbd10",
   "metadata": {},
   "outputs": [
    {
     "data": {
      "text/plain": [
       "array([105.52975, 105.80392, 178.60857,  79.38288,  52.95869,  98.87264,\n",
       "       150.71755,  34.86515, 113.13536, 161.50184, 135.86156,  94.71592,\n",
       "       138.48094, 141.37442, 158.76863, 171.65289, 106.44836, 103.9266 ,\n",
       "        95.38694, 167.40118, 166.53426, 101.53465, 252.45036, 147.02259,\n",
       "       214.78907, 161.27557, 210.61315,  71.78092, 189.65032, 206.61343,\n",
       "       219.98643, 168.80193, 116.84846, 178.744  ,  77.03247,  59.54633,\n",
       "       111.56738, 156.95187, 154.59591, 198.94457, 115.53884, 153.46699,\n",
       "        84.9618 , 113.70337, 142.14156, 147.3104 ,  82.78072,  77.89237,\n",
       "       128.99006, 261.58712, 213.31188, 243.98791, 167.68132, 183.69712,\n",
       "       166.85927, 202.1144 , 220.39236, 172.40288, 176.60898, 109.04657,\n",
       "       276.3779 ,  90.99942, 289.37221, 119.56253,  75.45688, 180.78599,\n",
       "       146.62093, 156.42382,  41.07904, 247.90645, 207.99121,  90.09641,\n",
       "       222.2417 , 189.86378, 182.26954, 164.39881, 190.27067, 105.44868,\n",
       "       199.86136, 245.79639, 123.20281, 119.41032, 145.8662 , 206.19247,\n",
       "       150.86282, 142.23222, 154.56875, 115.29233, 134.0781 , 118.42225,\n",
       "       203.57676, 170.66484, 127.4098 ,  57.13508, 231.92227, 185.20714,\n",
       "       187.37495,  83.55921, 185.42586, 217.34036, 108.86715,  80.98715,\n",
       "       127.05524, 242.00739, 155.97234, 125.67575, 246.41236, 234.96393,\n",
       "       191.51298, 168.33254, 163.02965])"
      ]
     },
     "execution_count": 45,
     "metadata": {},
     "output_type": "execute_result"
    }
   ],
   "source": [
    "ans=algo.predict(X_test)\n",
    "ans1=np.around(ans,decimals=5)\n",
    "ans1"
   ]
  },
  {
   "cell_type": "code",
   "execution_count": 34,
   "id": "cc03da8f",
   "metadata": {},
   "outputs": [
    {
     "data": {
      "text/plain": [
       "numpy.ndarray"
      ]
     },
     "execution_count": 34,
     "metadata": {},
     "output_type": "execute_result"
    }
   ],
   "source": [
    "type(ans)"
   ]
  },
  {
   "cell_type": "code",
   "execution_count": 47,
   "id": "ad2b78d2",
   "metadata": {},
   "outputs": [],
   "source": [
    "np.savetxt('prediction.csv',ans1)"
   ]
  }
 ],
 "metadata": {
  "kernelspec": {
   "display_name": "Python 3 (ipykernel)",
   "language": "python",
   "name": "python3"
  },
  "language_info": {
   "codemirror_mode": {
    "name": "ipython",
    "version": 3
   },
   "file_extension": ".py",
   "mimetype": "text/x-python",
   "name": "python",
   "nbconvert_exporter": "python",
   "pygments_lexer": "ipython3",
   "version": "3.9.7"
  }
 },
 "nbformat": 4,
 "nbformat_minor": 5
}
