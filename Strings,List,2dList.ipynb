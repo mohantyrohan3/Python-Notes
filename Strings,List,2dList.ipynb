{
 "cells": [
  {
   "cell_type": "markdown",
   "id": "5b828906",
   "metadata": {},
   "source": [
    "# Strings"
   ]
  },
  {
   "cell_type": "code",
   "execution_count": 2,
   "id": "8989bdb8",
   "metadata": {},
   "outputs": [
    {
     "name": "stdout",
     "output_type": "stream",
     "text": [
      "My name is Rohan\n"
     ]
    },
    {
     "data": {
      "text/plain": [
       "(str, str)"
      ]
     },
     "execution_count": 2,
     "metadata": {},
     "output_type": "execute_result"
    }
   ],
   "source": [
    "# Strings is a combinatiuon of characters \n",
    "a=\"My name is Rohan\"\n",
    "print(a)\n",
    "# there is no such character data type in python , a single character is a one length string\n",
    "b='d'\n",
    "type(a),type(b)"
   ]
  },
  {
   "cell_type": "code",
   "execution_count": 6,
   "id": "79f5b7b6",
   "metadata": {},
   "outputs": [
    {
     "name": "stdout",
     "output_type": "stream",
     "text": [
      "n\n",
      "M\n",
      "y\n",
      " \n",
      "n\n",
      "a\n",
      "m\n",
      "e\n",
      " \n",
      "i\n",
      "s\n",
      " \n",
      "R\n",
      "o\n",
      "h\n",
      "a\n",
      "n\n"
     ]
    }
   ],
   "source": [
    "# Acessing string element by str[index]\n",
    "print(a[3])\n",
    "for i in a: #a is sequence here\n",
    "    print(i)\n",
    "# You cannot replace any char in a string once created"
   ]
  },
  {
   "cell_type": "code",
   "execution_count": 9,
   "id": "20e40584",
   "metadata": {},
   "outputs": [
    {
     "name": "stdout",
     "output_type": "stream",
     "text": [
      "this is rohan's pen\n",
      "this is rohan's penMy name is Rohan\n"
     ]
    },
    {
     "data": {
      "text/plain": [
       "False"
      ]
     },
     "execution_count": 9,
     "metadata": {},
     "output_type": "execute_result"
    }
   ],
   "source": [
    "# How To add both \"\" and '' inside  a single string\n",
    "a='this is rohan\\'s pen'\n",
    "print(a)\n",
    "b='My name is Rohan'\n",
    "a=a+b # We can change the name not the string\n",
    "print(a)\n",
    "a==b # Checking the contents\n",
    "\n"
   ]
  },
  {
   "cell_type": "code",
   "execution_count": 11,
   "id": "4503be81",
   "metadata": {},
   "outputs": [
    {
     "data": {
      "text/plain": [
       "['th', ' ', ' a str']"
      ]
     },
     "execution_count": 11,
     "metadata": {},
     "output_type": "execute_result"
    }
   ],
   "source": [
    "# Split function\n",
    "a= \"this is a str\" \n",
    "a.split() # divides into parts , splits on white spaces(default)\n",
    "a.split(\"is\")"
   ]
  },
  {
   "cell_type": "code",
   "execution_count": 12,
   "id": "ad9b3d8b",
   "metadata": {},
   "outputs": [
    {
     "data": {
      "text/plain": [
       "'thIs Is a str'"
      ]
     },
     "execution_count": 12,
     "metadata": {},
     "output_type": "execute_result"
    }
   ],
   "source": [
    "# Replace Function\n",
    "a.replace(\"is\",\"Is\")"
   ]
  },
  {
   "cell_type": "code",
   "execution_count": 17,
   "id": "447e011d",
   "metadata": {},
   "outputs": [
    {
     "data": {
      "text/plain": [
       "True"
      ]
     },
     "execution_count": 17,
     "metadata": {},
     "output_type": "execute_result"
    }
   ],
   "source": [
    "# Lower and Upper Functions\n",
    "a.upper()\n",
    "a.lower()\n",
    "a.islower()\n",
    "a.isalpha()\n",
    "a.startswith(\"t\")"
   ]
  },
  {
   "cell_type": "code",
   "execution_count": 22,
   "id": "f501b4dc",
   "metadata": {},
   "outputs": [
    {
     "name": "stdout",
     "output_type": "stream",
     "text": [
      "ABCD\n"
     ]
    }
   ],
   "source": [
    "a=\"abcd\"\n",
    "a=a.upper()\n",
    "print(a)"
   ]
  },
  {
   "cell_type": "code",
   "execution_count": 24,
   "id": "0a4b5a7a",
   "metadata": {},
   "outputs": [
    {
     "data": {
      "text/plain": [
       "'Ti s'"
      ]
     },
     "execution_count": 24,
     "metadata": {},
     "output_type": "execute_result"
    }
   ],
   "source": [
    "# Finding substr in  Python is called Slicing\n",
    "a=\"This is Slicing\"\n",
    "a[1:7] # Gives range from index 1 to end index-1\n",
    "a[0:8:2] # 2 here is the skip"
   ]
  },
  {
   "cell_type": "code",
   "execution_count": 25,
   "id": "f8f0ab8b",
   "metadata": {},
   "outputs": [
    {
     "name": "stdout",
     "output_type": "stream",
     "text": [
      "rohanxcvb\n",
      "rohanycvb\n"
     ]
    }
   ],
   "source": [
    "# replace x with y\n",
    "s=input()\n",
    "a='x'\n",
    "b='y'\n",
    "p=s.find(a)\n",
    "if p!=-1:\n",
    "    ans=s[:p]+b+s[p+1:]\n",
    "print(ans)"
   ]
  },
  {
   "cell_type": "code",
   "execution_count": 28,
   "id": "756a5ee9",
   "metadata": {},
   "outputs": [
    {
     "name": "stdout",
     "output_type": "stream",
     "text": [
      "xxc\n",
      "yyc\n",
      "o\n"
     ]
    },
    {
     "data": {
      "text/plain": [
       "'gh'"
      ]
     },
     "execution_count": 28,
     "metadata": {},
     "output_type": "execute_result"
    }
   ],
   "source": [
    "# replace all x with y\n",
    "s=input()\n",
    "a='x'\n",
    "b='y'\n",
    "for i in range(0,len(s)):\n",
    "    if(s[i] == a):\n",
    "        s=s[:i] + b+ s[i+1:]\n",
    "print(s)\n",
    "str1 = 'hello'\n",
    "print(str1[-1:]) #-1 corresponds to last index\n",
    "s = \"abcdefghi\"\n",
    "s[-3:-1]"
   ]
  },
  {
   "cell_type": "code",
   "execution_count": 32,
   "id": "372dfdf6",
   "metadata": {},
   "outputs": [
    {
     "name": "stdout",
     "output_type": "stream",
     "text": [
      "racecar\n"
     ]
    }
   ],
   "source": [
    "# Revrese of string\n",
    "string=\"racecar\" \n",
    "ans=string[-1:-len(string)-1:-1]\n",
    "print(ans)"
   ]
  },
  {
   "cell_type": "markdown",
   "id": "2c1966b8",
   "metadata": {},
   "source": [
    "# Lists"
   ]
  },
  {
   "cell_type": "code",
   "execution_count": 3,
   "id": "3356637b",
   "metadata": {},
   "outputs": [
    {
     "data": {
      "text/plain": [
       "[1, 2, 3]"
      ]
     },
     "execution_count": 3,
     "metadata": {},
     "output_type": "execute_result"
    }
   ],
   "source": [
    "a=[1,2,3]\n",
    "type(a)\n",
    "a"
   ]
  },
  {
   "cell_type": "code",
   "execution_count": 11,
   "id": "fbc1a395",
   "metadata": {},
   "outputs": [
    {
     "name": "stdout",
     "output_type": "stream",
     "text": [
      "[True, 'abc', 56]\n"
     ]
    },
    {
     "data": {
      "text/plain": [
       "[1, 2, 3, 4, 5, 6, 7, 8, 9]"
      ]
     },
     "execution_count": 11,
     "metadata": {},
     "output_type": "execute_result"
    }
   ],
   "source": [
    "a=[1,2,3,4]\n",
    "# Unlike strings we can change data in lists\n",
    "a[1]=5\n",
    "a\n",
    "# Lists can store any type of data\n",
    "a=[True,\"abc\",56]\n",
    "print(a)\n",
    "# Lists are dynamic in size\n",
    "b=[i for i in range(1,10)]\n",
    "b"
   ]
  },
  {
   "cell_type": "markdown",
   "id": "02163d60",
   "metadata": {},
   "source": [
    "## Lists Inbuilt functions"
   ]
  },
  {
   "cell_type": "code",
   "execution_count": 9,
   "id": "c5e85dbe",
   "metadata": {},
   "outputs": [
    {
     "data": {
      "text/plain": [
       "[1, 10, 2, 3, 4, 5, 5, 6, 7]"
      ]
     },
     "execution_count": 9,
     "metadata": {},
     "output_type": "execute_result"
    }
   ],
   "source": [
    "# len() for length of lists\n",
    "a=[1,2,3,4]\n",
    "len(a)\n",
    "# We cannot concatinate lists with a int but we can concatinate 2 lists\n",
    "b=[5,6,7]\n",
    "# errot a+3\n",
    "a+b\n",
    "# error a*b \n",
    "a*3\n",
    "# a.append() appends at the end\n",
    "a.append(5)\n",
    "a.insert(1,10) # insert() is used for inserting at a specific index\n",
    "a\n",
    "a.extend(b) # appends b at the end of a\n",
    "a\n"
   ]
  },
  {
   "cell_type": "code",
   "execution_count": 15,
   "id": "553b36b7",
   "metadata": {},
   "outputs": [
    {
     "data": {
      "text/plain": [
       "[5, 7]"
      ]
     },
     "execution_count": 15,
     "metadata": {},
     "output_type": "execute_result"
    }
   ],
   "source": [
    "# delelte data\n",
    "# a.remove(10) # remove() it removes the value if preesent in the lists\n",
    "a.pop(0) # removes the number present in the given index , by default it pops out last element\n",
    "a\n",
    "del a[1]\n",
    "a"
   ]
  },
  {
   "cell_type": "code",
   "execution_count": 20,
   "id": "f53d6670",
   "metadata": {},
   "outputs": [
    {
     "data": {
      "text/plain": [
       "False"
      ]
     },
     "execution_count": 20,
     "metadata": {},
     "output_type": "execute_result"
    }
   ],
   "source": [
    "a=[3,1,5,4,3]\n",
    "a.sort() # Sorts the complete list (uniform data types)\n",
    "a\n",
    "max(a) # gives max elemnt in the list (uniform data types)\n",
    "100 in b # checks whether element is present in it"
   ]
  },
  {
   "cell_type": "markdown",
   "id": "1dda909a",
   "metadata": {},
   "source": [
    "## Taking Input in lists"
   ]
  },
  {
   "cell_type": "code",
   "execution_count": 1,
   "id": "63b80ff2",
   "metadata": {},
   "outputs": [
    {
     "name": "stdout",
     "output_type": "stream",
     "text": [
      "1 2 4 5 6\n"
     ]
    },
    {
     "ename": "ValueError",
     "evalue": "invalid literal for int() with base 10: '1 2 4 5 6'",
     "output_type": "error",
     "traceback": [
      "\u001b[1;31m---------------------------------------------------------------------------\u001b[0m",
      "\u001b[1;31mValueError\u001b[0m                                Traceback (most recent call last)",
      "\u001b[1;32m~\\AppData\\Local\\Temp/ipykernel_45080/3383124755.py\u001b[0m in \u001b[0;36m<module>\u001b[1;34m\u001b[0m\n\u001b[1;32m----> 1\u001b[1;33m \u001b[0mn\u001b[0m\u001b[1;33m=\u001b[0m\u001b[0mint\u001b[0m\u001b[1;33m(\u001b[0m\u001b[0minput\u001b[0m\u001b[1;33m(\u001b[0m\u001b[1;33m)\u001b[0m\u001b[1;33m)\u001b[0m\u001b[1;33m\u001b[0m\u001b[1;33m\u001b[0m\u001b[0m\n\u001b[0m\u001b[0;32m      2\u001b[0m \u001b[0ma\u001b[0m\u001b[1;33m=\u001b[0m\u001b[1;33m[\u001b[0m\u001b[1;33m]\u001b[0m\u001b[1;33m\u001b[0m\u001b[1;33m\u001b[0m\u001b[0m\n\u001b[0;32m      3\u001b[0m \u001b[1;32mfor\u001b[0m \u001b[0mi\u001b[0m \u001b[1;32min\u001b[0m \u001b[0mrange\u001b[0m\u001b[1;33m(\u001b[0m\u001b[1;36m0\u001b[0m\u001b[1;33m,\u001b[0m\u001b[0mn\u001b[0m\u001b[1;33m)\u001b[0m\u001b[1;33m:\u001b[0m\u001b[1;33m\u001b[0m\u001b[1;33m\u001b[0m\u001b[0m\n\u001b[0;32m      4\u001b[0m     \u001b[0mx\u001b[0m\u001b[1;33m=\u001b[0m\u001b[0mint\u001b[0m\u001b[1;33m(\u001b[0m\u001b[0minput\u001b[0m\u001b[1;33m(\u001b[0m\u001b[1;33m)\u001b[0m\u001b[1;33m)\u001b[0m\u001b[1;33m\u001b[0m\u001b[1;33m\u001b[0m\u001b[0m\n\u001b[0;32m      5\u001b[0m     \u001b[0ma\u001b[0m\u001b[1;33m.\u001b[0m\u001b[0mappend\u001b[0m\u001b[1;33m(\u001b[0m\u001b[0mx\u001b[0m\u001b[1;33m)\u001b[0m\u001b[1;33m\u001b[0m\u001b[1;33m\u001b[0m\u001b[0m\n",
      "\u001b[1;31mValueError\u001b[0m: invalid literal for int() with base 10: '1 2 4 5 6'"
     ]
    }
   ],
   "source": [
    "n=int(input())\n",
    "a=[]\n",
    "for i in range(0,n):\n",
    "    x=int(input())\n",
    "    a.append(x)\n",
    "a"
   ]
  },
  {
   "cell_type": "code",
   "execution_count": 29,
   "id": "bf7eed69",
   "metadata": {},
   "outputs": [
    {
     "name": "stdout",
     "output_type": "stream",
     "text": [
      "1 2 3 4 5\n"
     ]
    },
    {
     "data": {
      "text/plain": [
       "[1, 2, 3, 4, 5]"
      ]
     },
     "execution_count": 29,
     "metadata": {},
     "output_type": "execute_result"
    }
   ],
   "source": [
    "# another way of taking input 1 2 3 4 5\n",
    "line=input()\n",
    "a=[]\n",
    "l=line.split()\n",
    "for s in l:\n",
    "    a.append(int(s))\n",
    "a"
   ]
  },
  {
   "cell_type": "code",
   "execution_count": 2,
   "id": "1a7b43e6",
   "metadata": {},
   "outputs": [
    {
     "name": "stdout",
     "output_type": "stream",
     "text": [
      "1 2 3 4 5\n"
     ]
    },
    {
     "data": {
      "text/plain": [
       "[1, 2, 3, 4, 5]"
      ]
     },
     "execution_count": 2,
     "metadata": {},
     "output_type": "execute_result"
    }
   ],
   "source": [
    "# Another approach Better Approach\n",
    "l=input().split()\n",
    "a=[int(i) for i in l]# Python Function to print leaders in array\n",
    "a"
   ]
  },
  {
   "cell_type": "code",
   "execution_count": 35,
   "id": "3e18ef95",
   "metadata": {},
   "outputs": [
    {
     "name": "stdout",
     "output_type": "stream",
     "text": [
      "1 2 3\n"
     ]
    },
    {
     "data": {
      "text/plain": [
       "[1, 2, 3]"
      ]
     },
     "execution_count": 35,
     "metadata": {},
     "output_type": "execute_result"
    }
   ],
   "source": [
    "# Python Function to print leaders in array\n",
    "\n",
    "def printLeaders(arr,size):\n",
    "\t\n",
    "\tfor i in range(0, size):\n",
    "\t\tfor j in range(i+1, size):\n",
    "\t\t\tif arr[i]<=arr[j]:\n",
    "\t\t\t\tbreak\n",
    "\t\tif j == size-1: # If loop didn't break\n",
    "\t\t\tprint (arr[i],end=' ')\n",
    "\n",
    "# Driver function\n",
    "arr=[16, 17, 4, 3, 5, 2]\n",
    "printLeaders(arr, len(arr))\n",
    "\n",
    "# This code is contributed by _Devesh Agrawal__\n",
    "\n",
    "a"
   ]
  },
  {
   "cell_type": "code",
   "execution_count": 38,
   "id": "d5e77cf5",
   "metadata": {},
   "outputs": [
    {
     "name": "stdout",
     "output_type": "stream",
     "text": [
      "1\n",
      "-1\n"
     ]
    }
   ],
   "source": [
    "# Difference between odd and even elements\n",
    "l=[int(i) for i in input().split()]\n",
    "even=0\n",
    "odd=0\n",
    "for i in l:\n",
    "    if i%2==0:\n",
    "        even=even+i\n",
    "    else:\n",
    "        odd=odd+i\n",
    "print(even-odd)"
   ]
  },
  {
   "cell_type": "code",
   "execution_count": 44,
   "id": "ea5c2737",
   "metadata": {},
   "outputs": [
    {
     "data": {
      "text/plain": [
       "[5, 4, 3, 2, 1]"
      ]
     },
     "execution_count": 44,
     "metadata": {},
     "output_type": "execute_result"
    }
   ],
   "source": [
    "# Slicing\n",
    "a=[1,2,3,4,5]\n",
    "a[1:4:2] # Slicing occurs for si to end index-1\n",
    "a[::1]\n",
    "a[::-1] # by default it starts from end vertex -1 to 0\n"
   ]
  }
 ],
 "metadata": {
  "kernelspec": {
   "display_name": "Python 3 (ipykernel)",
   "language": "python",
   "name": "python3"
  },
  "language_info": {
   "codemirror_mode": {
    "name": "ipython",
    "version": 3
   },
   "file_extension": ".py",
   "mimetype": "text/x-python",
   "name": "python",
   "nbconvert_exporter": "python",
   "pygments_lexer": "ipython3",
   "version": "3.9.7"
  }
 },
 "nbformat": 4,
 "nbformat_minor": 5
}
