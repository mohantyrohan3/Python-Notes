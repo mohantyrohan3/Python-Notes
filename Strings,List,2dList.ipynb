{
 "cells": [
  {
   "cell_type": "markdown",
   "id": "5b828906",
   "metadata": {},
   "source": [
    "# Strings"
   ]
  },
  {
   "cell_type": "code",
   "execution_count": 2,
   "id": "8989bdb8",
   "metadata": {},
   "outputs": [
    {
     "name": "stdout",
     "output_type": "stream",
     "text": [
      "My name is Rohan\n"
     ]
    },
    {
     "data": {
      "text/plain": [
       "(str, str)"
      ]
     },
     "execution_count": 2,
     "metadata": {},
     "output_type": "execute_result"
    }
   ],
   "source": [
    "# Strings is a combinatiuon of characters \n",
    "a=\"My name is Rohan\"\n",
    "print(a)\n",
    "# there is no such character data type in python , a single character is a one length string\n",
    "b='d'\n",
    "type(a),type(b)"
   ]
  },
  {
   "cell_type": "code",
   "execution_count": 6,
   "id": "79f5b7b6",
   "metadata": {},
   "outputs": [
    {
     "name": "stdout",
     "output_type": "stream",
     "text": [
      "n\n",
      "M\n",
      "y\n",
      " \n",
      "n\n",
      "a\n",
      "m\n",
      "e\n",
      " \n",
      "i\n",
      "s\n",
      " \n",
      "R\n",
      "o\n",
      "h\n",
      "a\n",
      "n\n"
     ]
    }
   ],
   "source": [
    "# Acessing string element by str[index]\n",
    "print(a[3])\n",
    "for i in a: #a is sequence here\n",
    "    print(i)\n",
    "# You cannot replace any char in a string once created"
   ]
  },
  {
   "cell_type": "code",
   "execution_count": 9,
   "id": "20e40584",
   "metadata": {},
   "outputs": [
    {
     "name": "stdout",
     "output_type": "stream",
     "text": [
      "this is rohan's pen\n",
      "this is rohan's penMy name is Rohan\n"
     ]
    },
    {
     "data": {
      "text/plain": [
       "False"
      ]
     },
     "execution_count": 9,
     "metadata": {},
     "output_type": "execute_result"
    }
   ],
   "source": [
    "# How To add both \"\" and '' inside  a single string\n",
    "a='this is rohan\\'s pen'\n",
    "print(a)\n",
    "b='My name is Rohan'\n",
    "a=a+b # We can change the name not the string\n",
    "print(a)\n",
    "a==b # Checking the contents\n",
    "\n"
   ]
  },
  {
   "cell_type": "code",
   "execution_count": 11,
   "id": "4503be81",
   "metadata": {},
   "outputs": [
    {
     "data": {
      "text/plain": [
       "['th', ' ', ' a str']"
      ]
     },
     "execution_count": 11,
     "metadata": {},
     "output_type": "execute_result"
    }
   ],
   "source": [
    "# Split function\n",
    "a= \"this is a str\" \n",
    "a.split() # divides into parts , splits on white spaces(default)\n",
    "a.split(\"is\")"
   ]
  },
  {
   "cell_type": "code",
   "execution_count": 12,
   "id": "ad9b3d8b",
   "metadata": {},
   "outputs": [
    {
     "data": {
      "text/plain": [
       "'thIs Is a str'"
      ]
     },
     "execution_count": 12,
     "metadata": {},
     "output_type": "execute_result"
    }
   ],
   "source": [
    "# Replace Function\n",
    "a.replace(\"is\",\"Is\")"
   ]
  },
  {
   "cell_type": "code",
   "execution_count": 17,
   "id": "447e011d",
   "metadata": {},
   "outputs": [
    {
     "data": {
      "text/plain": [
       "True"
      ]
     },
     "execution_count": 17,
     "metadata": {},
     "output_type": "execute_result"
    }
   ],
   "source": [
    "# Lower and Upper Functions\n",
    "a.upper()\n",
    "a.lower()\n",
    "a.islower()\n",
    "a.isalpha()\n",
    "a.startswith(\"t\")"
   ]
  },
  {
   "cell_type": "code",
   "execution_count": 22,
   "id": "f501b4dc",
   "metadata": {},
   "outputs": [
    {
     "name": "stdout",
     "output_type": "stream",
     "text": [
      "ABCD\n"
     ]
    }
   ],
   "source": [
    "a=\"abcd\"\n",
    "a=a.upper()\n",
    "print(a)"
   ]
  },
  {
   "cell_type": "code",
   "execution_count": 24,
   "id": "0a4b5a7a",
   "metadata": {},
   "outputs": [
    {
     "data": {
      "text/plain": [
       "'Ti s'"
      ]
     },
     "execution_count": 24,
     "metadata": {},
     "output_type": "execute_result"
    }
   ],
   "source": [
    "# Finding substr in  Python is called Slicing\n",
    "a=\"This is Slicing\"\n",
    "a[1:7] # Gives range from index 1 to end index-1\n",
    "a[0:8:2] # 2 here is the skip"
   ]
  },
  {
   "cell_type": "code",
   "execution_count": 25,
   "id": "f8f0ab8b",
   "metadata": {},
   "outputs": [
    {
     "name": "stdout",
     "output_type": "stream",
     "text": [
      "rohanxcvb\n",
      "rohanycvb\n"
     ]
    }
   ],
   "source": [
    "# replace x with y\n",
    "s=input()\n",
    "a='x'\n",
    "b='y'\n",
    "p=s.find(a)\n",
    "if p!=-1:\n",
    "    ans=s[:p]+b+s[p+1:]\n",
    "print(ans)"
   ]
  },
  {
   "cell_type": "code",
   "execution_count": 28,
   "id": "756a5ee9",
   "metadata": {},
   "outputs": [
    {
     "name": "stdout",
     "output_type": "stream",
     "text": [
      "xxc\n",
      "yyc\n",
      "o\n"
     ]
    },
    {
     "data": {
      "text/plain": [
       "'gh'"
      ]
     },
     "execution_count": 28,
     "metadata": {},
     "output_type": "execute_result"
    }
   ],
   "source": [
    "# replace all x with y\n",
    "s=input()\n",
    "a='x'\n",
    "b='y'\n",
    "for i in range(0,len(s)):\n",
    "    if(s[i] == a):\n",
    "        s=s[:i] + b+ s[i+1:]\n",
    "print(s)\n",
    "str1 = 'hello'\n",
    "print(str1[-1:]) #-1 corresponds to last index\n",
    "s = \"abcdefghi\"\n",
    "s[-3:-1]"
   ]
  },
  {
   "cell_type": "code",
   "execution_count": 32,
   "id": "372dfdf6",
   "metadata": {},
   "outputs": [
    {
     "name": "stdout",
     "output_type": "stream",
     "text": [
      "racecar\n"
     ]
    }
   ],
   "source": [
    "# Revrese of string\n",
    "string=\"racecar\" \n",
    "ans=string[-1:-len(string)-1:-1]\n",
    "print(ans)"
   ]
  }
 ],
 "metadata": {
  "kernelspec": {
   "display_name": "Python 3 (ipykernel)",
   "language": "python",
   "name": "python3"
  },
  "language_info": {
   "codemirror_mode": {
    "name": "ipython",
    "version": 3
   },
   "file_extension": ".py",
   "mimetype": "text/x-python",
   "name": "python",
   "nbconvert_exporter": "python",
   "pygments_lexer": "ipython3",
   "version": "3.9.7"
  }
 },
 "nbformat": 4,
 "nbformat_minor": 5
}
