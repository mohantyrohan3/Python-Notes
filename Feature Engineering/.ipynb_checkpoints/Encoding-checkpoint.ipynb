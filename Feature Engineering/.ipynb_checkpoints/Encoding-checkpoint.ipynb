{
 "cells": [
  {
   "cell_type": "code",
   "execution_count": 1,
   "id": "1f9d95fd",
   "metadata": {},
   "outputs": [],
   "source": [
    "# Simple one hot encoding for multible categorical variables"
   ]
  },
  {
   "cell_type": "code",
   "execution_count": null,
   "id": "942788e2",
   "metadata": {},
   "outputs": [],
   "source": [
    "pd.get_dummies(data,drop_first=True)"
   ]
  },
  {
   "cell_type": "code",
   "execution_count": null,
   "id": "652166e9",
   "metadata": {},
   "outputs": [],
   "source": []
  },
  {
   "cell_type": "code",
   "execution_count": null,
   "id": "7b005c4a",
   "metadata": {},
   "outputs": [],
   "source": []
  },
  {
   "cell_type": "code",
   "execution_count": 2,
   "id": "6a241c00",
   "metadata": {},
   "outputs": [],
   "source": [
    "## Two Types of Encoding \n",
    "## Nominal and Ordinal Encoding"
   ]
  },
  {
   "cell_type": "code",
   "execution_count": 4,
   "id": "9ecbea07",
   "metadata": {},
   "outputs": [],
   "source": [
    "## Nominal - Dont have to worry about the ordering of categorical values  Ex - Gender , State etc"
   ]
  },
  {
   "cell_type": "code",
   "execution_count": 5,
   "id": "51af31ab",
   "metadata": {},
   "outputs": [],
   "source": [
    "## Ordinal - We can rearrange the categories or order the categories Ex- Education column in salary dataset"
   ]
  },
  {
   "cell_type": "code",
   "execution_count": 6,
   "id": "5f999c47",
   "metadata": {},
   "outputs": [],
   "source": [
    "## Nominal Encoding types- 1.One hot encoding 2.One hot encoding with miultiple variables 3.Mean encoding\n",
    "## Ordinal Encoding types - 1.label encoding 2.Target guided ordinal encoding"
   ]
  },
  {
   "cell_type": "code",
   "execution_count": 7,
   "id": "b403445b",
   "metadata": {},
   "outputs": [],
   "source": [
    "# One hot encoding - No of distinct categorical columns will be created for each class in the column"
   ]
  },
  {
   "cell_type": "code",
   "execution_count": 8,
   "id": "cf730d40",
   "metadata": {},
   "outputs": [],
   "source": [
    "# Label Encoding - It provides labels on the basis of rank of the categorical values"
   ]
  },
  {
   "cell_type": "code",
   "execution_count": 9,
   "id": "74b8ab0d",
   "metadata": {},
   "outputs": [],
   "source": [
    "# One hot encoding with multiple variables - Applies one hot encoding to the top 10 repeated values"
   ]
  },
  {
   "cell_type": "code",
   "execution_count": 10,
   "id": "cf9098e7",
   "metadata": {},
   "outputs": [],
   "source": [
    "# Target Guided Ordinal encoding - It applies rank on the basis of mean of the respective categorical values with the output"
   ]
  },
  {
   "cell_type": "code",
   "execution_count": 11,
   "id": "a4a57a49",
   "metadata": {},
   "outputs": [],
   "source": [
    "# Mean Encoding "
   ]
  },
  {
   "cell_type": "markdown",
   "id": "9c19fedc",
   "metadata": {},
   "source": [
    "### Handle Missing Categorical values"
   ]
  },
  {
   "cell_type": "code",
   "execution_count": 13,
   "id": "75a4727a",
   "metadata": {},
   "outputs": [],
   "source": [
    "## Different types of handling categorical values\n",
    "\n",
    "## 1. Delete the rows\n",
    "## 2. Replace with most frequent values\n",
    "## 3. Apply classifier algorithm to predict\n",
    "## 4. Unsupervised Ml"
   ]
  },
  {
   "cell_type": "code",
   "execution_count": 15,
   "id": "d1038ac6",
   "metadata": {},
   "outputs": [],
   "source": [
    "# Count or frequency encoding\n",
    "\n",
    "###  df.X2.value_counts().to_dict()\n",
    "### df_frequency_map = df.X2.value_counts().to_dict()\n",
    "###  df.X2 = df.X2.map(df_frequency_map)\n",
    "\n",
    "### Disadvantages:\n",
    "  ### 1. If some of the labels have the same count, then they will be replaced with the same count and they will loose some valuable information.\n",
    "###   2. Adds somewhat arbitrary numbers, and therefore weights to the different labels, that may not be related to their predictive power\n",
    "\n",
    "\n"
   ]
  },
  {
   "cell_type": "code",
   "execution_count": null,
   "id": "b0052254",
   "metadata": {},
   "outputs": [],
   "source": []
  }
 ],
 "metadata": {
  "kernelspec": {
   "display_name": "Python 3 (ipykernel)",
   "language": "python",
   "name": "python3"
  },
  "language_info": {
   "codemirror_mode": {
    "name": "ipython",
    "version": 3
   },
   "file_extension": ".py",
   "mimetype": "text/x-python",
   "name": "python",
   "nbconvert_exporter": "python",
   "pygments_lexer": "ipython3",
   "version": "3.9.7"
  }
 },
 "nbformat": 4,
 "nbformat_minor": 5
}
