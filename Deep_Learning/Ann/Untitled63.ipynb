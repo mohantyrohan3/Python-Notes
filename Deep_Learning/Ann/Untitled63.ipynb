{
 "cells": [
  {
   "cell_type": "code",
   "execution_count": 1,
   "metadata": {
    "colab": {
     "base_uri": "https://localhost:8080/"
    },
    "id": "KMQO-lpC6lgI",
    "outputId": "827b8b09-d838-4a44-d3e5-3b7a4ba63413",
    "scrolled": true
   },
   "outputs": [
    {
     "name": "stdout",
     "output_type": "stream",
     "text": [
      "Collecting tensorflow-gpu\n",
      "  Downloading tensorflow_gpu-2.10.0-cp39-cp39-win_amd64.whl (455.9 MB)\n",
      "Requirement already satisfied: tensorboard<2.11,>=2.10 in c:\\users\\mohan\\anaconda3\\lib\\site-packages (from tensorflow-gpu) (2.10.0)\n",
      "Requirement already satisfied: absl-py>=1.0.0 in c:\\users\\mohan\\anaconda3\\lib\\site-packages (from tensorflow-gpu) (1.2.0)\n",
      "Requirement already satisfied: keras-preprocessing>=1.1.1 in c:\\users\\mohan\\anaconda3\\lib\\site-packages (from tensorflow-gpu) (1.1.2)\n",
      "Requirement already satisfied: termcolor>=1.1.0 in c:\\users\\mohan\\anaconda3\\lib\\site-packages (from tensorflow-gpu) (2.0.1)\n",
      "Requirement already satisfied: six>=1.12.0 in c:\\users\\mohan\\anaconda3\\lib\\site-packages (from tensorflow-gpu) (1.16.0)\n",
      "Requirement already satisfied: google-pasta>=0.1.1 in c:\\users\\mohan\\anaconda3\\lib\\site-packages (from tensorflow-gpu) (0.2.0)\n",
      "Requirement already satisfied: typing-extensions>=3.6.6 in c:\\users\\mohan\\anaconda3\\lib\\site-packages (from tensorflow-gpu) (3.10.0.2)\n",
      "Requirement already satisfied: opt-einsum>=2.3.2 in c:\\users\\mohan\\anaconda3\\lib\\site-packages (from tensorflow-gpu) (3.3.0)\n",
      "Requirement already satisfied: packaging in c:\\users\\mohan\\anaconda3\\lib\\site-packages (from tensorflow-gpu) (21.0)\n",
      "Requirement already satisfied: wrapt>=1.11.0 in c:\\users\\mohan\\anaconda3\\lib\\site-packages (from tensorflow-gpu) (1.12.1)\n",
      "Requirement already satisfied: keras<2.11,>=2.10.0 in c:\\users\\mohan\\anaconda3\\lib\\site-packages (from tensorflow-gpu) (2.10.0)\n",
      "Requirement already satisfied: tensorflow-io-gcs-filesystem>=0.23.1 in c:\\users\\mohan\\anaconda3\\lib\\site-packages (from tensorflow-gpu) (0.27.0)\n",
      "Requirement already satisfied: libclang>=13.0.0 in c:\\users\\mohan\\anaconda3\\lib\\site-packages (from tensorflow-gpu) (14.0.6)\n",
      "Requirement already satisfied: protobuf<3.20,>=3.9.2 in c:\\users\\mohan\\anaconda3\\lib\\site-packages (from tensorflow-gpu) (3.19.4)\n",
      "Requirement already satisfied: h5py>=2.9.0 in c:\\users\\mohan\\anaconda3\\lib\\site-packages (from tensorflow-gpu) (3.2.1)\n",
      "Requirement already satisfied: gast<=0.4.0,>=0.2.1 in c:\\users\\mohan\\anaconda3\\lib\\site-packages (from tensorflow-gpu) (0.4.0)\n",
      "Requirement already satisfied: grpcio<2.0,>=1.24.3 in c:\\users\\mohan\\anaconda3\\lib\\site-packages (from tensorflow-gpu) (1.48.1)\n",
      "Requirement already satisfied: setuptools in c:\\users\\mohan\\anaconda3\\lib\\site-packages (from tensorflow-gpu) (58.0.4)\n",
      "Requirement already satisfied: astunparse>=1.6.0 in c:\\users\\mohan\\anaconda3\\lib\\site-packages (from tensorflow-gpu) (1.6.3)\n",
      "Requirement already satisfied: tensorflow-estimator<2.11,>=2.10.0 in c:\\users\\mohan\\anaconda3\\lib\\site-packages (from tensorflow-gpu) (2.10.0)\n",
      "Requirement already satisfied: flatbuffers>=2.0 in c:\\users\\mohan\\anaconda3\\lib\\site-packages (from tensorflow-gpu) (2.0.7)\n",
      "Requirement already satisfied: numpy>=1.20 in c:\\users\\mohan\\anaconda3\\lib\\site-packages (from tensorflow-gpu) (1.23.3)\n",
      "Requirement already satisfied: wheel<1.0,>=0.23.0 in c:\\users\\mohan\\anaconda3\\lib\\site-packages (from astunparse>=1.6.0->tensorflow-gpu) (0.37.0)\n",
      "Requirement already satisfied: google-auth-oauthlib<0.5,>=0.4.1 in c:\\users\\mohan\\anaconda3\\lib\\site-packages (from tensorboard<2.11,>=2.10->tensorflow-gpu) (0.4.6)\n",
      "Requirement already satisfied: google-auth<3,>=1.6.3 in c:\\users\\mohan\\anaconda3\\lib\\site-packages (from tensorboard<2.11,>=2.10->tensorflow-gpu) (2.11.0)\n",
      "Requirement already satisfied: werkzeug>=1.0.1 in c:\\users\\mohan\\anaconda3\\lib\\site-packages (from tensorboard<2.11,>=2.10->tensorflow-gpu) (2.0.2)\n",
      "Requirement already satisfied: tensorboard-data-server<0.7.0,>=0.6.0 in c:\\users\\mohan\\anaconda3\\lib\\site-packages (from tensorboard<2.11,>=2.10->tensorflow-gpu) (0.6.1)\n",
      "Requirement already satisfied: tensorboard-plugin-wit>=1.6.0 in c:\\users\\mohan\\anaconda3\\lib\\site-packages (from tensorboard<2.11,>=2.10->tensorflow-gpu) (1.8.1)\n",
      "Requirement already satisfied: requests<3,>=2.21.0 in c:\\users\\mohan\\anaconda3\\lib\\site-packages (from tensorboard<2.11,>=2.10->tensorflow-gpu) (2.26.0)\n",
      "Requirement already satisfied: markdown>=2.6.8 in c:\\users\\mohan\\anaconda3\\lib\\site-packages (from tensorboard<2.11,>=2.10->tensorflow-gpu) (3.4.1)\n",
      "Requirement already satisfied: rsa<5,>=3.1.4 in c:\\users\\mohan\\anaconda3\\lib\\site-packages (from google-auth<3,>=1.6.3->tensorboard<2.11,>=2.10->tensorflow-gpu) (4.9)\n",
      "Requirement already satisfied: pyasn1-modules>=0.2.1 in c:\\users\\mohan\\anaconda3\\lib\\site-packages (from google-auth<3,>=1.6.3->tensorboard<2.11,>=2.10->tensorflow-gpu) (0.2.8)\n",
      "Requirement already satisfied: cachetools<6.0,>=2.0.0 in c:\\users\\mohan\\anaconda3\\lib\\site-packages (from google-auth<3,>=1.6.3->tensorboard<2.11,>=2.10->tensorflow-gpu) (5.2.0)\n",
      "Requirement already satisfied: requests-oauthlib>=0.7.0 in c:\\users\\mohan\\anaconda3\\lib\\site-packages (from google-auth-oauthlib<0.5,>=0.4.1->tensorboard<2.11,>=2.10->tensorflow-gpu) (1.3.1)\n",
      "Requirement already satisfied: importlib-metadata>=4.4 in c:\\users\\mohan\\anaconda3\\lib\\site-packages (from markdown>=2.6.8->tensorboard<2.11,>=2.10->tensorflow-gpu) (4.8.1)\n",
      "Requirement already satisfied: zipp>=0.5 in c:\\users\\mohan\\anaconda3\\lib\\site-packages (from importlib-metadata>=4.4->markdown>=2.6.8->tensorboard<2.11,>=2.10->tensorflow-gpu) (3.6.0)\n",
      "Requirement already satisfied: pyasn1<0.5.0,>=0.4.6 in c:\\users\\mohan\\anaconda3\\lib\\site-packages (from pyasn1-modules>=0.2.1->google-auth<3,>=1.6.3->tensorboard<2.11,>=2.10->tensorflow-gpu) (0.4.8)\n",
      "Requirement already satisfied: certifi>=2017.4.17 in c:\\users\\mohan\\anaconda3\\lib\\site-packages (from requests<3,>=2.21.0->tensorboard<2.11,>=2.10->tensorflow-gpu) (2022.6.15)\n",
      "Requirement already satisfied: charset-normalizer~=2.0.0 in c:\\users\\mohan\\anaconda3\\lib\\site-packages (from requests<3,>=2.21.0->tensorboard<2.11,>=2.10->tensorflow-gpu) (2.0.4)\n",
      "Requirement already satisfied: idna<4,>=2.5 in c:\\users\\mohan\\anaconda3\\lib\\site-packages (from requests<3,>=2.21.0->tensorboard<2.11,>=2.10->tensorflow-gpu) (3.3)\n",
      "Requirement already satisfied: urllib3<1.27,>=1.21.1 in c:\\users\\mohan\\anaconda3\\lib\\site-packages (from requests<3,>=2.21.0->tensorboard<2.11,>=2.10->tensorflow-gpu) (1.26.11)\n",
      "Requirement already satisfied: oauthlib>=3.0.0 in c:\\users\\mohan\\anaconda3\\lib\\site-packages (from requests-oauthlib>=0.7.0->google-auth-oauthlib<0.5,>=0.4.1->tensorboard<2.11,>=2.10->tensorflow-gpu) (3.2.1)\n",
      "Requirement already satisfied: pyparsing>=2.0.2 in c:\\users\\mohan\\anaconda3\\lib\\site-packages (from packaging->tensorflow-gpu) (3.0.4)\n",
      "Installing collected packages: tensorflow-gpu\n",
      "Successfully installed tensorflow-gpu-2.10.0\n"
     ]
    },
    {
     "name": "stderr",
     "output_type": "stream",
     "text": [
      "WARNING: Ignoring invalid distribution -treamlit (c:\\users\\mohan\\anaconda3\\lib\\site-packages)\n",
      "WARNING: Ignoring invalid distribution -treamlit (c:\\users\\mohan\\anaconda3\\lib\\site-packages)\n",
      "WARNING: Ignoring invalid distribution -treamlit (c:\\users\\mohan\\anaconda3\\lib\\site-packages)\n",
      "WARNING: Ignoring invalid distribution -treamlit (c:\\users\\mohan\\anaconda3\\lib\\site-packages)\n",
      "WARNING: Ignoring invalid distribution -treamlit (c:\\users\\mohan\\anaconda3\\lib\\site-packages)\n",
      "WARNING: Ignoring invalid distribution -treamlit (c:\\users\\mohan\\anaconda3\\lib\\site-packages)\n",
      "WARNING: Ignoring invalid distribution -treamlit (c:\\users\\mohan\\anaconda3\\lib\\site-packages)\n"
     ]
    }
   ],
   "source": [
    "!pip install tensorflow-gpu"
   ]
  },
  {
   "cell_type": "code",
   "execution_count": 2,
   "metadata": {
    "id": "D2IliGyI62B0"
   },
   "outputs": [],
   "source": [
    "import tensorflow as tf"
   ]
  },
  {
   "cell_type": "code",
   "execution_count": 3,
   "metadata": {
    "colab": {
     "base_uri": "https://localhost:8080/"
    },
    "id": "4_fyxUHb7GuH",
    "outputId": "2c8a495d-cff8-49f1-b9c2-fa63165b0043"
   },
   "outputs": [
    {
     "name": "stdout",
     "output_type": "stream",
     "text": [
      "2.10.0\n"
     ]
    }
   ],
   "source": [
    "print(tf.__version__)"
   ]
  },
  {
   "cell_type": "code",
   "execution_count": 4,
   "metadata": {
    "id": "LLvV2K-o7KAp"
   },
   "outputs": [],
   "source": [
    "# Importing the libraries\n",
    "import numpy as np\n",
    "import matplotlib.pyplot as plt\n",
    "import pandas as pd"
   ]
  },
  {
   "cell_type": "code",
   "execution_count": 5,
   "metadata": {
    "id": "gHRHobkK7Sxn"
   },
   "outputs": [],
   "source": [
    "# Importing the dataset\n",
    "dataset = pd.read_csv('Churn_Modelling.csv')\n",
    "X = dataset.iloc[:, 3:13]\n",
    "y = dataset.iloc[:, 13]"
   ]
  },
  {
   "cell_type": "code",
   "execution_count": 6,
   "metadata": {
    "id": "T2yS0VL67Ufn"
   },
   "outputs": [],
   "source": [
    "#Create dummy variables\n",
    "geography=pd.get_dummies(X[\"Geography\"],drop_first=True)\n",
    "gender=pd.get_dummies(X['Gender'],drop_first=True)"
   ]
  },
  {
   "cell_type": "code",
   "execution_count": 7,
   "metadata": {
    "id": "Co2rxaFR7Wgo"
   },
   "outputs": [],
   "source": [
    "## Concatenate the Data Frames\n",
    "\n",
    "X=pd.concat([X,geography,gender],axis=1)\n",
    "\n",
    "## Drop Unnecessary columns\n",
    "X=X.drop(['Geography','Gender'],axis=1)\n",
    "\n",
    "# Splitting the dataset into the Training set and Test set\n",
    "from sklearn.model_selection import train_test_split\n",
    "X_train, X_test, y_train, y_test = train_test_split(X, y, test_size = 0.2, random_state = 0)\n"
   ]
  },
  {
   "cell_type": "code",
   "execution_count": 8,
   "metadata": {
    "id": "GNZrZXy37ZLs"
   },
   "outputs": [],
   "source": [
    "# Feature Scaling\n",
    "from sklearn.preprocessing import StandardScaler\n",
    "sc = StandardScaler()\n",
    "X_train = sc.fit_transform(X_train)\n",
    "X_test = sc.transform(X_test)\n"
   ]
  },
  {
   "cell_type": "code",
   "execution_count": 9,
   "metadata": {
    "id": "uwN3bgie7bvT"
   },
   "outputs": [],
   "source": [
    "# Part 2 - Now let's make the ANN!"
   ]
  },
  {
   "cell_type": "code",
   "execution_count": 10,
   "metadata": {
    "id": "rL_a7vWu7dj1"
   },
   "outputs": [],
   "source": [
    "from tensorflow.keras.models import Sequential\n",
    "from tensorflow.keras.layers import Dense\n",
    "from tensorflow.keras.layers import LeakyReLU,PReLU,ELU\n",
    "from tensorflow.keras.layers import Dropout\n"
   ]
  },
  {
   "cell_type": "code",
   "execution_count": 12,
   "metadata": {
    "id": "VDJwvrbZ7kj4"
   },
   "outputs": [],
   "source": [
    "# Initialising the ANN\n",
    "classifier = Sequential()"
   ]
  },
  {
   "cell_type": "code",
   "execution_count": 13,
   "metadata": {
    "id": "RSZQrU-g7z4N"
   },
   "outputs": [],
   "source": [
    "# Adding the input layer and the first hidden layer\n",
    "classifier.add(Dense(units=11,activation='relu'))"
   ]
  },
  {
   "cell_type": "code",
   "execution_count": 14,
   "metadata": {
    "id": "byszZMvw8RcQ"
   },
   "outputs": [],
   "source": [
    "# Adding the input layer and the first hidden layer\n",
    "classifier.add(Dense(units=6,activation='relu'))"
   ]
  },
  {
   "cell_type": "code",
   "execution_count": 15,
   "metadata": {
    "id": "Mk2slmAX8XUI"
   },
   "outputs": [],
   "source": [
    "# Adding the input layer and the first hidden layer\n",
    "classifier.add(Dense(units=1,activation='relu'))"
   ]
  },
  {
   "cell_type": "code",
   "execution_count": 16,
   "metadata": {},
   "outputs": [],
   "source": [
    "import tensorflow as tf\n",
    "opt=tf.keras.optimizers.Adam(learning_rate=0.001)"
   ]
  },
  {
   "cell_type": "code",
   "execution_count": 17,
   "metadata": {
    "id": "F2udThHo8cFt"
   },
   "outputs": [],
   "source": [
    "classifier.compile(optimizer=opt,loss='binary_crossentropy',metrics=['accuracy'])"
   ]
  },
  {
   "cell_type": "code",
   "execution_count": 18,
   "metadata": {},
   "outputs": [],
   "source": [
    "call=tf.keras.callbacks.EarlyStopping(\n",
    "    monitor='val_loss',\n",
    "    min_delta=0.0001,\n",
    "    patience=20,\n",
    "    verbose=1,\n",
    "    mode='auto',\n",
    "    baseline=None,\n",
    "    restore_best_weights=False\n",
    ")"
   ]
  },
  {
   "cell_type": "code",
   "execution_count": 19,
   "metadata": {
    "colab": {
     "base_uri": "https://localhost:8080/"
    },
    "id": "3qairJAs8fIc",
    "outputId": "0730a4ec-193f-41ae-daff-4ccc7673b142"
   },
   "outputs": [
    {
     "name": "stdout",
     "output_type": "stream",
     "text": [
      "Epoch 1/50\n",
      "536/536 [==============================] - 5s 7ms/step - loss: 1.3162 - accuracy: 0.7584 - val_loss: 0.9364 - val_accuracy: 0.7762\n",
      "Epoch 2/50\n",
      "536/536 [==============================] - 3s 5ms/step - loss: 0.6762 - accuracy: 0.7983 - val_loss: 0.6754 - val_accuracy: 0.8035\n",
      "Epoch 3/50\n",
      "536/536 [==============================] - 3s 5ms/step - loss: 0.5520 - accuracy: 0.8117 - val_loss: 0.5303 - val_accuracy: 0.7978\n",
      "Epoch 4/50\n",
      "536/536 [==============================] - 3s 5ms/step - loss: 0.4768 - accuracy: 0.8128 - val_loss: 0.4981 - val_accuracy: 0.8152\n",
      "Epoch 5/50\n",
      "536/536 [==============================] - 3s 5ms/step - loss: 0.4481 - accuracy: 0.8218 - val_loss: 0.4885 - val_accuracy: 0.8186\n",
      "Epoch 6/50\n",
      "536/536 [==============================] - 3s 5ms/step - loss: 0.4556 - accuracy: 0.8214 - val_loss: 0.5027 - val_accuracy: 0.8236\n",
      "Epoch 7/50\n",
      "536/536 [==============================] - 3s 5ms/step - loss: 0.4449 - accuracy: 0.8252 - val_loss: 0.4984 - val_accuracy: 0.8289\n",
      "Epoch 8/50\n",
      "536/536 [==============================] - 3s 5ms/step - loss: 0.4320 - accuracy: 0.8339 - val_loss: 0.4690 - val_accuracy: 0.8281\n",
      "Epoch 9/50\n",
      "536/536 [==============================] - 3s 5ms/step - loss: 0.4251 - accuracy: 0.8349 - val_loss: 0.4709 - val_accuracy: 0.8326\n",
      "Epoch 10/50\n",
      "536/536 [==============================] - 3s 5ms/step - loss: 0.4316 - accuracy: 0.8356 - val_loss: 0.4657 - val_accuracy: 0.8277\n",
      "Epoch 11/50\n",
      "536/536 [==============================] - 3s 5ms/step - loss: 0.4263 - accuracy: 0.8343 - val_loss: 0.4592 - val_accuracy: 0.8251\n",
      "Epoch 12/50\n",
      "536/536 [==============================] - 3s 5ms/step - loss: 0.4279 - accuracy: 0.8345 - val_loss: 0.4498 - val_accuracy: 0.8307\n",
      "Epoch 13/50\n",
      "536/536 [==============================] - 3s 5ms/step - loss: 0.4175 - accuracy: 0.8425 - val_loss: 0.4638 - val_accuracy: 0.8372\n",
      "Epoch 14/50\n",
      "536/536 [==============================] - 3s 5ms/step - loss: 0.4149 - accuracy: 0.8434 - val_loss: 0.4806 - val_accuracy: 0.8357\n",
      "Epoch 15/50\n",
      "536/536 [==============================] - 3s 5ms/step - loss: 0.4119 - accuracy: 0.8425 - val_loss: 0.4720 - val_accuracy: 0.8383\n",
      "Epoch 16/50\n",
      "536/536 [==============================] - 3s 5ms/step - loss: 0.4153 - accuracy: 0.8483 - val_loss: 0.4747 - val_accuracy: 0.8395\n",
      "Epoch 17/50\n",
      "536/536 [==============================] - 3s 6ms/step - loss: 0.4222 - accuracy: 0.8468 - val_loss: 0.4647 - val_accuracy: 0.8395\n",
      "Epoch 18/50\n",
      "536/536 [==============================] - 3s 5ms/step - loss: 0.4479 - accuracy: 0.8238 - val_loss: 0.4877 - val_accuracy: 0.7838\n",
      "Epoch 19/50\n",
      "536/536 [==============================] - 3s 5ms/step - loss: 0.4112 - accuracy: 0.8343 - val_loss: 0.4601 - val_accuracy: 0.8296\n",
      "Epoch 20/50\n",
      "536/536 [==============================] - 3s 5ms/step - loss: 0.4032 - accuracy: 0.8421 - val_loss: 0.4499 - val_accuracy: 0.8326\n",
      "Epoch 21/50\n",
      "536/536 [==============================] - 3s 6ms/step - loss: 0.3931 - accuracy: 0.8429 - val_loss: 0.4436 - val_accuracy: 0.8338\n",
      "Epoch 22/50\n",
      "536/536 [==============================] - 3s 6ms/step - loss: 0.3922 - accuracy: 0.8436 - val_loss: 0.4605 - val_accuracy: 0.8232\n",
      "Epoch 23/50\n",
      "536/536 [==============================] - 3s 5ms/step - loss: 0.3882 - accuracy: 0.8412 - val_loss: 0.4517 - val_accuracy: 0.8379\n",
      "Epoch 24/50\n",
      "536/536 [==============================] - 3s 6ms/step - loss: 0.3848 - accuracy: 0.8468 - val_loss: 0.4415 - val_accuracy: 0.8338\n",
      "Epoch 25/50\n",
      "536/536 [==============================] - 3s 5ms/step - loss: 0.3817 - accuracy: 0.8511 - val_loss: 0.4497 - val_accuracy: 0.8353\n",
      "Epoch 26/50\n",
      "536/536 [==============================] - 3s 6ms/step - loss: 0.3801 - accuracy: 0.8509 - val_loss: 0.4368 - val_accuracy: 0.8383\n",
      "Epoch 27/50\n",
      "536/536 [==============================] - 3s 6ms/step - loss: 0.3877 - accuracy: 0.8433 - val_loss: 0.4241 - val_accuracy: 0.8357\n",
      "Epoch 28/50\n",
      "536/536 [==============================] - 3s 5ms/step - loss: 0.3956 - accuracy: 0.8431 - val_loss: 0.4388 - val_accuracy: 0.8360\n",
      "Epoch 29/50\n",
      "536/536 [==============================] - 3s 5ms/step - loss: 0.3843 - accuracy: 0.8472 - val_loss: 0.4427 - val_accuracy: 0.8372\n",
      "Epoch 30/50\n",
      "536/536 [==============================] - 3s 5ms/step - loss: 0.3813 - accuracy: 0.8477 - val_loss: 0.4796 - val_accuracy: 0.8360\n",
      "Epoch 31/50\n",
      "536/536 [==============================] - 3s 5ms/step - loss: 0.3883 - accuracy: 0.8479 - val_loss: 0.4530 - val_accuracy: 0.8179\n",
      "Epoch 32/50\n",
      "536/536 [==============================] - 3s 5ms/step - loss: 0.4261 - accuracy: 0.8337 - val_loss: 0.4432 - val_accuracy: 0.8474\n",
      "Epoch 33/50\n",
      "536/536 [==============================] - 3s 5ms/step - loss: 0.3804 - accuracy: 0.8500 - val_loss: 0.4571 - val_accuracy: 0.8448\n",
      "Epoch 34/50\n",
      "536/536 [==============================] - 3s 5ms/step - loss: 0.3749 - accuracy: 0.8492 - val_loss: 0.4445 - val_accuracy: 0.8383\n",
      "Epoch 35/50\n",
      "536/536 [==============================] - 3s 5ms/step - loss: 0.3808 - accuracy: 0.8487 - val_loss: 0.4412 - val_accuracy: 0.8357\n",
      "Epoch 36/50\n",
      "536/536 [==============================] - 3s 5ms/step - loss: 0.3762 - accuracy: 0.8498 - val_loss: 0.4379 - val_accuracy: 0.8372\n",
      "Epoch 37/50\n",
      "536/536 [==============================] - 3s 5ms/step - loss: 0.3666 - accuracy: 0.8503 - val_loss: 0.4342 - val_accuracy: 0.8342\n",
      "Epoch 38/50\n",
      "536/536 [==============================] - 3s 5ms/step - loss: 0.3657 - accuracy: 0.8509 - val_loss: 0.4317 - val_accuracy: 0.8402\n",
      "Epoch 39/50\n",
      "536/536 [==============================] - 3s 5ms/step - loss: 0.3670 - accuracy: 0.8494 - val_loss: 0.4314 - val_accuracy: 0.8383\n",
      "Epoch 40/50\n",
      "536/536 [==============================] - 3s 5ms/step - loss: 0.3954 - accuracy: 0.8433 - val_loss: 0.4406 - val_accuracy: 0.8319\n",
      "Epoch 41/50\n",
      "536/536 [==============================] - 3s 5ms/step - loss: 0.3977 - accuracy: 0.8494 - val_loss: 0.4245 - val_accuracy: 0.8383\n",
      "Epoch 42/50\n",
      "536/536 [==============================] - 3s 5ms/step - loss: 0.3915 - accuracy: 0.8526 - val_loss: 0.4545 - val_accuracy: 0.8360\n",
      "Epoch 43/50\n",
      "536/536 [==============================] - 3s 5ms/step - loss: 0.3825 - accuracy: 0.8539 - val_loss: 0.4160 - val_accuracy: 0.8360\n",
      "Epoch 44/50\n",
      "536/536 [==============================] - 3s 5ms/step - loss: 0.3728 - accuracy: 0.8539 - val_loss: 0.4305 - val_accuracy: 0.8201\n",
      "Epoch 45/50\n",
      "536/536 [==============================] - 3s 5ms/step - loss: 0.3633 - accuracy: 0.8539 - val_loss: 0.4213 - val_accuracy: 0.8425\n",
      "Epoch 46/50\n",
      "536/536 [==============================] - 3s 5ms/step - loss: 0.3626 - accuracy: 0.8531 - val_loss: 0.4718 - val_accuracy: 0.8406\n",
      "Epoch 47/50\n",
      "536/536 [==============================] - 3s 5ms/step - loss: 0.3721 - accuracy: 0.8528 - val_loss: 0.4690 - val_accuracy: 0.8364\n",
      "Epoch 48/50\n",
      "536/536 [==============================] - 3s 5ms/step - loss: 0.3685 - accuracy: 0.8531 - val_loss: 0.4394 - val_accuracy: 0.8353\n",
      "Epoch 49/50\n",
      "536/536 [==============================] - 3s 5ms/step - loss: 0.3744 - accuracy: 0.8498 - val_loss: 0.4472 - val_accuracy: 0.8395\n",
      "Epoch 50/50\n",
      "536/536 [==============================] - 3s 5ms/step - loss: 0.3763 - accuracy: 0.8572 - val_loss: 0.4503 - val_accuracy: 0.8292\n"
     ]
    }
   ],
   "source": [
    "model_history=classifier.fit(X_train,y_train,validation_split=0.33,batch_size=10,epochs=50,callbacks=call)"
   ]
  },
  {
   "cell_type": "code",
   "execution_count": 20,
   "metadata": {
    "colab": {
     "base_uri": "https://localhost:8080/"
    },
    "id": "Q9t_M4wICTTz",
    "outputId": "18fa935a-8009-407f-de61-7f6a83669624"
   },
   "outputs": [
    {
     "name": "stdout",
     "output_type": "stream",
     "text": [
      "dict_keys(['loss', 'accuracy', 'val_loss', 'val_accuracy'])\n"
     ]
    }
   ],
   "source": [
    "# list all data in history\n",
    "\n",
    "print(model_history.history.keys())"
   ]
  },
  {
   "cell_type": "code",
   "execution_count": 21,
   "metadata": {
    "colab": {
     "base_uri": "https://localhost:8080/",
     "height": 295
    },
    "id": "MMOyiwzgBlLY",
    "outputId": "aeb29600-3c1f-41aa-9e29-05acf6011ed8"
   },
   "outputs": [
    {
     "data": {
      "image/png": "[encoded data removed]",
      "text/plain": [
       "<Figure size 432x288 with 1 Axes>"
      ]
     },
     "metadata": {
      "needs_background": "light"
     },
     "output_type": "display_data"
    }
   ],
   "source": [
    "\n",
    "# summarize history for accuracy\n",
    "plt.plot(model_history.history['accuracy'])\n",
    "plt.plot(model_history.history['val_accuracy'])\n",
    "plt.title('model accuracy')\n",
    "plt.ylabel('accuracy')\n",
    "plt.xlabel('epoch')\n",
    "plt.legend(['train', 'test'], loc='upper left')\n",
    "plt.show()"
   ]
  },
  {
   "cell_type": "code",
   "execution_count": 22,
   "metadata": {
    "colab": {
     "base_uri": "https://localhost:8080/",
     "height": 295
    },
    "id": "QH141RsQCEr0",
    "outputId": "4566dca0-b002-4f59-b6e8-f8654b414283"
   },
   "outputs": [
    {
     "data": {
      "image/png": "[encoded data removed]",
      "text/plain": [
       "<Figure size 432x288 with 1 Axes>"
      ]
     },
     "metadata": {
      "needs_background": "light"
     },
     "output_type": "display_data"
    }
   ],
   "source": [
    "# summarize history for loss\n",
    "plt.plot(model_history.history['loss'])\n",
    "plt.plot(model_history.history['val_loss'])\n",
    "plt.title('model loss')\n",
    "plt.ylabel('loss')\n",
    "plt.xlabel('epoch')\n",
    "plt.legend(['train', 'test'], loc='upper left')\n",
    "plt.show()"
   ]
  },
  {
   "cell_type": "code",
   "execution_count": 23,
   "metadata": {
    "id": "OYqCIIkDCd8S"
   },
   "outputs": [
    {
     "name": "stdout",
     "output_type": "stream",
     "text": [
      "63/63 [==============================] - 0s 2ms/step\n"
     ]
    }
   ],
   "source": [
    "# Part 3 - Making the predictions and evaluating the model\n",
    "\n",
    "# Predicting the Test set results\n",
    "y_pred = classifier.predict(X_test)\n",
    "y_pred = (y_pred > 0.5)"
   ]
  },
  {
   "cell_type": "code",
   "execution_count": 24,
   "metadata": {
    "colab": {
     "base_uri": "https://localhost:8080/"
    },
    "id": "cm3EeOGTCi3-",
    "outputId": "f3cfe210-0811-4c4e-ce72-4100b32bb79f"
   },
   "outputs": [
    {
     "data": {
      "text/plain": [
       "array([[1445,  150],\n",
       "       [ 185,  220]], dtype=int64)"
      ]
     },
     "execution_count": 24,
     "metadata": {},
     "output_type": "execute_result"
    }
   ],
   "source": [
    "# Making the Confusion Matrix\n",
    "from sklearn.metrics import confusion_matrix\n",
    "cm = confusion_matrix(y_test, y_pred)\n",
    "cm"
   ]
  },
  {
   "cell_type": "code",
   "execution_count": 30,
   "metadata": {
    "id": "FgfRKzzOClmP"
   },
   "outputs": [],
   "source": [
    "# Calculate the Accuracy\n",
    "from sklearn.metrics import accuracy_score\n",
    "score=accuracy_score(y_pred,y_test)"
   ]
  },
  {
   "cell_type": "code",
   "execution_count": 31,
   "metadata": {
    "colab": {
     "base_uri": "https://localhost:8080/"
    },
    "id": "a_C5EETrCpSj",
    "outputId": "6e495c58-0149-453b-b0d6-592606fe5c80"
   },
   "outputs": [
    {
     "data": {
      "text/plain": [
       "0.858"
      ]
     },
     "execution_count": 31,
     "metadata": {},
     "output_type": "execute_result"
    }
   ],
   "source": [
    "score"
   ]
  },
  {
   "cell_type": "code",
   "execution_count": null,
   "metadata": {},
   "outputs": [],
   "source": []
  }
 ],
 "metadata": {
  "colab": {
   "name": "Untitled63.ipynb",
   "provenance": []
  },
  "kernelspec": {
   "display_name": "Python 3 (ipykernel)",
   "language": "python",
   "name": "python3"
  },
  "language_info": {
   "codemirror_mode": {
    "name": "ipython",
    "version": 3
   },
   "file_extension": ".py",
   "mimetype": "text/x-python",
   "name": "python",
   "nbconvert_exporter": "python",
   "pygments_lexer": "ipython3",
   "version": "3.9.7"
  }
 },
 "nbformat": 4,
 "nbformat_minor": 1
}
