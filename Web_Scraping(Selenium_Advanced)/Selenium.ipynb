{
 "cells": [
  {
   "cell_type": "code",
   "execution_count": 2,
   "id": "2ea89ed4",
   "metadata": {},
   "outputs": [],
   "source": [
    "from selenium import webdriver"
   ]
  },
  {
   "cell_type": "code",
   "execution_count": 3,
   "id": "b19b38a8",
   "metadata": {},
   "outputs": [
    {
     "name": "stderr",
     "output_type": "stream",
     "text": [
      "C:\\Users\\mohan\\AppData\\Local\\Temp/ipykernel_9328/2673800123.py:1: DeprecationWarning: executable_path has been deprecated, please pass in a Service object\n",
      "  driver=webdriver.Chrome(\"C:\\Webdriver Chrome\\chromedriver.exe\")\n"
     ]
    }
   ],
   "source": [
    "driver=webdriver.Chrome(\"C:\\Webdriver Chrome\\chromedriver.exe\")"
   ]
  },
  {
   "cell_type": "code",
   "execution_count": 4,
   "id": "5921da79",
   "metadata": {},
   "outputs": [],
   "source": [
    "driver.get('https://www.dell.com/en-in')"
   ]
  },
  {
   "cell_type": "code",
   "execution_count": 19,
   "id": "9401a125",
   "metadata": {},
   "outputs": [
    {
     "name": "stderr",
     "output_type": "stream",
     "text": [
      "C:\\Users\\mohan\\AppData\\Local\\Temp/ipykernel_9328/1156524824.py:1: DeprecationWarning: find_element_by_xpath is deprecated. Please use find_element(by=By.XPATH, value=xpath) instead\n",
      "  btn=driver.find_element_by_xpath('//*[@id=\"mh-search-input\"]')\n"
     ]
    }
   ],
   "source": [
    "btn=driver.find_element_by_xpath('//*[@id=\"mh-search-input\"]')"
   ]
  },
  {
   "cell_type": "code",
   "execution_count": 20,
   "id": "825f4acf",
   "metadata": {},
   "outputs": [],
   "source": [
    "btn.send_keys('gaming laptops')"
   ]
  },
  {
   "cell_type": "code",
   "execution_count": 7,
   "id": "46575808",
   "metadata": {},
   "outputs": [
    {
     "name": "stderr",
     "output_type": "stream",
     "text": [
      "C:\\Users\\mohan\\AppData\\Local\\Temp/ipykernel_9328/2462063556.py:1: DeprecationWarning: find_element_by_xpath is deprecated. Please use find_element(by=By.XPATH, value=xpath) instead\n",
      "  driver.find_element_by_xpath('//*[@id=\"unified-masthead\"]/div[1]/div[1]/div[2]/button[2]').click()\n"
     ]
    }
   ],
   "source": [
    "driver.find_element_by_xpath('//*[@id=\"unified-masthead\"]/div[1]/div[1]/div[2]/button[2]').click()"
   ]
  },
  {
   "cell_type": "code",
   "execution_count": 18,
   "id": "b4f6b6f0",
   "metadata": {},
   "outputs": [],
   "source": [
    "# driver.implicitly_wait(10)\n",
    "driver.refresh()"
   ]
  },
  {
   "cell_type": "code",
   "execution_count": 21,
   "id": "3faa6843",
   "metadata": {},
   "outputs": [
    {
     "name": "stderr",
     "output_type": "stream",
     "text": [
      "C:\\Users\\mohan\\AppData\\Local\\Temp/ipykernel_9328/987856697.py:1: DeprecationWarning: find_element_by_xpath is deprecated. Please use find_element(by=By.XPATH, value=xpath) instead\n",
      "  btn=driver.find_element_by_xpath('//*[@id=\"unified-masthead\"]/div[1]/div[1]/div[2]/button[2]')\n"
     ]
    }
   ],
   "source": [
    "btn=driver.find_element_by_xpath('//*[@id=\"unified-masthead\"]/div[1]/div[1]/div[2]/button[2]')"
   ]
  },
  {
   "cell_type": "code",
   "execution_count": 22,
   "id": "50d67739",
   "metadata": {},
   "outputs": [],
   "source": [
    "btn.click()"
   ]
  },
  {
   "cell_type": "code",
   "execution_count": null,
   "id": "290bea3f",
   "metadata": {},
   "outputs": [],
   "source": []
  },
  {
   "cell_type": "markdown",
   "id": "37306834",
   "metadata": {},
   "source": [
    "### Explicit Wait"
   ]
  },
  {
   "cell_type": "code",
   "execution_count": 27,
   "id": "3378bfd9",
   "metadata": {
    "collapsed": true
   },
   "outputs": [
    {
     "name": "stderr",
     "output_type": "stream",
     "text": [
      "C:\\Users\\mohan\\AppData\\Local\\Temp/ipykernel_9328/4231819922.py:6: DeprecationWarning: executable_path has been deprecated, please pass in a Service object\n",
      "  driver=webdriver.Chrome(\"C:\\Webdriver Chrome\\chromedriver.exe\")\n"
     ]
    },
    {
     "ename": "WebDriverException",
     "evalue": "Message: unknown error: net::ERR_NAME_NOT_RESOLVED\n  (Session info: chrome=105.0.5195.126)\nStacktrace:\nBacktrace:\n\tOrdinal0 [0x0082DF13+2219795]\n\tOrdinal0 [0x007C2841+1779777]\n\tOrdinal0 [0x006D423D+803389]\n\tOrdinal0 [0x006D0A12+789010]\n\tOrdinal0 [0x006C78FD+751869]\n\tOrdinal0 [0x006C853F+755007]\n\tOrdinal0 [0x006C7B11+752401]\n\tOrdinal0 [0x006C706A+749674]\n\tOrdinal0 [0x006C5F94+745364]\n\tOrdinal0 [0x006C63FD+746493]\n\tOrdinal0 [0x006D5A8E+809614]\n\tOrdinal0 [0x0072F87D+1177725]\n\tOrdinal0 [0x0071E7FC+1107964]\n\tOrdinal0 [0x0072F192+1175954]\n\tOrdinal0 [0x0071E616+1107478]\n\tOrdinal0 [0x006F7F89+950153]\n\tOrdinal0 [0x006F8F56+954198]\n\tGetHandleVerifier [0x00B22CB2+3040210]\n\tGetHandleVerifier [0x00B12BB4+2974420]\n\tGetHandleVerifier [0x008C6A0A+565546]\n\tGetHandleVerifier [0x008C5680+560544]\n\tOrdinal0 [0x007C9A5C+1808988]\n\tOrdinal0 [0x007CE3A8+1827752]\n\tOrdinal0 [0x007CE495+1827989]\n\tOrdinal0 [0x007D80A4+1867940]\n\tBaseThreadInitThunk [0x76917BA9+25]\n\tRtlInitializeExceptionChain [0x76F9BB3B+107]\n\tRtlClearBits [0x76F9BABF+191]\n",
     "output_type": "error",
     "traceback": [
      "\u001b[1;31m---------------------------------------------------------------------------\u001b[0m",
      "\u001b[1;31mWebDriverException\u001b[0m                        Traceback (most recent call last)",
      "\u001b[1;32m~\\AppData\\Local\\Temp/ipykernel_9328/4231819922.py\u001b[0m in \u001b[0;36m<module>\u001b[1;34m\u001b[0m\n\u001b[0;32m      5\u001b[0m \u001b[1;32mfrom\u001b[0m \u001b[0mselenium\u001b[0m \u001b[1;32mimport\u001b[0m \u001b[0mwebdriver\u001b[0m\u001b[1;33m\u001b[0m\u001b[1;33m\u001b[0m\u001b[0m\n\u001b[0;32m      6\u001b[0m \u001b[0mdriver\u001b[0m\u001b[1;33m=\u001b[0m\u001b[0mwebdriver\u001b[0m\u001b[1;33m.\u001b[0m\u001b[0mChrome\u001b[0m\u001b[1;33m(\u001b[0m\u001b[1;34m\"C:\\Webdriver Chrome\\chromedriver.exe\"\u001b[0m\u001b[1;33m)\u001b[0m\u001b[1;33m\u001b[0m\u001b[1;33m\u001b[0m\u001b[0m\n\u001b[1;32m----> 7\u001b[1;33m \u001b[0mdriver\u001b[0m\u001b[1;33m.\u001b[0m\u001b[0mget\u001b[0m\u001b[1;33m(\u001b[0m\u001b[1;34m'https://www.dell.com/en-in'\u001b[0m\u001b[1;33m)\u001b[0m\u001b[1;33m\u001b[0m\u001b[1;33m\u001b[0m\u001b[0m\n\u001b[0m\u001b[0;32m      8\u001b[0m \u001b[0mbtn\u001b[0m\u001b[1;33m=\u001b[0m\u001b[0mdriver\u001b[0m\u001b[1;33m.\u001b[0m\u001b[0mfind_element_by_xpath\u001b[0m\u001b[1;33m(\u001b[0m\u001b[1;34m'//*[@id=\"mh-search-input\"]'\u001b[0m\u001b[1;33m)\u001b[0m\u001b[1;33m\u001b[0m\u001b[1;33m\u001b[0m\u001b[0m\n\u001b[0;32m      9\u001b[0m \u001b[0mbtn\u001b[0m\u001b[1;33m.\u001b[0m\u001b[0msend_keys\u001b[0m\u001b[1;33m(\u001b[0m\u001b[1;34m'gaming laptops'\u001b[0m\u001b[1;33m)\u001b[0m\u001b[1;33m\u001b[0m\u001b[1;33m\u001b[0m\u001b[0m\n",
      "\u001b[1;32m~\\anaconda3\\lib\\site-packages\\selenium\\webdriver\\remote\\webdriver.py\u001b[0m in \u001b[0;36mget\u001b[1;34m(self, url)\u001b[0m\n\u001b[0;32m    440\u001b[0m         \u001b[0mLoads\u001b[0m \u001b[0ma\u001b[0m \u001b[0mweb\u001b[0m \u001b[0mpage\u001b[0m \u001b[1;32min\u001b[0m \u001b[0mthe\u001b[0m \u001b[0mcurrent\u001b[0m \u001b[0mbrowser\u001b[0m \u001b[0msession\u001b[0m\u001b[1;33m.\u001b[0m\u001b[1;33m\u001b[0m\u001b[1;33m\u001b[0m\u001b[0m\n\u001b[0;32m    441\u001b[0m         \"\"\"\n\u001b[1;32m--> 442\u001b[1;33m         \u001b[0mself\u001b[0m\u001b[1;33m.\u001b[0m\u001b[0mexecute\u001b[0m\u001b[1;33m(\u001b[0m\u001b[0mCommand\u001b[0m\u001b[1;33m.\u001b[0m\u001b[0mGET\u001b[0m\u001b[1;33m,\u001b[0m \u001b[1;33m{\u001b[0m\u001b[1;34m'url'\u001b[0m\u001b[1;33m:\u001b[0m \u001b[0murl\u001b[0m\u001b[1;33m}\u001b[0m\u001b[1;33m)\u001b[0m\u001b[1;33m\u001b[0m\u001b[1;33m\u001b[0m\u001b[0m\n\u001b[0m\u001b[0;32m    443\u001b[0m \u001b[1;33m\u001b[0m\u001b[0m\n\u001b[0;32m    444\u001b[0m     \u001b[1;33m@\u001b[0m\u001b[0mproperty\u001b[0m\u001b[1;33m\u001b[0m\u001b[1;33m\u001b[0m\u001b[0m\n",
      "\u001b[1;32m~\\anaconda3\\lib\\site-packages\\selenium\\webdriver\\remote\\webdriver.py\u001b[0m in \u001b[0;36mexecute\u001b[1;34m(self, driver_command, params)\u001b[0m\n\u001b[0;32m    428\u001b[0m         \u001b[0mresponse\u001b[0m \u001b[1;33m=\u001b[0m \u001b[0mself\u001b[0m\u001b[1;33m.\u001b[0m\u001b[0mcommand_executor\u001b[0m\u001b[1;33m.\u001b[0m\u001b[0mexecute\u001b[0m\u001b[1;33m(\u001b[0m\u001b[0mdriver_command\u001b[0m\u001b[1;33m,\u001b[0m \u001b[0mparams\u001b[0m\u001b[1;33m)\u001b[0m\u001b[1;33m\u001b[0m\u001b[1;33m\u001b[0m\u001b[0m\n\u001b[0;32m    429\u001b[0m         \u001b[1;32mif\u001b[0m \u001b[0mresponse\u001b[0m\u001b[1;33m:\u001b[0m\u001b[1;33m\u001b[0m\u001b[1;33m\u001b[0m\u001b[0m\n\u001b[1;32m--> 430\u001b[1;33m             \u001b[0mself\u001b[0m\u001b[1;33m.\u001b[0m\u001b[0merror_handler\u001b[0m\u001b[1;33m.\u001b[0m\u001b[0mcheck_response\u001b[0m\u001b[1;33m(\u001b[0m\u001b[0mresponse\u001b[0m\u001b[1;33m)\u001b[0m\u001b[1;33m\u001b[0m\u001b[1;33m\u001b[0m\u001b[0m\n\u001b[0m\u001b[0;32m    431\u001b[0m             response['value'] = self._unwrap_value(\n\u001b[0;32m    432\u001b[0m                 response.get('value', None))\n",
      "\u001b[1;32m~\\anaconda3\\lib\\site-packages\\selenium\\webdriver\\remote\\errorhandler.py\u001b[0m in \u001b[0;36mcheck_response\u001b[1;34m(self, response)\u001b[0m\n\u001b[0;32m    245\u001b[0m                 \u001b[0malert_text\u001b[0m \u001b[1;33m=\u001b[0m \u001b[0mvalue\u001b[0m\u001b[1;33m[\u001b[0m\u001b[1;34m'alert'\u001b[0m\u001b[1;33m]\u001b[0m\u001b[1;33m.\u001b[0m\u001b[0mget\u001b[0m\u001b[1;33m(\u001b[0m\u001b[1;34m'text'\u001b[0m\u001b[1;33m)\u001b[0m\u001b[1;33m\u001b[0m\u001b[1;33m\u001b[0m\u001b[0m\n\u001b[0;32m    246\u001b[0m             \u001b[1;32mraise\u001b[0m \u001b[0mexception_class\u001b[0m\u001b[1;33m(\u001b[0m\u001b[0mmessage\u001b[0m\u001b[1;33m,\u001b[0m \u001b[0mscreen\u001b[0m\u001b[1;33m,\u001b[0m \u001b[0mstacktrace\u001b[0m\u001b[1;33m,\u001b[0m \u001b[0malert_text\u001b[0m\u001b[1;33m)\u001b[0m  \u001b[1;31m# type: ignore[call-arg]  # mypy is not smart enough here\u001b[0m\u001b[1;33m\u001b[0m\u001b[1;33m\u001b[0m\u001b[0m\n\u001b[1;32m--> 247\u001b[1;33m         \u001b[1;32mraise\u001b[0m \u001b[0mexception_class\u001b[0m\u001b[1;33m(\u001b[0m\u001b[0mmessage\u001b[0m\u001b[1;33m,\u001b[0m \u001b[0mscreen\u001b[0m\u001b[1;33m,\u001b[0m \u001b[0mstacktrace\u001b[0m\u001b[1;33m)\u001b[0m\u001b[1;33m\u001b[0m\u001b[1;33m\u001b[0m\u001b[0m\n\u001b[0m\u001b[0;32m    248\u001b[0m \u001b[1;33m\u001b[0m\u001b[0m\n\u001b[0;32m    249\u001b[0m     \u001b[1;32mdef\u001b[0m \u001b[0m_value_or_default\u001b[0m\u001b[1;33m(\u001b[0m\u001b[0mself\u001b[0m\u001b[1;33m,\u001b[0m \u001b[0mobj\u001b[0m\u001b[1;33m:\u001b[0m \u001b[0mMapping\u001b[0m\u001b[1;33m[\u001b[0m\u001b[0m_KT\u001b[0m\u001b[1;33m,\u001b[0m \u001b[0m_VT\u001b[0m\u001b[1;33m]\u001b[0m\u001b[1;33m,\u001b[0m \u001b[0mkey\u001b[0m\u001b[1;33m:\u001b[0m \u001b[0m_KT\u001b[0m\u001b[1;33m,\u001b[0m \u001b[0mdefault\u001b[0m\u001b[1;33m:\u001b[0m \u001b[0m_VT\u001b[0m\u001b[1;33m)\u001b[0m \u001b[1;33m->\u001b[0m \u001b[0m_VT\u001b[0m\u001b[1;33m:\u001b[0m\u001b[1;33m\u001b[0m\u001b[1;33m\u001b[0m\u001b[0m\n",
      "\u001b[1;31mWebDriverException\u001b[0m: Message: unknown error: net::ERR_NAME_NOT_RESOLVED\n  (Session info: chrome=105.0.5195.126)\nStacktrace:\nBacktrace:\n\tOrdinal0 [0x0082DF13+2219795]\n\tOrdinal0 [0x007C2841+1779777]\n\tOrdinal0 [0x006D423D+803389]\n\tOrdinal0 [0x006D0A12+789010]\n\tOrdinal0 [0x006C78FD+751869]\n\tOrdinal0 [0x006C853F+755007]\n\tOrdinal0 [0x006C7B11+752401]\n\tOrdinal0 [0x006C706A+749674]\n\tOrdinal0 [0x006C5F94+745364]\n\tOrdinal0 [0x006C63FD+746493]\n\tOrdinal0 [0x006D5A8E+809614]\n\tOrdinal0 [0x0072F87D+1177725]\n\tOrdinal0 [0x0071E7FC+1107964]\n\tOrdinal0 [0x0072F192+1175954]\n\tOrdinal0 [0x0071E616+1107478]\n\tOrdinal0 [0x006F7F89+950153]\n\tOrdinal0 [0x006F8F56+954198]\n\tGetHandleVerifier [0x00B22CB2+3040210]\n\tGetHandleVerifier [0x00B12BB4+2974420]\n\tGetHandleVerifier [0x008C6A0A+565546]\n\tGetHandleVerifier [0x008C5680+560544]\n\tOrdinal0 [0x007C9A5C+1808988]\n\tOrdinal0 [0x007CE3A8+1827752]\n\tOrdinal0 [0x007CE495+1827989]\n\tOrdinal0 [0x007D80A4+1867940]\n\tBaseThreadInitThunk [0x76917BA9+25]\n\tRtlInitializeExceptionChain [0x76F9BB3B+107]\n\tRtlClearBits [0x76F9BABF+191]\n"
     ]
    }
   ],
   "source": [
    "from selenium.webdriver.support.ui import WebDriverWait\n",
    "from selenium.webdriver.support import expected_conditions as EC\n",
    "from selenium.webdriver.common.by import By\n",
    "\n",
    "from selenium import webdriver\n",
    "driver=webdriver.Chrome(\"C:\\Webdriver Chrome\\chromedriver.exe\")\n",
    "driver.get('https://www.dell.com/en-in')\n",
    "btn=driver.find_element_by_xpath('//*[@id=\"mh-search-input\"]')\n",
    "btn.send_keys('gaming laptops')\n",
    "driver.find_element_by_xpath('//*[@id=\"unified-masthead\"]/div[1]/div[1]/div[2]/button[2]').click()\n",
    "btn=driver.find_element_by_xpath('//*[@id=\"unified-masthead\"]/div[1]/div[1]/div[2]/button[2]')\n",
    "btn.click()\n",
    "\n",
    "wait=WebDriverWait(driver,10)\n",
    "lap1=wait.until(EC.presence_of_element_located((BY.XPATH,'//*[@id=\"d560805win9w\"]/section[1]/div[3]/a')))\n",
    "lap1.click()\n",
    "\n",
    "\n"
   ]
  },
  {
   "cell_type": "markdown",
   "id": "ec01ea03",
   "metadata": {},
   "source": [
    "## Radio Button and Checkbox"
   ]
  },
  {
   "cell_type": "code",
   "execution_count": 28,
   "id": "ce67233a",
   "metadata": {},
   "outputs": [],
   "source": [
    "driver.get('https://demoqa.com/automation-practice-form')"
   ]
  },
  {
   "cell_type": "code",
   "execution_count": 33,
   "id": "403b20f7",
   "metadata": {},
   "outputs": [
    {
     "name": "stderr",
     "output_type": "stream",
     "text": [
      "C:\\Users\\mohan\\AppData\\Local\\Temp/ipykernel_9328/233129258.py:1: DeprecationWarning: find_element_by_name is deprecated. Please use find_element(by=By.NAME, value=name) instead\n",
      "  btn=driver.find_element_by_name('gender')\n"
     ]
    },
    {
     "data": {
      "text/plain": [
       "<bound method WebElement.click of <selenium.webdriver.remote.webelement.WebElement (session=\"120ba438fd328cf7d96a27b44100073e\", element=\"c9399d15-4c40-4158-9de7-f863e579e16b\")>>"
      ]
     },
     "execution_count": 33,
     "metadata": {},
     "output_type": "execute_result"
    }
   ],
   "source": [
    "btn=driver.find_element_by_name('gender')"
   ]
  },
  {
   "cell_type": "code",
   "execution_count": null,
   "id": "4ed5085b",
   "metadata": {},
   "outputs": [],
   "source": [
    "driver.find_element_by_xpath('//*[@id=\"gender-radio-2\"]').click()"
   ]
  },
  {
   "cell_type": "markdown",
   "id": "60cafa89",
   "metadata": {},
   "source": [
    "### Handle DropDown"
   ]
  },
  {
   "cell_type": "code",
   "execution_count": 39,
   "id": "a85d015f",
   "metadata": {},
   "outputs": [
    {
     "name": "stderr",
     "output_type": "stream",
     "text": [
      "C:\\Users\\mohan\\AppData\\Local\\Temp/ipykernel_9328/873468404.py:1: DeprecationWarning: find_element_by_xpath is deprecated. Please use find_element(by=By.XPATH, value=xpath) instead\n",
      "  btn=driver.find_element_by_xpath('//*[@id=\"state\"]/div/div[1]')\n"
     ]
    }
   ],
   "source": [
    "btn=driver.find_element_by_xpath('//*[@id=\"state\"]/div/div[1]')"
   ]
  },
  {
   "cell_type": "code",
   "execution_count": 42,
   "id": "56ddacd5",
   "metadata": {
    "collapsed": true
   },
   "outputs": [
    {
     "ename": "UnexpectedTagNameException",
     "evalue": "Message: Select only works on <select> elements, not on <div>\n",
     "output_type": "error",
     "traceback": [
      "\u001b[1;31m---------------------------------------------------------------------------\u001b[0m",
      "\u001b[1;31mUnexpectedTagNameException\u001b[0m                Traceback (most recent call last)",
      "\u001b[1;32m~\\AppData\\Local\\Temp/ipykernel_9328/2531979816.py\u001b[0m in \u001b[0;36m<module>\u001b[1;34m\u001b[0m\n\u001b[0;32m      1\u001b[0m \u001b[1;32mfrom\u001b[0m \u001b[0mselenium\u001b[0m\u001b[1;33m.\u001b[0m\u001b[0mwebdriver\u001b[0m\u001b[1;33m.\u001b[0m\u001b[0msupport\u001b[0m\u001b[1;33m.\u001b[0m\u001b[0mselect\u001b[0m \u001b[1;32mimport\u001b[0m \u001b[0mSelect\u001b[0m\u001b[1;33m\u001b[0m\u001b[1;33m\u001b[0m\u001b[0m\n\u001b[1;32m----> 2\u001b[1;33m \u001b[0ms\u001b[0m\u001b[1;33m=\u001b[0m\u001b[0mSelect\u001b[0m\u001b[1;33m(\u001b[0m\u001b[0mbtn\u001b[0m\u001b[1;33m)\u001b[0m\u001b[1;33m\u001b[0m\u001b[1;33m\u001b[0m\u001b[0m\n\u001b[0m",
      "\u001b[1;32m~\\anaconda3\\lib\\site-packages\\selenium\\webdriver\\support\\select.py\u001b[0m in \u001b[0;36m__init__\u001b[1;34m(self, webelement)\u001b[0m\n\u001b[0;32m     35\u001b[0m         \"\"\"\n\u001b[0;32m     36\u001b[0m         \u001b[1;32mif\u001b[0m \u001b[0mwebelement\u001b[0m\u001b[1;33m.\u001b[0m\u001b[0mtag_name\u001b[0m\u001b[1;33m.\u001b[0m\u001b[0mlower\u001b[0m\u001b[1;33m(\u001b[0m\u001b[1;33m)\u001b[0m \u001b[1;33m!=\u001b[0m \u001b[1;34m\"select\"\u001b[0m\u001b[1;33m:\u001b[0m\u001b[1;33m\u001b[0m\u001b[1;33m\u001b[0m\u001b[0m\n\u001b[1;32m---> 37\u001b[1;33m             raise UnexpectedTagNameException(\n\u001b[0m\u001b[0;32m     38\u001b[0m                 \u001b[1;34m\"Select only works on <select> elements, not on <%s>\"\u001b[0m \u001b[1;33m%\u001b[0m\u001b[1;33m\u001b[0m\u001b[1;33m\u001b[0m\u001b[0m\n\u001b[0;32m     39\u001b[0m                 webelement.tag_name)\n",
      "\u001b[1;31mUnexpectedTagNameException\u001b[0m: Message: Select only works on <select> elements, not on <div>\n"
     ]
    }
   ],
   "source": [
    "from selenium.webdriver.support.select import Select\n",
    "s=Select(btn)"
   ]
  },
  {
   "cell_type": "code",
   "execution_count": 45,
   "id": "abe81c27",
   "metadata": {},
   "outputs": [
    {
     "name": "stderr",
     "output_type": "stream",
     "text": [
      "C:\\Users\\mohan\\AppData\\Local\\Temp/ipykernel_9328/1542067450.py:1: DeprecationWarning: executable_path has been deprecated, please pass in a Service object\n",
      "  driver=webdriver.Chrome(\"C:\\Webdriver Chrome\\chromedriver.exe\")\n"
     ]
    }
   ],
   "source": [
    "driver=webdriver.Chrome(\"C:\\Webdriver Chrome\\chromedriver.exe\")\n",
    "driver.get('https://www.quackit.com/preview/html_editor_result.cfm?contentFile=/html_5/tags/_inc/inc_html_select_tag.cfm')"
   ]
  },
  {
   "cell_type": "code",
   "execution_count": 46,
   "id": "46db6594",
   "metadata": {},
   "outputs": [
    {
     "name": "stderr",
     "output_type": "stream",
     "text": [
      "C:\\Users\\mohan\\AppData\\Local\\Temp/ipykernel_9328/3333259499.py:1: DeprecationWarning: find_element_by_xpath is deprecated. Please use find_element(by=By.XPATH, value=xpath) instead\n",
      "  btn=driver.find_element_by_xpath('/html/body/select')\n"
     ]
    },
    {
     "data": {
      "text/plain": [
       "<selenium.webdriver.remote.webelement.WebElement (session=\"4c4844c744188ffc971903dcba5d4a03\", element=\"1b09f20d-030c-415a-a15e-ec08a3e43c27\")>"
      ]
     },
     "execution_count": 46,
     "metadata": {},
     "output_type": "execute_result"
    }
   ],
   "source": [
    "btn=driver.find_element_by_xpath('/html/body/select')\n",
    "btn"
   ]
  },
  {
   "cell_type": "code",
   "execution_count": 48,
   "id": "9b82c14d",
   "metadata": {},
   "outputs": [
    {
     "data": {
      "text/plain": [
       "[<selenium.webdriver.remote.webelement.WebElement (session=\"4c4844c744188ffc971903dcba5d4a03\", element=\"33723b4c-0d92-4a81-9ec5-74685d327688\")>,\n",
       " <selenium.webdriver.remote.webelement.WebElement (session=\"4c4844c744188ffc971903dcba5d4a03\", element=\"76240b2e-c342-44c7-b067-7b4079d1010e\")>,\n",
       " <selenium.webdriver.remote.webelement.WebElement (session=\"4c4844c744188ffc971903dcba5d4a03\", element=\"8998a119-1436-42c2-a004-308354572dd5\")>,\n",
       " <selenium.webdriver.remote.webelement.WebElement (session=\"4c4844c744188ffc971903dcba5d4a03\", element=\"4f4b1fdb-6446-4547-8988-a892019c1fc6\")>]"
      ]
     },
     "execution_count": 48,
     "metadata": {},
     "output_type": "execute_result"
    }
   ],
   "source": [
    "s=Select(btn)\n",
    "s.options"
   ]
  },
  {
   "cell_type": "code",
   "execution_count": 49,
   "id": "9eb215e1",
   "metadata": {},
   "outputs": [
    {
     "data": {
      "text/plain": [
       "<selenium.webdriver.remote.webelement.WebElement (session=\"4c4844c744188ffc971903dcba5d4a03\", element=\"8998a119-1436-42c2-a004-308354572dd5\")>"
      ]
     },
     "execution_count": 49,
     "metadata": {},
     "output_type": "execute_result"
    }
   ],
   "source": [
    "s.first_selected_option"
   ]
  },
  {
   "cell_type": "code",
   "execution_count": 53,
   "id": "2f557321",
   "metadata": {},
   "outputs": [],
   "source": [
    "s.select_by_value('melbourne')"
   ]
  },
  {
   "cell_type": "markdown",
   "id": "88ce9b10",
   "metadata": {},
   "source": [
    "### Scroll Webpage"
   ]
  },
  {
   "cell_type": "code",
   "execution_count": 56,
   "id": "fb325f51",
   "metadata": {},
   "outputs": [
    {
     "name": "stderr",
     "output_type": "stream",
     "text": [
      "C:\\Users\\mohan\\AppData\\Local\\Temp/ipykernel_9328/1738573077.py:1: DeprecationWarning: executable_path has been deprecated, please pass in a Service object\n",
      "  driver=webdriver.Chrome(\"C:\\Webdriver Chrome\\chromedriver.exe\")\n"
     ]
    },
    {
     "ename": "WebDriverException",
     "evalue": "Message: unknown error: net::ERR_NAME_NOT_RESOLVED\n  (Session info: chrome=105.0.5195.126)\nStacktrace:\nBacktrace:\n\tOrdinal0 [0x0082DF13+2219795]\n\tOrdinal0 [0x007C2841+1779777]\n\tOrdinal0 [0x006D423D+803389]\n\tOrdinal0 [0x006D0A12+789010]\n\tOrdinal0 [0x006C78FD+751869]\n\tOrdinal0 [0x006C853F+755007]\n\tOrdinal0 [0x006C7B11+752401]\n\tOrdinal0 [0x006C706A+749674]\n\tOrdinal0 [0x006C5F94+745364]\n\tOrdinal0 [0x006C63FD+746493]\n\tOrdinal0 [0x006D5A8E+809614]\n\tOrdinal0 [0x0072F87D+1177725]\n\tOrdinal0 [0x0071E7FC+1107964]\n\tOrdinal0 [0x0072F192+1175954]\n\tOrdinal0 [0x0071E616+1107478]\n\tOrdinal0 [0x006F7F89+950153]\n\tOrdinal0 [0x006F8F56+954198]\n\tGetHandleVerifier [0x00B22CB2+3040210]\n\tGetHandleVerifier [0x00B12BB4+2974420]\n\tGetHandleVerifier [0x008C6A0A+565546]\n\tGetHandleVerifier [0x008C5680+560544]\n\tOrdinal0 [0x007C9A5C+1808988]\n\tOrdinal0 [0x007CE3A8+1827752]\n\tOrdinal0 [0x007CE495+1827989]\n\tOrdinal0 [0x007D80A4+1867940]\n\tBaseThreadInitThunk [0x76917BA9+25]\n\tRtlInitializeExceptionChain [0x76F9BB3B+107]\n\tRtlClearBits [0x76F9BABF+191]\n",
     "output_type": "error",
     "traceback": [
      "\u001b[1;31m---------------------------------------------------------------------------\u001b[0m",
      "\u001b[1;31mWebDriverException\u001b[0m                        Traceback (most recent call last)",
      "\u001b[1;32m~\\AppData\\Local\\Temp/ipykernel_9328/1738573077.py\u001b[0m in \u001b[0;36m<module>\u001b[1;34m\u001b[0m\n\u001b[0;32m      1\u001b[0m \u001b[0mdriver\u001b[0m\u001b[1;33m=\u001b[0m\u001b[0mwebdriver\u001b[0m\u001b[1;33m.\u001b[0m\u001b[0mChrome\u001b[0m\u001b[1;33m(\u001b[0m\u001b[1;34m\"C:\\Webdriver Chrome\\chromedriver.exe\"\u001b[0m\u001b[1;33m)\u001b[0m\u001b[1;33m\u001b[0m\u001b[1;33m\u001b[0m\u001b[0m\n\u001b[1;32m----> 2\u001b[1;33m \u001b[0mdriver\u001b[0m\u001b[1;33m.\u001b[0m\u001b[0mget\u001b[0m\u001b[1;33m(\u001b[0m\u001b[1;34m'https://books.toscrape.com/'\u001b[0m\u001b[1;33m)\u001b[0m\u001b[1;33m\u001b[0m\u001b[1;33m\u001b[0m\u001b[0m\n\u001b[0m",
      "\u001b[1;32m~\\anaconda3\\lib\\site-packages\\selenium\\webdriver\\remote\\webdriver.py\u001b[0m in \u001b[0;36mget\u001b[1;34m(self, url)\u001b[0m\n\u001b[0;32m    440\u001b[0m         \u001b[0mLoads\u001b[0m \u001b[0ma\u001b[0m \u001b[0mweb\u001b[0m \u001b[0mpage\u001b[0m \u001b[1;32min\u001b[0m \u001b[0mthe\u001b[0m \u001b[0mcurrent\u001b[0m \u001b[0mbrowser\u001b[0m \u001b[0msession\u001b[0m\u001b[1;33m.\u001b[0m\u001b[1;33m\u001b[0m\u001b[1;33m\u001b[0m\u001b[0m\n\u001b[0;32m    441\u001b[0m         \"\"\"\n\u001b[1;32m--> 442\u001b[1;33m         \u001b[0mself\u001b[0m\u001b[1;33m.\u001b[0m\u001b[0mexecute\u001b[0m\u001b[1;33m(\u001b[0m\u001b[0mCommand\u001b[0m\u001b[1;33m.\u001b[0m\u001b[0mGET\u001b[0m\u001b[1;33m,\u001b[0m \u001b[1;33m{\u001b[0m\u001b[1;34m'url'\u001b[0m\u001b[1;33m:\u001b[0m \u001b[0murl\u001b[0m\u001b[1;33m}\u001b[0m\u001b[1;33m)\u001b[0m\u001b[1;33m\u001b[0m\u001b[1;33m\u001b[0m\u001b[0m\n\u001b[0m\u001b[0;32m    443\u001b[0m \u001b[1;33m\u001b[0m\u001b[0m\n\u001b[0;32m    444\u001b[0m     \u001b[1;33m@\u001b[0m\u001b[0mproperty\u001b[0m\u001b[1;33m\u001b[0m\u001b[1;33m\u001b[0m\u001b[0m\n",
      "\u001b[1;32m~\\anaconda3\\lib\\site-packages\\selenium\\webdriver\\remote\\webdriver.py\u001b[0m in \u001b[0;36mexecute\u001b[1;34m(self, driver_command, params)\u001b[0m\n\u001b[0;32m    428\u001b[0m         \u001b[0mresponse\u001b[0m \u001b[1;33m=\u001b[0m \u001b[0mself\u001b[0m\u001b[1;33m.\u001b[0m\u001b[0mcommand_executor\u001b[0m\u001b[1;33m.\u001b[0m\u001b[0mexecute\u001b[0m\u001b[1;33m(\u001b[0m\u001b[0mdriver_command\u001b[0m\u001b[1;33m,\u001b[0m \u001b[0mparams\u001b[0m\u001b[1;33m)\u001b[0m\u001b[1;33m\u001b[0m\u001b[1;33m\u001b[0m\u001b[0m\n\u001b[0;32m    429\u001b[0m         \u001b[1;32mif\u001b[0m \u001b[0mresponse\u001b[0m\u001b[1;33m:\u001b[0m\u001b[1;33m\u001b[0m\u001b[1;33m\u001b[0m\u001b[0m\n\u001b[1;32m--> 430\u001b[1;33m             \u001b[0mself\u001b[0m\u001b[1;33m.\u001b[0m\u001b[0merror_handler\u001b[0m\u001b[1;33m.\u001b[0m\u001b[0mcheck_response\u001b[0m\u001b[1;33m(\u001b[0m\u001b[0mresponse\u001b[0m\u001b[1;33m)\u001b[0m\u001b[1;33m\u001b[0m\u001b[1;33m\u001b[0m\u001b[0m\n\u001b[0m\u001b[0;32m    431\u001b[0m             response['value'] = self._unwrap_value(\n\u001b[0;32m    432\u001b[0m                 response.get('value', None))\n",
      "\u001b[1;32m~\\anaconda3\\lib\\site-packages\\selenium\\webdriver\\remote\\errorhandler.py\u001b[0m in \u001b[0;36mcheck_response\u001b[1;34m(self, response)\u001b[0m\n\u001b[0;32m    245\u001b[0m                 \u001b[0malert_text\u001b[0m \u001b[1;33m=\u001b[0m \u001b[0mvalue\u001b[0m\u001b[1;33m[\u001b[0m\u001b[1;34m'alert'\u001b[0m\u001b[1;33m]\u001b[0m\u001b[1;33m.\u001b[0m\u001b[0mget\u001b[0m\u001b[1;33m(\u001b[0m\u001b[1;34m'text'\u001b[0m\u001b[1;33m)\u001b[0m\u001b[1;33m\u001b[0m\u001b[1;33m\u001b[0m\u001b[0m\n\u001b[0;32m    246\u001b[0m             \u001b[1;32mraise\u001b[0m \u001b[0mexception_class\u001b[0m\u001b[1;33m(\u001b[0m\u001b[0mmessage\u001b[0m\u001b[1;33m,\u001b[0m \u001b[0mscreen\u001b[0m\u001b[1;33m,\u001b[0m \u001b[0mstacktrace\u001b[0m\u001b[1;33m,\u001b[0m \u001b[0malert_text\u001b[0m\u001b[1;33m)\u001b[0m  \u001b[1;31m# type: ignore[call-arg]  # mypy is not smart enough here\u001b[0m\u001b[1;33m\u001b[0m\u001b[1;33m\u001b[0m\u001b[0m\n\u001b[1;32m--> 247\u001b[1;33m         \u001b[1;32mraise\u001b[0m \u001b[0mexception_class\u001b[0m\u001b[1;33m(\u001b[0m\u001b[0mmessage\u001b[0m\u001b[1;33m,\u001b[0m \u001b[0mscreen\u001b[0m\u001b[1;33m,\u001b[0m \u001b[0mstacktrace\u001b[0m\u001b[1;33m)\u001b[0m\u001b[1;33m\u001b[0m\u001b[1;33m\u001b[0m\u001b[0m\n\u001b[0m\u001b[0;32m    248\u001b[0m \u001b[1;33m\u001b[0m\u001b[0m\n\u001b[0;32m    249\u001b[0m     \u001b[1;32mdef\u001b[0m \u001b[0m_value_or_default\u001b[0m\u001b[1;33m(\u001b[0m\u001b[0mself\u001b[0m\u001b[1;33m,\u001b[0m \u001b[0mobj\u001b[0m\u001b[1;33m:\u001b[0m \u001b[0mMapping\u001b[0m\u001b[1;33m[\u001b[0m\u001b[0m_KT\u001b[0m\u001b[1;33m,\u001b[0m \u001b[0m_VT\u001b[0m\u001b[1;33m]\u001b[0m\u001b[1;33m,\u001b[0m \u001b[0mkey\u001b[0m\u001b[1;33m:\u001b[0m \u001b[0m_KT\u001b[0m\u001b[1;33m,\u001b[0m \u001b[0mdefault\u001b[0m\u001b[1;33m:\u001b[0m \u001b[0m_VT\u001b[0m\u001b[1;33m)\u001b[0m \u001b[1;33m->\u001b[0m \u001b[0m_VT\u001b[0m\u001b[1;33m:\u001b[0m\u001b[1;33m\u001b[0m\u001b[1;33m\u001b[0m\u001b[0m\n",
      "\u001b[1;31mWebDriverException\u001b[0m: Message: unknown error: net::ERR_NAME_NOT_RESOLVED\n  (Session info: chrome=105.0.5195.126)\nStacktrace:\nBacktrace:\n\tOrdinal0 [0x0082DF13+2219795]\n\tOrdinal0 [0x007C2841+1779777]\n\tOrdinal0 [0x006D423D+803389]\n\tOrdinal0 [0x006D0A12+789010]\n\tOrdinal0 [0x006C78FD+751869]\n\tOrdinal0 [0x006C853F+755007]\n\tOrdinal0 [0x006C7B11+752401]\n\tOrdinal0 [0x006C706A+749674]\n\tOrdinal0 [0x006C5F94+745364]\n\tOrdinal0 [0x006C63FD+746493]\n\tOrdinal0 [0x006D5A8E+809614]\n\tOrdinal0 [0x0072F87D+1177725]\n\tOrdinal0 [0x0071E7FC+1107964]\n\tOrdinal0 [0x0072F192+1175954]\n\tOrdinal0 [0x0071E616+1107478]\n\tOrdinal0 [0x006F7F89+950153]\n\tOrdinal0 [0x006F8F56+954198]\n\tGetHandleVerifier [0x00B22CB2+3040210]\n\tGetHandleVerifier [0x00B12BB4+2974420]\n\tGetHandleVerifier [0x008C6A0A+565546]\n\tGetHandleVerifier [0x008C5680+560544]\n\tOrdinal0 [0x007C9A5C+1808988]\n\tOrdinal0 [0x007CE3A8+1827752]\n\tOrdinal0 [0x007CE495+1827989]\n\tOrdinal0 [0x007D80A4+1867940]\n\tBaseThreadInitThunk [0x76917BA9+25]\n\tRtlInitializeExceptionChain [0x76F9BB3B+107]\n\tRtlClearBits [0x76F9BABF+191]\n"
     ]
    }
   ],
   "source": [
    "driver=webdriver.Chrome(\"C:\\Webdriver Chrome\\chromedriver.exe\")\n",
    "driver.get('https://books.toscrape.com/')"
   ]
  },
  {
   "cell_type": "code",
   "execution_count": null,
   "id": "a58d5b50",
   "metadata": {},
   "outputs": [],
   "source": []
  }
 ],
 "metadata": {
  "kernelspec": {
   "display_name": "Python 3 (ipykernel)",
   "language": "python",
   "name": "python3"
  },
  "language_info": {
   "codemirror_mode": {
    "name": "ipython",
    "version": 3
   },
   "file_extension": ".py",
   "mimetype": "text/x-python",
   "name": "python",
   "nbconvert_exporter": "python",
   "pygments_lexer": "ipython3",
   "version": "3.9.7"
  }
 },
 "nbformat": 4,
 "nbformat_minor": 5
}
