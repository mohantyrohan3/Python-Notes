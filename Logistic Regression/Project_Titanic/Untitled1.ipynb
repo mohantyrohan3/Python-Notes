{
 "cells": [
  {
   "cell_type": "code",
   "execution_count": 1,
   "id": "25d3604e",
   "metadata": {},
   "outputs": [],
   "source": [
    "import numpy as np\n",
    "import pandas as pd\n",
    "from sklearn import preprocessing\n",
    "from sklearn import model_selection\n",
    "from sklearn.linear_model import LogisticRegression\n",
    "from sklearn.ensemble import RandomForestClassifier\n",
    "training=pd.read_csv('train.csv').copy()\n",
    "testing=pd.read_csv('test.csv').copy()"
   ]
  },
  {
   "cell_type": "code",
   "execution_count": 2,
   "id": "dcc4a38f",
   "metadata": {},
   "outputs": [
    {
     "data": {
      "text/plain": [
       "array([3, 2, 2, 3, 2, 2, 3, 2, 2, 2, 1, 2, 2, 2, 1, 2, 2, 2, 2, 1, 4, 3,\n",
       "       3, 2, 3, 1, 2, 2, 2, 2, 3, 2, 2, 1, 4, 2, 0, 0, 2, 2, 2, 2, 3, 1,\n",
       "       2, 2, 2, 2, 3, 2, 1, 0, 2, 3, 2, 1, 2, 2, 2, 3, 2, 2, 2, 3, 1, 3,\n",
       "       2, 2, 2, 2, 3, 2, 2, 2, 2, 1, 1, 4, 3, 3, 3, 2, 3, 2, 1, 2, 2, 2,\n",
       "       2, 2, 3, 3, 1, 2, 2, 2, 1, 2, 2, 1, 2, 2, 2, 2, 1, 2, 2, 2, 1, 2,\n",
       "       1, 3, 2, 1, 2, 2, 2, 2, 1, 1, 3, 4, 1, 1, 1, 2, 2, 2, 2, 3, 2, 1,\n",
       "       2, 2, 2, 3, 2, 2, 2, 4, 2, 3, 2, 2, 2, 2, 3, 2, 1, 1, 3, 2, 3, 1,\n",
       "       3, 2, 3, 2, 1, 3, 3, 1, 2, 2, 2, 4, 2, 2, 2, 0, 2, 4, 3, 2, 4, 1,\n",
       "       3, 2, 2, 2, 2, 1, 3, 2, 3, 0, 2, 1, 3, 2, 2, 1, 1, 2, 2, 2, 2, 2,\n",
       "       2, 2, 1, 4, 1, 2, 1, 2, 3, 2, 2, 0, 3, 3, 1, 2, 1, 2, 2, 0, 1, 1,\n",
       "       1, 2, 3, 2, 2, 2, 3, 2, 3, 2, 2, 0, 3, 2, 2, 2, 2, 3, 2, 1, 2, 2,\n",
       "       2, 3, 2, 2, 1, 3, 1, 2, 2, 2, 1, 2, 2, 1, 2, 2, 2, 2, 3, 2, 2, 4,\n",
       "       2, 2, 3, 2, 2, 2, 0, 0, 2, 3, 1, 2, 2, 0, 2, 2, 2, 3, 1, 2, 2, 1,\n",
       "       1, 2, 2, 2, 1, 2, 2, 1, 3, 1, 0, 2, 2, 1, 2, 2, 0, 3, 2, 2, 2, 3,\n",
       "       2, 1, 1, 2, 3, 2, 2, 2, 3, 2, 2, 2, 3, 2, 2, 0, 1, 2, 1, 3, 2, 3,\n",
       "       3, 2, 4, 2, 1, 3, 1, 2, 2, 2, 2, 1, 2, 2, 4, 3, 1, 1, 2, 1, 2, 2,\n",
       "       2, 2, 1, 2, 2, 2, 3, 2, 1, 2, 2, 2, 2, 2, 2, 2, 2, 2, 2, 2, 2, 2,\n",
       "       2, 2, 1, 3, 3, 2, 2, 2, 2, 1, 2, 2, 1, 1, 1, 2, 1, 4, 1, 2, 2, 2,\n",
       "       2, 1, 2, 3, 2, 0, 2, 2, 1, 1, 4, 1, 0, 3, 2, 2, 3, 2, 0, 1, 0, 3,\n",
       "       2, 1, 2, 2, 2, 2, 2, 2, 3, 2, 3, 3, 2, 2, 3, 2, 1, 2, 0, 3, 1, 3,\n",
       "       2, 2, 1, 2, 2, 3, 2, 2, 1, 1, 3, 1, 1, 2, 2, 3, 3, 2, 0, 2, 2, 2,\n",
       "       3, 1, 2, 2, 1, 2, 2, 0, 2, 1, 2, 2, 2, 2, 2, 2, 2, 2, 3, 2, 2, 2,\n",
       "       2, 2, 2, 2, 3, 0, 2, 2, 1, 2, 2, 2, 3, 0, 2, 2, 2, 2, 2, 2, 2, 2,\n",
       "       3, 2, 2, 2, 2, 2, 1, 1, 1, 2, 2, 2, 2, 2, 2, 2, 2, 2, 2, 3, 2, 3,\n",
       "       1, 3, 0, 2, 3, 2, 1, 1, 2, 1, 2, 2, 3, 2, 3, 2, 2, 0, 2, 1, 1, 2,\n",
       "       2, 0, 2, 1, 3, 2, 1, 2, 3, 2, 2, 1, 2, 1, 2, 2, 3, 1, 2, 2, 2, 1,\n",
       "       1, 2, 2, 2, 2, 1, 1, 3, 2, 2, 1, 2, 2, 1, 1, 1, 2, 0, 1, 3, 3, 1,\n",
       "       2, 2, 2, 3, 4, 2, 2, 2, 2, 1, 2, 2, 1, 2, 1, 3, 2, 2, 2, 2, 3, 2,\n",
       "       0, 2, 1, 2, 1, 2, 3, 3, 2, 4, 1, 1, 2, 2, 2, 2, 2, 2, 2, 1, 2, 1,\n",
       "       2, 3, 1, 2, 2, 2, 2, 0, 1, 2, 4, 2, 2, 2, 3, 3, 2, 2, 2, 2, 3, 2,\n",
       "       0, 3, 2, 1, 2, 2, 1, 1])"
      ]
     },
     "execution_count": 2,
     "metadata": {},
     "output_type": "execute_result"
    }
   ],
   "source": [
    "title_training=[]\n",
    "for i in training['Name']:\n",
    "    title_training.append(i.split(',')[1].split('.')[0].strip())\n",
    "title_training=np.array(title_training)\n",
    "title_training[title_training=='Master']=0\n",
    "title_training[title_training=='Miss']=1\n",
    "title_training[title_training=='Mr']=2\n",
    "title_training[title_training=='Mrs']=3\n",
    "title_training[(title_training!='0')&(title_training!='1')&(title_training!='2')&(title_training!='3')]=4\n",
    "title_training=np.array(title_training, dtype='int')\n",
    "title_training"
   ]
  },
  {
   "cell_type": "code",
   "execution_count": 3,
   "id": "2e22612b",
   "metadata": {},
   "outputs": [
    {
     "data": {
      "text/plain": [
       "array([0, 4, 2, 3, 2, 2, 2, 2, 1, 2, 1, 2, 1, 1, 2, 2, 2, 0, 2, 1, 1, 2,\n",
       "       1, 1, 2, 2, 2, 2, 1, 1, 2, 2, 2, 2, 2, 3, 1, 2, 2, 2, 1, 2, 4, 2,\n",
       "       1, 0, 2, 1, 2, 2, 2, 1, 3, 1, 2, 2, 0, 2, 2, 2, 2, 4, 3, 1, 3, 2,\n",
       "       2, 4, 1, 4, 2, 2, 2, 2, 2, 3, 1, 2, 2, 2, 2, 2, 2, 2, 2, 2, 2, 1,\n",
       "       2, 2, 1, 2, 2, 1, 2, 2, 2, 2, 0, 1, 1, 2, 1, 0, 1, 1, 4, 4, 2, 2,\n",
       "       2, 3, 3, 2, 3, 2, 2, 1, 2, 2, 2, 2, 2, 2, 2, 0, 0, 2, 2, 2, 2, 2,\n",
       "       2, 2, 2, 2, 1, 2, 1, 2, 2, 2, 2, 2, 2, 2, 2, 2, 1, 3, 1, 2, 1, 2,\n",
       "       1, 2, 2, 1, 2, 0, 2, 1, 3, 1, 1, 2, 2, 2, 3, 1, 3, 1, 1, 2, 1, 2,\n",
       "       2, 2, 2, 1, 2, 2, 0, 1, 3, 2, 3, 2, 1, 2, 2, 2, 3, 2, 2, 1, 1, 1,\n",
       "       3, 4, 2, 4, 2, 2, 2, 2, 2, 2, 3, 1, 2, 1, 2, 2, 1, 1, 2, 2, 2, 4,\n",
       "       3, 2, 2])"
      ]
     },
     "execution_count": 3,
     "metadata": {},
     "output_type": "execute_result"
    }
   ],
   "source": [
    "title_testing=[]\n",
    "for i in testing['Name']:\n",
    "    title_testing.append(i.split(',')[1].split('.')[0].strip())\n",
    "title_testing=np.array(title_testing)\n",
    "title_testing[title_testing=='Master']=0\n",
    "title_testing[title_testing=='Miss']=1\n",
    "title_testing[title_testing=='Mr']=2\n",
    "title_testing[title_testing=='Mrs']=3\n",
    "title_testing[(title_testing!='0')&(title_testing!='1')&(title_testing!='2')&(title_testing!='3')]=4\n",
    "title_testing=np.array(title_testing, dtype='int')\n",
    "title_testing"
   ]
  },
  {
   "cell_type": "code",
   "execution_count": 4,
   "id": "a0a5344d",
   "metadata": {},
   "outputs": [
    {
     "data": {
      "text/plain": [
       "(668, 9)"
      ]
     },
     "execution_count": 4,
     "metadata": {},
     "output_type": "execute_result"
    }
   ],
   "source": [
    "tr=training\n",
    "tr=tr.drop('Name', axis=1)\n",
    "tr.loc[tr['Sex']=='female', 'Sex']=0\n",
    "tr.loc[tr['Sex']=='male', 'Sex']=1\n",
    "tr.loc[tr['Age'].isnull(), 'Age']=tr.loc[tr['Age'].notnull() , 'Age'].median()\n",
    "tr.loc[tr['Embarked'].isnull(), 'Embarked']='S'\n",
    "tr.loc[tr['Embarked']=='S', 'Embarked']=1\n",
    "tr.loc[tr['Embarked']=='C', 'Embarked']=2\n",
    "tr.loc[tr['Embarked']=='Q', 'Embarked']=3\n",
    "tr.loc[tr['Cabin'].isnull(), 'Cabin']=0\n",
    "tr.loc[tr['Cabin']!=0, 'Cabin']=1\n",
    "tr=tr.drop('Ticket', axis=1)\n",
    "training_data=tr.values\n",
    "x=training_data[:, :-1]\n",
    "y=training_data[:, -1]\n",
    "x=np.append(x, title_training.reshape(-1, 1), axis=1)\n",
    "x.shape"
   ]
  },
  {
   "cell_type": "code",
   "execution_count": 5,
   "id": "5babefb7",
   "metadata": {},
   "outputs": [
    {
     "data": {
      "text/plain": [
       "(223, 9)"
      ]
     },
     "execution_count": 5,
     "metadata": {},
     "output_type": "execute_result"
    }
   ],
   "source": [
    "ts=testing\n",
    "ts=ts.drop('Name', axis=1)\n",
    "ts.loc[ts['Sex']=='female', 'Sex']=0\n",
    "ts.loc[ts['Sex']=='male', 'Sex']=1\n",
    "ts.loc[ts['Age'].isnull(), 'Age']=ts.loc[ts['Age'].notnull() , 'Age'].median()\n",
    "ts.loc[ts['Embarked'].isnull(), 'Embarked']='S'\n",
    "ts.loc[ts['Embarked']=='S', 'Embarked']=1\n",
    "ts.loc[ts['Embarked']=='C', 'Embarked']=2\n",
    "ts.loc[ts['Embarked']=='Q', 'Embarked']=3\n",
    "ts.loc[ts['Cabin'].isnull(), 'Cabin']=0\n",
    "ts.loc[ts['Cabin']!=0, 'Cabin']=1\n",
    "ts=ts.drop('Ticket', axis=1)\n",
    "testing_data=ts.values\n",
    "testing_data=np.append(testing_data, title_testing.reshape(-1, 1), axis=1)\n",
    "testing_data.shape"
   ]
  },
  {
   "cell_type": "code",
   "execution_count": 7,
   "id": "a1c09d91",
   "metadata": {},
   "outputs": [],
   "source": [
    "y=y.astype('int')"
   ]
  },
  {
   "cell_type": "code",
   "execution_count": 8,
   "id": "cd66cecc",
   "metadata": {},
   "outputs": [
    {
     "data": {
      "text/plain": [
       "LogisticRegression(max_iter=100000, solver='saga', tol=1e-05)"
      ]
     },
     "execution_count": 8,
     "metadata": {},
     "output_type": "execute_result"
    }
   ],
   "source": [
    "clf=LogisticRegression(solver='saga', max_iter=100000, tol=0.00001)\n",
    "clf.fit(x, y)"
   ]
  },
  {
   "cell_type": "code",
   "execution_count": 11,
   "id": "23ee44ff",
   "metadata": {},
   "outputs": [],
   "source": [
    "predicted=clf.predict(testing_data)"
   ]
  },
  {
   "cell_type": "code",
   "execution_count": 12,
   "id": "c78781de",
   "metadata": {},
   "outputs": [],
   "source": [
    "np.savetxt(X=predicted, delimiter=',', fname='titanic predicted.csv', fmt='%.0f')"
   ]
  },
  {
   "cell_type": "code",
   "execution_count": null,
   "id": "7a40fd0a",
   "metadata": {},
   "outputs": [],
   "source": []
  },
  {
   "cell_type": "code",
   "execution_count": null,
   "id": "3f08f713",
   "metadata": {},
   "outputs": [],
   "source": []
  },
  {
   "cell_type": "code",
   "execution_count": null,
   "id": "2e0b9ed1",
   "metadata": {},
   "outputs": [],
   "source": []
  },
  {
   "cell_type": "code",
   "execution_count": null,
   "id": "ee206142",
   "metadata": {},
   "outputs": [],
   "source": []
  },
  {
   "cell_type": "code",
   "execution_count": 13,
   "id": "e8c1bfef",
   "metadata": {},
   "outputs": [
    {
     "data": {
      "text/plain": [
       "array([0., 1., 0., 1., 0., 0., 0., 0., 1., 0., 1., 0., 1., 1., 0., 0., 0.,\n",
       "       0., 0., 1., 1., 0., 1., 1., 0., 0., 0., 0., 1., 1., 0., 0., 0., 0.,\n",
       "       0., 1., 1., 0., 0., 0., 1., 0., 0., 0., 1., 1., 0., 1., 0., 0., 0.,\n",
       "       1., 1., 1., 0., 0., 0., 0., 0., 0., 0., 0., 1., 1., 1., 0., 0., 0.,\n",
       "       1., 1., 0., 0., 0., 0., 0., 1., 1., 0., 0., 0., 0., 1., 0., 0., 0.,\n",
       "       1., 1., 0., 0., 0., 1., 0., 0., 1., 0., 0., 0., 0., 0., 1., 1., 0.,\n",
       "       1., 0., 1., 1., 0., 0., 0., 0., 0., 1., 1., 0., 1., 0., 0., 1., 0.,\n",
       "       0., 0., 0., 0., 0., 0., 0., 0., 0., 0., 0., 0., 0., 0., 0., 0., 0.,\n",
       "       1., 0., 1., 0., 0., 0., 0., 0., 0., 0., 0., 0., 1., 1., 1., 0., 0.,\n",
       "       0., 1., 0., 0., 1., 0., 0., 0., 1., 1., 1., 1., 0., 0., 0., 1., 1.,\n",
       "       1., 1., 1., 0., 1., 0., 0., 0., 0., 1., 0., 0., 0., 1., 1., 0., 1.,\n",
       "       0., 1., 0., 0., 0., 1., 0., 0., 1., 1., 1., 1., 1., 1., 1., 0., 0.,\n",
       "       0., 0., 0., 0., 1., 0., 0., 1., 0., 0., 1., 1., 0., 0., 0., 0., 1.,\n",
       "       0., 0.])"
      ]
     },
     "execution_count": 13,
     "metadata": {},
     "output_type": "execute_result"
    }
   ],
   "source": [
    "data1=np.loadtxt('titanic predicted.csv')\n",
    "data1"
   ]
  },
  {
   "cell_type": "code",
   "execution_count": 15,
   "id": "f90a587b",
   "metadata": {},
   "outputs": [
    {
     "data": {
      "text/plain": [
       "array([0., 1., 0., 1., 0., 0., 0., 0., 1., 0., 1., 0., 1., 1., 0., 0., 0.,\n",
       "       0., 0., 1., 1., 0., 1., 1., 0., 1., 0., 0., 1., 1., 0., 0., 0., 0.,\n",
       "       0., 1., 1., 0., 0., 0., 1., 0., 0., 0., 1., 1., 0., 1., 0., 0., 0.,\n",
       "       1., 1., 1., 0., 0., 0., 0., 0., 0., 0., 0., 1., 1., 1., 0., 0., 1.,\n",
       "       1., 0., 0., 0., 1., 0., 0., 1., 1., 0., 0., 0., 0., 1., 0., 0., 0.,\n",
       "       1., 1., 1., 0., 0., 1., 0., 0., 1., 0., 0., 0., 0., 0., 1., 1., 0.,\n",
       "       1., 0., 1., 1., 0., 0., 0., 0., 0., 1., 1., 0., 1., 0., 0., 1., 0.,\n",
       "       0., 0., 0., 0., 0., 1., 0., 0., 0., 0., 1., 0., 0., 0., 0., 0., 0.,\n",
       "       1., 1., 1., 0., 0., 0., 0., 0., 0., 0., 0., 0., 1., 1., 1., 0., 0.,\n",
       "       0., 1., 0., 0., 1., 0., 0., 0., 1., 1., 1., 1., 0., 1., 0., 1., 1.,\n",
       "       1., 1., 1., 0., 1., 0., 0., 0., 0., 1., 0., 0., 0., 1., 1., 0., 1.,\n",
       "       0., 1., 0., 0., 0., 1., 0., 0., 1., 1., 1., 1., 1., 0., 1., 0., 0.,\n",
       "       0., 0., 0., 0., 1., 0., 1., 0., 0., 1., 1., 0., 0., 0., 0., 1., 0.,\n",
       "       0.])"
      ]
     },
     "execution_count": 15,
     "metadata": {},
     "output_type": "execute_result"
    }
   ],
   "source": [
    "data2=np.loadtxt('sample.csv')\n",
    "data2"
   ]
  },
  {
   "cell_type": "code",
   "execution_count": 21,
   "id": "038c2f8d",
   "metadata": {},
   "outputs": [
    {
     "data": {
      "text/plain": [
       "array([ 0.,  0.,  0.,  0.,  0.,  0.,  0.,  0.,  0.,  0.,  0.,  0.,  0.,\n",
       "        0.,  0.,  0.,  0.,  0.,  0.,  0.,  0.,  0.,  0.,  0.,  0., -1.,\n",
       "        0.,  0.,  0.,  0.,  0.,  0.,  0.,  0.,  0.,  0.,  0.,  0.,  0.,\n",
       "        0.,  0.,  0.,  0.,  0.,  0.,  0.,  0.,  0.,  0.,  0.,  0.,  0.,\n",
       "        0.,  0.,  0.,  0.,  0.,  0.,  0.,  0.,  0.,  0.,  0.,  0.,  0.,\n",
       "        0.,  0., -1.,  0.,  1.,  0.,  0., -1.,  0.,  0.,  0.,  0.,  0.,\n",
       "        0.,  0.,  0.,  0.,  0.,  0.,  0.,  0.,  0., -1.,  0.,  0.,  0.,\n",
       "        0.,  0.,  0.,  0.,  0.,  0.,  0.,  0.,  0.,  0.,  0.,  0.,  0.,\n",
       "        0.,  0.,  0.,  0.,  0.,  0.,  0.,  0.,  0.,  0.,  0.,  0.,  0.,\n",
       "        0.,  0.,  0.,  0.,  0.,  0.,  0., -1.,  0.,  0.,  0.,  0., -1.,\n",
       "        0.,  0.,  0.,  0.,  0.,  0.,  0., -1.,  0.,  0.,  0.,  0.,  0.,\n",
       "        0.,  0.,  0.,  0.,  0.,  0.,  0.,  0.,  0.,  0.,  0.,  0.,  0.,\n",
       "        0.,  0.,  0.,  0.,  0.,  0.,  0.,  0.,  0.,  0., -1.,  0.,  0.,\n",
       "        0.,  0.,  0.,  0.,  0.,  0.,  0.,  0.,  0.,  0.,  0.,  0.,  0.,\n",
       "        0.,  0.,  0.,  0.,  0.,  0.,  0.,  0.,  0.,  0.,  0.,  0.,  0.,\n",
       "        0.,  0.,  0.,  0.,  0.,  1.,  0.,  0.,  0.,  0.,  0.,  0.,  0.,\n",
       "        0.,  0., -1.,  1.,  0., -1.,  0.,  1.,  0.,  0.,  0., -1.,  1.,\n",
       "        0.])"
      ]
     },
     "execution_count": 21,
     "metadata": {},
     "output_type": "execute_result"
    }
   ],
   "source": [
    "data1[:222]-data2"
   ]
  },
  {
   "cell_type": "code",
   "execution_count": null,
   "id": "d4d1da29",
   "metadata": {},
   "outputs": [],
   "source": []
  }
 ],
 "metadata": {
  "kernelspec": {
   "display_name": "Python 3 (ipykernel)",
   "language": "python",
   "name": "python3"
  },
  "language_info": {
   "codemirror_mode": {
    "name": "ipython",
    "version": 3
   },
   "file_extension": ".py",
   "mimetype": "text/x-python",
   "name": "python",
   "nbconvert_exporter": "python",
   "pygments_lexer": "ipython3",
   "version": "3.9.7"
  }
 },
 "nbformat": 4,
 "nbformat_minor": 5
}
