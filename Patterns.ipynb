{
 "cells": [
  {
   "cell_type": "markdown",
   "id": "bf301c23",
   "metadata": {},
   "source": [
    "# Patterns"
   ]
  },
  {
   "cell_type": "raw",
   "id": "e27cb9a7",
   "metadata": {},
   "source": [
    "****\n",
    "****\n",
    "****\n",
    "****"
   ]
  },
  {
   "cell_type": "code",
   "execution_count": 2,
   "id": "fd77c183",
   "metadata": {},
   "outputs": [
    {
     "name": "stdout",
     "output_type": "stream",
     "text": [
      "4\n",
      "****\n",
      "****\n",
      "****\n",
      "****\n"
     ]
    }
   ],
   "source": [
    "n=int(input())\n",
    "i=1\n",
    "while i<=n:\n",
    "    j=1\n",
    "    while j<=n:\n",
    "        print(\"*\",end='') #Important \n",
    "        j=j+1\n",
    "    print()\n",
    "    i=i+1    "
   ]
  },
  {
   "cell_type": "raw",
   "id": "5e9cb3ba",
   "metadata": {},
   "source": [
    "4321\n",
    "4321\n",
    "4321\n",
    "4321"
   ]
  },
  {
   "cell_type": "code",
   "execution_count": 4,
   "id": "da6c05a8",
   "metadata": {},
   "outputs": [
    {
     "name": "stdout",
     "output_type": "stream",
     "text": [
      "4\n",
      "4321\n",
      "4321\n",
      "4321\n",
      "4321\n"
     ]
    }
   ],
   "source": [
    "m=int(input())\n",
    "i=1\n",
    "while i<=m:\n",
    "    j=1\n",
    "    while j<=m:\n",
    "        print(m-j+1,end='')\n",
    "        j=j+1\n",
    "    print()\n",
    "    i=i+1"
   ]
  },
  {
   "cell_type": "markdown",
   "id": "664e7953",
   "metadata": {},
   "source": [
    "1\n",
    "23\n",
    "456\n",
    "78910 "
   ]
  },
  {
   "cell_type": "code",
   "execution_count": 8,
   "id": "057ec2b5",
   "metadata": {},
   "outputs": [
    {
     "name": "stdout",
     "output_type": "stream",
     "text": [
      "4\n",
      "1  \n",
      "2  3  \n",
      "4  5  6  \n",
      "7  8  9  10  \n"
     ]
    }
   ],
   "source": [
    "n=int(input())\n",
    "i=1\n",
    "ans=1\n",
    "while i<=n:\n",
    "    j=1\n",
    "    while j<=i:\n",
    "        print(ans,\" \",end='')\n",
    "        j=j+1\n",
    "        ans=ans+1\n",
    "    print()\n",
    "    i=i+1"
   ]
  },
  {
   "cell_type": "markdown",
   "id": "5f5b058f",
   "metadata": {},
   "source": [
    "#### Character Patterns"
   ]
  },
  {
   "cell_type": "code",
   "execution_count": 10,
   "id": "c2470e9c",
   "metadata": {},
   "outputs": [
    {
     "name": "stdout",
     "output_type": "stream",
     "text": [
      "4\n",
      "A\n",
      "AB\n",
      "ABC\n",
      "ABCD\n"
     ]
    }
   ],
   "source": [
    "# ord() gives the ascii value of Characters\n",
    "#chr() gives the char value of ascii\n",
    "n=int(input())\n",
    "i=1\n",
    "while i<=n:\n",
    "    j=1\n",
    "    while j<=i:\n",
    "        charJ=chr(ord('A')+j-1)\n",
    "        print(charJ,end='')\n",
    "        j=j+1\n",
    "    print()\n",
    "    i=i+1"
   ]
  },
  {
   "cell_type": "code",
   "execution_count": 11,
   "id": "44214dae",
   "metadata": {},
   "outputs": [
    {
     "name": "stdout",
     "output_type": "stream",
     "text": [
      "4\n",
      "   1\n",
      "  232\n",
      " 34543\n",
      "4567654\n"
     ]
    }
   ],
   "source": [
    "#Triangle of Numbers \n",
    "n=int(input())\n",
    "i=1\n",
    "while i<=n:\n",
    "    k=1\n",
    "    while k<=n-i:\n",
    "        print(\" \",end='')\n",
    "        k=k+1\n",
    "    j=i\n",
    "    while j<=(2*i-1):\n",
    "        print(j,end='')\n",
    "        j=j+1\n",
    "    j=j-2\n",
    "    while j>=i:\n",
    "        print(j,end='')\n",
    "        j=j-1\n",
    "    print()\n",
    "    i=i+1"
   ]
  },
  {
   "cell_type": "code",
   "execution_count": 12,
   "id": "938d6339",
   "metadata": {},
   "outputs": [
    {
     "name": "stdout",
     "output_type": "stream",
     "text": [
      "5\n",
      "  *\n",
      " ***\n",
      "*****\n",
      " ***\n",
      "  *\n"
     ]
    }
   ],
   "source": [
    "#Diamond of Stars\n",
    "n=int(input())\n",
    "n1=(n+1)//2\n",
    "n2=n-n1\n",
    "i=1\n",
    "while i<=n1:\n",
    "    k=1\n",
    "    while k<=n1-i:\n",
    "        print(\" \",end='')\n",
    "        k=k+1\n",
    "    j=1\n",
    "    while j<=(2*i-1):\n",
    "        print(\"*\",end='')\n",
    "        j=j+1\n",
    "    print()\n",
    "    i=i+1\n",
    "i1=n2\n",
    "while i1>=1:\n",
    "    k1=1\n",
    "    while k1<=n2-i1+1:\n",
    "        print(\" \",end='')\n",
    "        k1=k1+1\n",
    "    j1=1\n",
    "    while j1<=(2*i1-1):\n",
    "        print(\"*\",end='')\n",
    "        j1=j1+1\n",
    "    print()\n",
    "    i1=i1-1"
   ]
  }
 ],
 "metadata": {
  "kernelspec": {
   "display_name": "Python 3 (ipykernel)",
   "language": "python",
   "name": "python3"
  },
  "language_info": {
   "codemirror_mode": {
    "name": "ipython",
    "version": 3
   },
   "file_extension": ".py",
   "mimetype": "text/x-python",
   "name": "python",
   "nbconvert_exporter": "python",
   "pygments_lexer": "ipython3",
   "version": "3.9.7"
  }
 },
 "nbformat": 4,
 "nbformat_minor": 5
}
