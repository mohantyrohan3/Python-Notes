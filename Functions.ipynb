{
 "cells": [
  {
   "cell_type": "markdown",
   "id": "4933e327",
   "metadata": {},
   "source": [
    "# Functions"
   ]
  },
  {
   "cell_type": "code",
   "execution_count": 2,
   "id": "f735c694",
   "metadata": {},
   "outputs": [],
   "source": [
    "# Basic Syntax of a function in python\n",
    "def fact(n):\n",
    "    ans=1\n",
    "    for i in range(1,n+1):\n",
    "        ans=ans*i\n",
    "    return ans\n"
   ]
  },
  {
   "cell_type": "code",
   "execution_count": 3,
   "id": "5cb5e56f",
   "metadata": {},
   "outputs": [
    {
     "name": "stdout",
     "output_type": "stream",
     "text": [
      "5\n",
      "120\n"
     ]
    }
   ],
   "source": [
    "n=int(input())\n",
    "print(fact(n))"
   ]
  },
  {
   "cell_type": "code",
   "execution_count": 4,
   "id": "c0d6814f",
   "metadata": {},
   "outputs": [],
   "source": [
    "def prime(n):\n",
    "    for i in range(2,n):\n",
    "        if n%i==0:\n",
    "            return 1\n",
    "            break\n",
    "    return 0"
   ]
  },
  {
   "cell_type": "code",
   "execution_count": 6,
   "id": "3e931926",
   "metadata": {},
   "outputs": [
    {
     "name": "stdout",
     "output_type": "stream",
     "text": [
      "25\n",
      "Not Prime\n"
     ]
    }
   ],
   "source": [
    "n=int(input())\n",
    "if prime(n):\n",
    "    print(\"Not Prime\")\n",
    "else:\n",
    "    print(\"Prime\")"
   ]
  },
  {
   "cell_type": "code",
   "execution_count": 7,
   "id": "9dfe5f5f",
   "metadata": {},
   "outputs": [],
   "source": [
    "def printTable(start,E,step):\n",
    "    while start<=E:\n",
    "        ans=(((start - 32) * 5) / 9)\n",
    "        print(start, int(ans))\n",
    "        start=start+step"
   ]
  },
  {
   "cell_type": "code",
   "execution_count": 8,
   "id": "fb24bb01",
   "metadata": {},
   "outputs": [
    {
     "name": "stdout",
     "output_type": "stream",
     "text": [
      "0\n",
      "100\n",
      "20\n",
      "0 -17\n",
      "20 -6\n",
      "40 4\n",
      "60 15\n",
      "80 26\n",
      "100 37\n"
     ]
    }
   ],
   "source": [
    "s = int(input())\n",
    "e = int(input())\n",
    "step = int(input())\n",
    "printTable(s,e,step)"
   ]
  },
  {
   "cell_type": "code",
   "execution_count": 15,
   "id": "b858b7a8",
   "metadata": {},
   "outputs": [],
   "source": [
    "def incr(l):\n",
    "    for i in range(len(l)):\n",
    "        l[i]=l[i]+1"
   ]
  },
  {
   "cell_type": "code",
   "execution_count": 16,
   "id": "dcae3de4",
   "metadata": {},
   "outputs": [
    {
     "name": "stdout",
     "output_type": "stream",
     "text": [
      "[2, 3, 4]\n"
     ]
    }
   ],
   "source": [
    "l=[1,2,3]\n",
    "incr(l)\n",
    "print(l)"
   ]
  },
  {
   "cell_type": "code",
   "execution_count": null,
   "id": "9ce2746b",
   "metadata": {},
   "outputs": [],
   "source": []
  }
 ],
 "metadata": {
  "kernelspec": {
   "display_name": "Python 3 (ipykernel)",
   "language": "python",
   "name": "python3"
  },
  "language_info": {
   "codemirror_mode": {
    "name": "ipython",
    "version": 3
   },
   "file_extension": ".py",
   "mimetype": "text/x-python",
   "name": "python",
   "nbconvert_exporter": "python",
   "pygments_lexer": "ipython3",
   "version": "3.9.7"
  }
 },
 "nbformat": 4,
 "nbformat_minor": 5
}
