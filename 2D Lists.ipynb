{
 "cells": [
  {
   "cell_type": "markdown",
   "id": "4da755ec",
   "metadata": {},
   "source": [
    "# 2D Lists"
   ]
  },
  {
   "cell_type": "code",
   "execution_count": 5,
   "id": "1c03f046",
   "metadata": {},
   "outputs": [
    {
     "data": {
      "text/plain": [
       "3"
      ]
     },
     "execution_count": 5,
     "metadata": {},
     "output_type": "execute_result"
    }
   ],
   "source": [
    "# A 2d list of m*n is said to be list containing m lists and each lists contains n elements in it\n",
    "a=[[1,2,3],[4,5,6]]\n",
    "a[0][2] # Accessing the element\n",
    "len(a)\n",
    "len(a[0])"
   ]
  },
  {
   "cell_type": "markdown",
   "id": "2860e2ac",
   "metadata": {},
   "source": [
    "## Taking input in a 2d string "
   ]
  },
  {
   "cell_type": "code",
   "execution_count": null,
   "id": "64c20abb",
   "metadata": {},
   "outputs": [],
   "source": [
    "m=int(input())\n",
    "n=int(input())\n",
    "l=[]\n",
    "for i in range(m):\n",
    "    next_row=[int(i) for i in input().split()]\n",
    "    l.append(next_row)\n",
    "l"
   ]
  },
  {
   "cell_type": "code",
   "execution_count": 10,
   "id": "4cd658aa",
   "metadata": {},
   "outputs": [
    {
     "data": {
      "text/plain": [
       "[[1, 2, 3], [4, 5, 6]]"
      ]
     },
     "execution_count": 10,
     "metadata": {},
     "output_type": "execute_result"
    }
   ],
   "source": [
    "a=[[1,2,3],[4,5,6],[7,8,9]]\n",
    "a[0:2] # Prints all the lists from 0 to 1\n"
   ]
  },
  {
   "cell_type": "code",
   "execution_count": 13,
   "id": "2c7aa8f3",
   "metadata": {},
   "outputs": [
    {
     "name": "stdout",
     "output_type": "stream",
     "text": [
      "1 2 3\n",
      "4 5 6\n",
      "7 8 9\n"
     ]
    },
    {
     "data": {
      "text/plain": [
       "[[1, 2, 3], [4, 5, 6], [7, 8, 9]]"
      ]
     },
     "execution_count": 13,
     "metadata": {},
     "output_type": "execute_result"
    }
   ],
   "source": [
    "# Better approach\n",
    "a=[[int(j) for j in input().split()] for i in range(3)]\n",
    "a"
   ]
  },
  {
   "cell_type": "code",
   "execution_count": 16,
   "id": "db032681",
   "metadata": {},
   "outputs": [
    {
     "name": "stdout",
     "output_type": "stream",
     "text": [
      "[[0.5, 7], [1, 2], [3, 1.5]]\n"
     ]
    }
   ],
   "source": [
    "points = [[1, 2], [3, 1.5], [0.5,7]]\n",
    "points.sort()\n",
    "print(points) 0"
   ]
  },
  {
   "cell_type": "code",
   "execution_count": null,
   "id": "3671423b",
   "metadata": {},
   "outputs": [],
   "source": []
  }
 ],
 "metadata": {
  "kernelspec": {
   "display_name": "Python 3 (ipykernel)",
   "language": "python",
   "name": "python3"
  },
  "language_info": {
   "codemirror_mode": {
    "name": "ipython",
    "version": 3
   },
   "file_extension": ".py",
   "mimetype": "text/x-python",
   "name": "python",
   "nbconvert_exporter": "python",
   "pygments_lexer": "ipython3",
   "version": "3.9.7"
  }
 },
 "nbformat": 4,
 "nbformat_minor": 5
}
