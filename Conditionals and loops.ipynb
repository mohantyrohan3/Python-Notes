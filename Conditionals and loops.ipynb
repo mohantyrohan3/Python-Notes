{
 "cells": [
  {
   "cell_type": "markdown",
   "id": "96d5c0b6",
   "metadata": {},
   "source": [
    "## Boolean"
   ]
  },
  {
   "cell_type": "code",
   "execution_count": 3,
   "id": "d9aadfe8",
   "metadata": {},
   "outputs": [],
   "source": [
    "a=True #reserved keywords\n",
    "b=False"
   ]
  },
  {
   "cell_type": "markdown",
   "id": "06f68979",
   "metadata": {},
   "source": [
    "### Relational Operators"
   ]
  },
  {
   "cell_type": "code",
   "execution_count": 5,
   "id": "d90b4d49",
   "metadata": {},
   "outputs": [
    {
     "name": "stdout",
     "output_type": "stream",
     "text": [
      "True\n"
     ]
    }
   ],
   "source": [
    "a=12\n",
    "b=8\n",
    "print(a>b)"
   ]
  },
  {
   "cell_type": "markdown",
   "id": "58336d43",
   "metadata": {},
   "source": [
    "### Logical Operators"
   ]
  },
  {
   "cell_type": "code",
   "execution_count": 8,
   "id": "1d3f9839",
   "metadata": {},
   "outputs": [
    {
     "name": "stdout",
     "output_type": "stream",
     "text": [
      "True\n",
      "True\n"
     ]
    }
   ],
   "source": [
    "a=10\n",
    "b=9\n",
    "print(a>8 and b<10)\n",
    "print(a>8 or b<10)"
   ]
  },
  {
   "cell_type": "markdown",
   "id": "7e3d0f06",
   "metadata": {},
   "source": [
    "## If And Else statements"
   ]
  },
  {
   "cell_type": "code",
   "execution_count": 11,
   "id": "1f2e2cec",
   "metadata": {},
   "outputs": [
    {
     "name": "stdout",
     "output_type": "stream",
     "text": [
      "45\n",
      "odd\n"
     ]
    }
   ],
   "source": [
    "a=int(input())\n",
    "#Indentation is very Imo in Python\n",
    "if a%2==0:\n",
    "    print(\"even\")\n",
    "else :\n",
    "    print(\"odd\")"
   ]
  },
  {
   "cell_type": "code",
   "execution_count": 3,
   "id": "22ba770c",
   "metadata": {},
   "outputs": [
    {
     "name": "stdout",
     "output_type": "stream",
     "text": [
      "11\n",
      "34\n",
      "Satisfied\n"
     ]
    }
   ],
   "source": [
    "a=int(input())\n",
    "b=int(input())\n",
    "\n",
    "if a>10 or b<6:\n",
    "    print(\"Satisfied\")\n",
    "else:\n",
    "    print(\"Not Satisfied\")"
   ]
  },
  {
   "cell_type": "markdown",
   "id": "bb6aefe8",
   "metadata": {},
   "source": [
    "## Using ELIF Statements"
   ]
  },
  {
   "cell_type": "code",
   "execution_count": 5,
   "id": "b618d975",
   "metadata": {
    "scrolled": true
   },
   "outputs": [
    {
     "name": "stdout",
     "output_type": "stream",
     "text": [
      "3\n",
      "3\n",
      "5\n",
      "c is largest\n"
     ]
    }
   ],
   "source": [
    "# checking largest among three numbers\n",
    "a=int(input())\n",
    "b=int(input())\n",
    "c=int(input())\n",
    "\n",
    "if a>=b and a>=c:\n",
    "    print(\"a is the largest\")\n",
    "elif b>=a and b>=c:\n",
    "    print(\"b is largest\")\n",
    "else:\n",
    "    print(\"c is largest\")"
   ]
  },
  {
   "cell_type": "markdown",
   "id": "468530c8",
   "metadata": {},
   "source": [
    "## Nested IFElse"
   ]
  },
  {
   "cell_type": "code",
   "execution_count": 11,
   "id": "2b54014e",
   "metadata": {},
   "outputs": [
    {
     "name": "stdout",
     "output_type": "stream",
     "text": [
      "12\n",
      "Yes\n"
     ]
    }
   ],
   "source": [
    "a=int(input())\n",
    "if a>10:\n",
    "    if a<15:\n",
    "        print(\"Yes\")\n",
    "    else:\n",
    "        print(\"No\")\n",
    "else:\n",
    "    print(\"Never\")"
   ]
  },
  {
   "cell_type": "code",
   "execution_count": 8,
   "id": "f991b283",
   "metadata": {},
   "outputs": [
    {
     "name": "stdout",
     "output_type": "stream",
     "text": [
      "B\n"
     ]
    }
   ],
   "source": [
    "if True or True:\n",
    "    if False and True or False:\n",
    "        print('A')\n",
    "    elif False and False or True and True:\n",
    "       print('B')\n",
    "    else:\n",
    "      print('C')\n",
    "else:\n",
    "     print('D')"
   ]
  },
  {
   "cell_type": "markdown",
   "id": "5fb832dc",
   "metadata": {},
   "source": [
    "# While Loop"
   ]
  },
  {
   "cell_type": "code",
   "execution_count": 10,
   "id": "09bced34",
   "metadata": {},
   "outputs": [
    {
     "name": "stdout",
     "output_type": "stream",
     "text": [
      "0\n",
      "1\n",
      "2\n",
      "3\n",
      "4\n",
      "5\n",
      "6\n",
      "7\n",
      "8\n",
      "9\n"
     ]
    }
   ],
   "source": [
    "i=0\n",
    "while i<10:\n",
    "    print(i)\n",
    "    i=i+1"
   ]
  },
  {
   "cell_type": "code",
   "execution_count": 14,
   "id": "13eacd84",
   "metadata": {},
   "outputs": [
    {
     "name": "stdout",
     "output_type": "stream",
     "text": [
      "9\n",
      "Not Prime\n"
     ]
    }
   ],
   "source": [
    "# Check Prime\n",
    "ans=False\n",
    "i=2\n",
    "n=int(input())\n",
    "while i<n:\n",
    "    if n%i==0:\n",
    "        ans=True\n",
    "        break\n",
    "    i=i+1\n",
    "if ans:\n",
    "    print(\"Not Prime\")\n",
    "else:\n",
    "    print(\"Prime\")"
   ]
  },
  {
   "cell_type": "markdown",
   "id": "7e507a86",
   "metadata": {},
   "source": [
    "## Nested While Loops"
   ]
  },
  {
   "cell_type": "code",
   "execution_count": 16,
   "id": "9b7740a1",
   "metadata": {},
   "outputs": [
    {
     "name": "stdout",
     "output_type": "stream",
     "text": [
      "10\n",
      "2\n",
      "3\n",
      "5\n",
      "7\n"
     ]
    }
   ],
   "source": [
    "#Print All prime Numbers \n",
    "n=int(input())\n",
    "i=2\n",
    "while i<=n:\n",
    "    ans=False\n",
    "    j=2\n",
    "    while j<i:\n",
    "        if i%j==0:\n",
    "            ans=True\n",
    "        j=j+1\n",
    "    if not ans:\n",
    "        print(i)\n",
    "    i=i+1"
   ]
  },
  {
   "cell_type": "code",
   "execution_count": 22,
   "id": "2cf8e025",
   "metadata": {},
   "outputs": [
    {
     "name": "stdout",
     "output_type": "stream",
     "text": [
      "45\n",
      "54\n"
     ]
    }
   ],
   "source": [
    "#Reverse of a number\n",
    "n=int(input())\n",
    "count=1\n",
    "ans=0\n",
    "while n>0:\n",
    "    rem=n%10\n",
    "    ans=(ans*10)+rem\n",
    "    n=n//10\n",
    "print(ans)"
   ]
  },
  {
   "cell_type": "code",
   "execution_count": 25,
   "id": "13957cf4",
   "metadata": {},
   "outputs": [
    {
     "name": "stdout",
     "output_type": "stream",
     "text": [
      "10\n",
      "55\n"
     ]
    }
   ],
   "source": [
    "#Fibbonacci Series\n",
    "n=int(input())\n",
    "if n==1 or n==2:\n",
    "    print(1)\n",
    "i=3\n",
    "curr=1\n",
    "prev=1\n",
    "ans=0\n",
    "while i<=n:\n",
    "    ans=(curr+prev)\n",
    "    prev=curr\n",
    "    curr=ans\n",
    "    i=i+1\n",
    "if ans!=0:\n",
    "    print(ans)"
   ]
  }
 ],
 "metadata": {
  "kernelspec": {
   "display_name": "Python 3 (ipykernel)",
   "language": "python",
   "name": "python3"
  },
  "language_info": {
   "codemirror_mode": {
    "name": "ipython",
    "version": 3
   },
   "file_extension": ".py",
   "mimetype": "text/x-python",
   "name": "python",
   "nbconvert_exporter": "python",
   "pygments_lexer": "ipython3",
   "version": "3.9.7"
  }
 },
 "nbformat": 4,
 "nbformat_minor": 5
}
