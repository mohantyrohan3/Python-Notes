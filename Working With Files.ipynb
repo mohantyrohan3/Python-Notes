{
 "cells": [
  {
   "cell_type": "code",
   "execution_count": 1,
   "id": "7ce420a6",
   "metadata": {},
   "outputs": [],
   "source": [
    "#.txt stands for text file extension\n",
    "#.csv stands for comma separated values\n",
    "# To open a file\n",
    "\n",
    "\n",
    "#     open(\"file_name,access mode\")     #\n",
    "\n",
    "# read mode is default\n",
    "# write mode erases the content present in the file\n",
    "# append mode appends at the last\n"
   ]
  },
  {
   "cell_type": "code",
   "execution_count": 19,
   "id": "66552523",
   "metadata": {},
   "outputs": [
    {
     "data": {
      "text/plain": [
       "<_io.TextIOWrapper name='C:\\\\Python Projects/demo.txt.txt' mode='r' encoding='cp1252'>"
      ]
     },
     "execution_count": 19,
     "metadata": {},
     "output_type": "execute_result"
    }
   ],
   "source": [
    "file_obj=open(\"C:\\Python Projects/demo.txt.txt\",\"r\")\n",
    "file_obj\n",
    "\n",
    "# \"w\" , \"a\" , \"r\"\n"
   ]
  },
  {
   "cell_type": "code",
   "execution_count": 17,
   "id": "a3edcd0a",
   "metadata": {},
   "outputs": [
    {
     "data": {
      "text/plain": [
       "'sdgsdgsgdgdfsgdgsdfgdgdsg'"
      ]
     },
     "execution_count": 17,
     "metadata": {},
     "output_type": "execute_result"
    }
   ],
   "source": [
    "# To read the context \n",
    "file_data=file_obj.read() # read(n) n represents total no of bytes\n",
    "file_data"
   ]
  },
  {
   "cell_type": "code",
   "execution_count": 21,
   "id": "e49e53e7",
   "metadata": {},
   "outputs": [
    {
     "data": {
      "text/plain": [
       "'dfsgdgsdfg'"
      ]
     },
     "execution_count": 21,
     "metadata": {},
     "output_type": "execute_result"
    }
   ],
   "source": [
    "file_data=file_obj.read(10)\n",
    "file_data\n",
    "# .readline() gives only one line"
   ]
  },
  {
   "cell_type": "code",
   "execution_count": 25,
   "id": "3b850d6b",
   "metadata": {},
   "outputs": [
    {
     "name": "stdout",
     "output_type": "stream",
     "text": [
      "<class 'list'>\n"
     ]
    }
   ],
   "source": [
    "# readlines() one by one reading lines it gives a list\n",
    "file_obj=open(\"C:\\Python Projects/demo.txt.txt\",\"r\")\n",
    "file_obj\n",
    "file_data=file_obj.readlines()\n",
    "print(type(file_data))"
   ]
  },
  {
   "cell_type": "code",
   "execution_count": 28,
   "id": "e37114a6",
   "metadata": {},
   "outputs": [
    {
     "name": "stdout",
     "output_type": "stream",
     "text": [
      "14\n"
     ]
    }
   ],
   "source": [
    "print(len(file_data))"
   ]
  },
  {
   "cell_type": "code",
   "execution_count": null,
   "id": "636b6200",
   "metadata": {},
   "outputs": [],
   "source": [
    "# To close the file file_obj.close()\n",
    "file_obj.close()\n",
    "file_obj\n",
    "file_data=file_obj.readlines()\n"
   ]
  },
  {
   "cell_type": "code",
   "execution_count": 50,
   "id": "0a92d17a",
   "metadata": {},
   "outputs": [
    {
     "name": "stdout",
     "output_type": "stream",
     "text": [
      "Lorem ipsum dolor sit amet, consectetur adipiscing elit. Vivamus condimentum sagittis lacus, laoreet luctus ligula laoreet ut. Vestibulum ullamcorper accumsan velit vel vehicula. Proin tempor lacus arcu. Nunc at elit condimentum, semper nisi et, condimentum mi. In venenatis blandit nibh at sollicitudin. Vestibulum dapibus mauris at orci maximus pellentesque. Nullam id elementum ipsum. Suspendisse cursus lobortis viverra. Proin et erat at mauris tincidunt porttitor vitae ac dui.\n",
      "\n"
     ]
    }
   ],
   "source": [
    "with open(\"C:\\Python Projects/demo.txt.txt\",\"r\") as file_obj:\n",
    "    file_data=file_obj.readline()\n",
    "    print(file_data)\n",
    "    "
   ]
  },
  {
   "cell_type": "markdown",
   "id": "44ac81d2",
   "metadata": {},
   "source": [
    "# Working with CSV Files"
   ]
  },
  {
   "cell_type": "code",
   "execution_count": 52,
   "id": "a9ccbaaa",
   "metadata": {},
   "outputs": [],
   "source": [
    "# Info in form of tables and rows and columnns\n",
    "\n",
    "\n",
    "# first import csv\n",
    "# file_data = csv.reader(file_name)\n",
    "# for row in file_data:\n",
    "    #print(row)\n",
    "# We print one complete row"
   ]
  },
  {
   "cell_type": "code",
   "execution_count": 54,
   "id": "65beba54",
   "metadata": {},
   "outputs": [],
   "source": [
    "# csv.reader(file_name , delimiter=\"|\" , skipinitialspace=True) "
   ]
  },
  {
   "cell_type": "code",
   "execution_count": null,
   "id": "083fd809",
   "metadata": {},
   "outputs": [],
   "source": [
    "# to store in the form of dict we use                                    csv.DictReader()\n",
    "# column  header is the key and the values are its values\n"
   ]
  }
 ],
 "metadata": {
  "kernelspec": {
   "display_name": "Python 3 (ipykernel)",
   "language": "python",
   "name": "python3"
  },
  "language_info": {
   "codemirror_mode": {
    "name": "ipython",
    "version": 3
   },
   "file_extension": ".py",
   "mimetype": "text/x-python",
   "name": "python",
   "nbconvert_exporter": "python",
   "pygments_lexer": "ipython3",
   "version": "3.9.7"
  }
 },
 "nbformat": 4,
 "nbformat_minor": 5
}
