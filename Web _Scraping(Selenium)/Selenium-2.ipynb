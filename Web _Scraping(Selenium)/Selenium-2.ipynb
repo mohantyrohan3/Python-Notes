{
 "cells": [
  {
   "cell_type": "code",
   "execution_count": 10,
   "id": "f272a58e",
   "metadata": {},
   "outputs": [
    {
     "data": {
      "text/plain": [
       "<selenium.webdriver.chrome.webdriver.WebDriver (session=\"7065e3de815c8e27c94cc091897baad2\")>"
      ]
     },
     "execution_count": 10,
     "metadata": {},
     "output_type": "execute_result"
    }
   ],
   "source": [
    "from selenium import webdriver\n",
    "import warnings\n",
    "warnings.filterwarnings('ignore')\n",
    "driver=webdriver.Chrome(executable_path=\"C:\\Webdriver Chrome\\chromedriver.exe\")\n",
    "driver"
   ]
  },
  {
   "cell_type": "code",
   "execution_count": 11,
   "id": "40e66cde",
   "metadata": {},
   "outputs": [],
   "source": [
    "driver.get('https://books.toscrape.com/')"
   ]
  },
  {
   "cell_type": "code",
   "execution_count": 12,
   "id": "6ba09f3b",
   "metadata": {},
   "outputs": [],
   "source": [
    "driver.find_element_by_link_text('Music').click()"
   ]
  },
  {
   "cell_type": "code",
   "execution_count": 13,
   "id": "0ba70861",
   "metadata": {},
   "outputs": [],
   "source": [
    "driver.back()"
   ]
  },
  {
   "cell_type": "code",
   "execution_count": 16,
   "id": "e3e50843",
   "metadata": {},
   "outputs": [
    {
     "data": {
      "text/plain": [
       "[<selenium.webdriver.remote.webelement.WebElement (session=\"7065e3de815c8e27c94cc091897baad2\", element=\"fb9b1c29-7969-4ca7-a85e-542cbe6a8af3\")>,\n",
       " <selenium.webdriver.remote.webelement.WebElement (session=\"7065e3de815c8e27c94cc091897baad2\", element=\"82a3e29b-aee7-4c41-86ee-ec561478c7f3\")>,\n",
       " <selenium.webdriver.remote.webelement.WebElement (session=\"7065e3de815c8e27c94cc091897baad2\", element=\"6d729b22-3dc4-47cc-ae58-615a997e98f1\")>,\n",
       " <selenium.webdriver.remote.webelement.WebElement (session=\"7065e3de815c8e27c94cc091897baad2\", element=\"0a473517-19e3-4d5b-ab17-8a406a6d504e\")>,\n",
       " <selenium.webdriver.remote.webelement.WebElement (session=\"7065e3de815c8e27c94cc091897baad2\", element=\"919274e0-5f4d-4930-afba-d891c6f5906c\")>,\n",
       " <selenium.webdriver.remote.webelement.WebElement (session=\"7065e3de815c8e27c94cc091897baad2\", element=\"5d1aa935-2cf3-417c-a147-f14321d84e4c\")>,\n",
       " <selenium.webdriver.remote.webelement.WebElement (session=\"7065e3de815c8e27c94cc091897baad2\", element=\"259bd1d2-9adb-4a39-af1b-6be3dcebb584\")>,\n",
       " <selenium.webdriver.remote.webelement.WebElement (session=\"7065e3de815c8e27c94cc091897baad2\", element=\"5327caec-7688-4aa4-8882-2114c10414f7\")>,\n",
       " <selenium.webdriver.remote.webelement.WebElement (session=\"7065e3de815c8e27c94cc091897baad2\", element=\"7b30045b-8058-4f66-97e8-a14074f38aba\")>,\n",
       " <selenium.webdriver.remote.webelement.WebElement (session=\"7065e3de815c8e27c94cc091897baad2\", element=\"fb42434f-64fa-43f0-a652-b2f7852399e5\")>,\n",
       " <selenium.webdriver.remote.webelement.WebElement (session=\"7065e3de815c8e27c94cc091897baad2\", element=\"ca5b3027-0690-4765-8d4e-69aff8677173\")>,\n",
       " <selenium.webdriver.remote.webelement.WebElement (session=\"7065e3de815c8e27c94cc091897baad2\", element=\"136ec0e8-75d7-406d-9bb7-58e1efd3eaec\")>,\n",
       " <selenium.webdriver.remote.webelement.WebElement (session=\"7065e3de815c8e27c94cc091897baad2\", element=\"b3c2f4b9-b3b5-4156-9227-e789683dc148\")>,\n",
       " <selenium.webdriver.remote.webelement.WebElement (session=\"7065e3de815c8e27c94cc091897baad2\", element=\"86fdb6f5-f25a-4876-8a45-bb53518128f9\")>,\n",
       " <selenium.webdriver.remote.webelement.WebElement (session=\"7065e3de815c8e27c94cc091897baad2\", element=\"9e9846cd-c2da-4acd-8b15-511846d848b1\")>,\n",
       " <selenium.webdriver.remote.webelement.WebElement (session=\"7065e3de815c8e27c94cc091897baad2\", element=\"c3b6f8be-2837-494d-84aa-8c12af013b61\")>,\n",
       " <selenium.webdriver.remote.webelement.WebElement (session=\"7065e3de815c8e27c94cc091897baad2\", element=\"41e07716-99cf-4a71-95c0-ffcbf06328ca\")>,\n",
       " <selenium.webdriver.remote.webelement.WebElement (session=\"7065e3de815c8e27c94cc091897baad2\", element=\"f0d8ffe7-81bc-40b3-a06b-80d774a508aa\")>,\n",
       " <selenium.webdriver.remote.webelement.WebElement (session=\"7065e3de815c8e27c94cc091897baad2\", element=\"825650ed-6263-4641-9a07-9cf22fce8a95\")>,\n",
       " <selenium.webdriver.remote.webelement.WebElement (session=\"7065e3de815c8e27c94cc091897baad2\", element=\"bf531677-47f1-43da-a593-bd6d0fa5d9ab\")>]"
      ]
     },
     "execution_count": 16,
     "metadata": {},
     "output_type": "execute_result"
    }
   ],
   "source": [
    "li=driver.find_elements_by_class_name('image_container')\n",
    "li"
   ]
  },
  {
   "cell_type": "code",
   "execution_count": 18,
   "id": "03c25c83",
   "metadata": {},
   "outputs": [],
   "source": [
    "driver.find_element_by_tag_name('img').click()"
   ]
  },
  {
   "cell_type": "code",
   "execution_count": 19,
   "id": "61ea1609",
   "metadata": {},
   "outputs": [],
   "source": [
    "driver.back()"
   ]
  },
  {
   "cell_type": "code",
   "execution_count": 20,
   "id": "b1681142",
   "metadata": {},
   "outputs": [],
   "source": [
    "# .is_displayed() # Actually shows whether the element is showed on the screen or not\n",
    "# .is_enabled()  # Enabled or not \n"
   ]
  },
  {
   "cell_type": "code",
   "execution_count": 21,
   "id": "b90e7a6b",
   "metadata": {},
   "outputs": [],
   "source": [
    "c=driver.find_element_by_class_name('price_color')"
   ]
  },
  {
   "cell_type": "code",
   "execution_count": 22,
   "id": "97d15ed6",
   "metadata": {},
   "outputs": [
    {
     "data": {
      "text/plain": [
       "'p'"
      ]
     },
     "execution_count": 22,
     "metadata": {},
     "output_type": "execute_result"
    }
   ],
   "source": [
    "c.tag_name"
   ]
  },
  {
   "cell_type": "code",
   "execution_count": 23,
   "id": "81c27037",
   "metadata": {},
   "outputs": [
    {
     "data": {
      "text/plain": [
       "'£51.77'"
      ]
     },
     "execution_count": 23,
     "metadata": {},
     "output_type": "execute_result"
    }
   ],
   "source": [
    "c.text"
   ]
  },
  {
   "cell_type": "code",
   "execution_count": 24,
   "id": "ba0f7d44",
   "metadata": {},
   "outputs": [],
   "source": [
    "# pandas.read_html \n",
    "# pandas.concat"
   ]
  },
  {
   "cell_type": "markdown",
   "id": "d448f7bf",
   "metadata": {},
   "source": [
    "### Using Xpath"
   ]
  },
  {
   "cell_type": "code",
   "execution_count": 26,
   "id": "9fc85431",
   "metadata": {},
   "outputs": [],
   "source": [
    "ans=driver.find_element_by_xpath('/html/head/title')"
   ]
  },
  {
   "cell_type": "code",
   "execution_count": 28,
   "id": "49491265",
   "metadata": {},
   "outputs": [
    {
     "data": {
      "text/plain": [
       "'<title>\\n    All products | Books to Scrape - Sandbox\\n</title>'"
      ]
     },
     "execution_count": 28,
     "metadata": {},
     "output_type": "execute_result"
    }
   ],
   "source": [
    "ans.get_attribute('outerHTML')"
   ]
  },
  {
   "cell_type": "code",
   "execution_count": 29,
   "id": "0d0a0a31",
   "metadata": {},
   "outputs": [
    {
     "data": {
      "text/plain": [
       "'\\n    All products | Books to Scrape - Sandbox\\n'"
      ]
     },
     "execution_count": 29,
     "metadata": {},
     "output_type": "execute_result"
    }
   ],
   "source": [
    "ans.get_attribute('innerHTML')"
   ]
  },
  {
   "cell_type": "code",
   "execution_count": null,
   "id": "005f6da4",
   "metadata": {},
   "outputs": [],
   "source": []
  }
 ],
 "metadata": {
  "kernelspec": {
   "display_name": "Python 3 (ipykernel)",
   "language": "python",
   "name": "python3"
  },
  "language_info": {
   "codemirror_mode": {
    "name": "ipython",
    "version": 3
   },
   "file_extension": ".py",
   "mimetype": "text/x-python",
   "name": "python",
   "nbconvert_exporter": "python",
   "pygments_lexer": "ipython3",
   "version": "3.9.7"
  }
 },
 "nbformat": 4,
 "nbformat_minor": 5
}
