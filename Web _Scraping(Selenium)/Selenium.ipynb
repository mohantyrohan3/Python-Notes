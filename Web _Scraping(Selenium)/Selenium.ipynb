{
 "cells": [
  {
   "cell_type": "code",
   "execution_count": 8,
   "id": "d958bc8b",
   "metadata": {},
   "outputs": [],
   "source": [
    "from selenium import webdriver"
   ]
  },
  {
   "cell_type": "code",
   "execution_count": 9,
   "id": "0549eacb",
   "metadata": {},
   "outputs": [
    {
     "name": "stderr",
     "output_type": "stream",
     "text": [
      "C:\\Users\\mohan\\AppData\\Local\\Temp/ipykernel_11420/563969485.py:1: DeprecationWarning: executable_path has been deprecated, please pass in a Service object\n",
      "  driver=webdriver.Chrome(executable_path='C:\\Webdriver Chrome\\chromedriver.exe')\n"
     ]
    }
   ],
   "source": [
    "driver=webdriver.Chrome(executable_path='C:\\Webdriver Chrome\\chromedriver.exe')\n",
    "driver.get('https://books.toscrape.com/')"
   ]
  },
  {
   "cell_type": "code",
   "execution_count": 10,
   "id": "727a93ff",
   "metadata": {},
   "outputs": [
    {
     "data": {
      "text/plain": [
       "'All products | Books to Scrape - Sandbox'"
      ]
     },
     "execution_count": 10,
     "metadata": {},
     "output_type": "execute_result"
    }
   ],
   "source": [
    "driver.title"
   ]
  },
  {
   "cell_type": "code",
   "execution_count": 11,
   "id": "59abc312",
   "metadata": {},
   "outputs": [
    {
     "name": "stderr",
     "output_type": "stream",
     "text": [
      "C:\\Users\\mohan\\AppData\\Local\\Temp/ipykernel_11420/4273778302.py:1: DeprecationWarning: find_element_by_link_text is deprecated. Please use find_element(by=By.LINK_TEXT, value=link_text) instead\n",
      "  btn=driver.find_element_by_link_text('Music')\n"
     ]
    }
   ],
   "source": [
    "btn=driver.find_element_by_link_text('Music')\n",
    "btn.click()"
   ]
  },
  {
   "cell_type": "code",
   "execution_count": 12,
   "id": "b8769059",
   "metadata": {},
   "outputs": [],
   "source": [
    "driver.back()"
   ]
  },
  {
   "cell_type": "code",
   "execution_count": 14,
   "id": "4357782b",
   "metadata": {},
   "outputs": [
    {
     "name": "stderr",
     "output_type": "stream",
     "text": [
      "C:\\Users\\mohan\\AppData\\Local\\Temp/ipykernel_11420/2370354677.py:1: DeprecationWarning: find_element_by_class_name is deprecated. Please use find_element(by=By.CLASS_NAME, value=name) instead\n",
      "  btn=driver.find_element_by_class_name('image_container')\n"
     ]
    },
    {
     "data": {
      "text/plain": [
       "<selenium.webdriver.remote.webelement.WebElement (session=\"172049f034580252f8d4a38029a58fde\", element=\"6859252a-b5a3-4c52-a499-209ec3355cf2\")>"
      ]
     },
     "execution_count": 14,
     "metadata": {},
     "output_type": "execute_result"
    }
   ],
   "source": [
    "btn=driver.find_element_by_class_name('image_container')\n",
    "btn"
   ]
  },
  {
   "cell_type": "code",
   "execution_count": 15,
   "id": "aaa72f6e",
   "metadata": {},
   "outputs": [
    {
     "name": "stderr",
     "output_type": "stream",
     "text": [
      "C:\\Users\\mohan\\AppData\\Local\\Temp/ipykernel_11420/1762466733.py:1: DeprecationWarning: find_elements_by_class_name is deprecated. Please use find_elements(by=By.CLASS_NAME, value=name) instead\n",
      "  btn=driver.find_elements_by_class_name('image_container')\n"
     ]
    },
    {
     "data": {
      "text/plain": [
       "[<selenium.webdriver.remote.webelement.WebElement (session=\"172049f034580252f8d4a38029a58fde\", element=\"6859252a-b5a3-4c52-a499-209ec3355cf2\")>,\n",
       " <selenium.webdriver.remote.webelement.WebElement (session=\"172049f034580252f8d4a38029a58fde\", element=\"b5a04b1f-664f-4bb4-a345-c86fe162889c\")>,\n",
       " <selenium.webdriver.remote.webelement.WebElement (session=\"172049f034580252f8d4a38029a58fde\", element=\"361f195a-d832-4fd9-9b7c-d01e1773cf73\")>,\n",
       " <selenium.webdriver.remote.webelement.WebElement (session=\"172049f034580252f8d4a38029a58fde\", element=\"b84e3468-56d6-40e3-9364-ab85296d804c\")>,\n",
       " <selenium.webdriver.remote.webelement.WebElement (session=\"172049f034580252f8d4a38029a58fde\", element=\"7008e75f-dda4-4c32-b35c-1d47f935384c\")>,\n",
       " <selenium.webdriver.remote.webelement.WebElement (session=\"172049f034580252f8d4a38029a58fde\", element=\"b3ce62f1-7eee-48a2-b791-9e92de70056c\")>,\n",
       " <selenium.webdriver.remote.webelement.WebElement (session=\"172049f034580252f8d4a38029a58fde\", element=\"ade6c01c-21b6-4db7-a59b-3037b6704eb6\")>,\n",
       " <selenium.webdriver.remote.webelement.WebElement (session=\"172049f034580252f8d4a38029a58fde\", element=\"84977195-5736-43b8-a8c6-a4f3d74cc59f\")>,\n",
       " <selenium.webdriver.remote.webelement.WebElement (session=\"172049f034580252f8d4a38029a58fde\", element=\"60de35a6-e1ec-42fe-891e-aeb91f6cc198\")>,\n",
       " <selenium.webdriver.remote.webelement.WebElement (session=\"172049f034580252f8d4a38029a58fde\", element=\"78a66564-3c15-4c31-9798-0718731c5d55\")>,\n",
       " <selenium.webdriver.remote.webelement.WebElement (session=\"172049f034580252f8d4a38029a58fde\", element=\"79ce4976-522d-442d-a9ad-c383f51d0006\")>,\n",
       " <selenium.webdriver.remote.webelement.WebElement (session=\"172049f034580252f8d4a38029a58fde\", element=\"291d045e-475e-46f2-8566-34f0783d4ea4\")>,\n",
       " <selenium.webdriver.remote.webelement.WebElement (session=\"172049f034580252f8d4a38029a58fde\", element=\"4575a393-06e8-48b2-ba05-ecf46b3407aa\")>,\n",
       " <selenium.webdriver.remote.webelement.WebElement (session=\"172049f034580252f8d4a38029a58fde\", element=\"60a2774e-8ed3-489e-a6d8-0697eb95f8e9\")>,\n",
       " <selenium.webdriver.remote.webelement.WebElement (session=\"172049f034580252f8d4a38029a58fde\", element=\"419af7e1-a6cc-4ef1-85a8-5a59c6843962\")>,\n",
       " <selenium.webdriver.remote.webelement.WebElement (session=\"172049f034580252f8d4a38029a58fde\", element=\"794aff6b-0fb8-4048-aa43-d695a484e052\")>,\n",
       " <selenium.webdriver.remote.webelement.WebElement (session=\"172049f034580252f8d4a38029a58fde\", element=\"1c0d3401-7946-4eec-a793-12cf947ed339\")>,\n",
       " <selenium.webdriver.remote.webelement.WebElement (session=\"172049f034580252f8d4a38029a58fde\", element=\"6383f609-9682-482a-a294-64313eca19b5\")>,\n",
       " <selenium.webdriver.remote.webelement.WebElement (session=\"172049f034580252f8d4a38029a58fde\", element=\"f95ec1d5-0047-4802-99f4-02a5f668b0b2\")>,\n",
       " <selenium.webdriver.remote.webelement.WebElement (session=\"172049f034580252f8d4a38029a58fde\", element=\"b11083fb-3476-47ee-afee-270161bace45\")>]"
      ]
     },
     "execution_count": 15,
     "metadata": {},
     "output_type": "execute_result"
    }
   ],
   "source": [
    "btn=driver.find_elements_by_class_name('image_container')\n",
    "btn"
   ]
  },
  {
   "cell_type": "markdown",
   "id": "813e9dc5",
   "metadata": {},
   "source": [
    "## Methods And Properties"
   ]
  },
  {
   "cell_type": "code",
   "execution_count": 16,
   "id": "c0fedcc8",
   "metadata": {},
   "outputs": [
    {
     "name": "stderr",
     "output_type": "stream",
     "text": [
      "C:\\Users\\mohan\\AppData\\Local\\Temp/ipykernel_11420/2870326353.py:1: DeprecationWarning: find_element_by_class_name is deprecated. Please use find_element(by=By.CLASS_NAME, value=name) instead\n",
      "  btn=driver.find_element_by_class_name('price_color')\n"
     ]
    },
    {
     "data": {
      "text/plain": [
       "<selenium.webdriver.remote.webelement.WebElement (session=\"172049f034580252f8d4a38029a58fde\", element=\"36f4582c-9a54-4dec-876b-00f7b37476f9\")>"
      ]
     },
     "execution_count": 16,
     "metadata": {},
     "output_type": "execute_result"
    }
   ],
   "source": [
    "btn=driver.find_element_by_class_name('price_color')\n",
    "btn"
   ]
  },
  {
   "cell_type": "code",
   "execution_count": 17,
   "id": "98c8d8ed",
   "metadata": {},
   "outputs": [
    {
     "data": {
      "text/plain": [
       "True"
      ]
     },
     "execution_count": 17,
     "metadata": {},
     "output_type": "execute_result"
    }
   ],
   "source": [
    "btn.is_displayed()"
   ]
  },
  {
   "cell_type": "code",
   "execution_count": 18,
   "id": "f1075c5b",
   "metadata": {},
   "outputs": [
    {
     "data": {
      "text/plain": [
       "True"
      ]
     },
     "execution_count": 18,
     "metadata": {},
     "output_type": "execute_result"
    }
   ],
   "source": [
    "btn.is_enabled()"
   ]
  },
  {
   "cell_type": "code",
   "execution_count": 19,
   "id": "6cb80cc5",
   "metadata": {},
   "outputs": [
    {
     "data": {
      "text/plain": [
       "False"
      ]
     },
     "execution_count": 19,
     "metadata": {},
     "output_type": "execute_result"
    }
   ],
   "source": [
    "btn.is_selected()  # Useful for Radio buttons and check boxes"
   ]
  },
  {
   "cell_type": "code",
   "execution_count": 21,
   "id": "e218976d",
   "metadata": {},
   "outputs": [
    {
     "data": {
      "text/plain": [
       "'£51.77'"
      ]
     },
     "execution_count": 21,
     "metadata": {},
     "output_type": "execute_result"
    }
   ],
   "source": [
    "btn.text"
   ]
  },
  {
   "cell_type": "code",
   "execution_count": 23,
   "id": "cbefa422",
   "metadata": {},
   "outputs": [
    {
     "data": {
      "text/plain": [
       "'p'"
      ]
     },
     "execution_count": 23,
     "metadata": {},
     "output_type": "execute_result"
    }
   ],
   "source": [
    "btn.tag_name"
   ]
  },
  {
   "cell_type": "code",
   "execution_count": 26,
   "id": "798192cc",
   "metadata": {},
   "outputs": [],
   "source": [
    "driver.close()"
   ]
  },
  {
   "cell_type": "markdown",
   "id": "5c77ed4c",
   "metadata": {},
   "source": [
    "## Locate elements -2"
   ]
  },
  {
   "cell_type": "code",
   "execution_count": 28,
   "id": "e349d771",
   "metadata": {},
   "outputs": [],
   "source": [
    "# During error no such element exeption\n",
    "# from selenium.common.exceptions import NoSuchElementException\n",
    "# while True:\n",
    "    # try :\n",
    "    \n",
    "    # except:"
   ]
  },
  {
   "cell_type": "code",
   "execution_count": 29,
   "id": "324db18e",
   "metadata": {},
   "outputs": [
    {
     "name": "stderr",
     "output_type": "stream",
     "text": [
      "C:\\Users\\mohan\\AppData\\Local\\Temp/ipykernel_11420/2636425989.py:2: DeprecationWarning: executable_path has been deprecated, please pass in a Service object\n",
      "  driver=webdriver.Chrome(executable_path='C:\\Webdriver Chrome\\chromedriver.exe')\n"
     ]
    }
   ],
   "source": [
    "# in absolute path we have to start from top html tag\n",
    "driver=webdriver.Chrome(executable_path='C:\\Webdriver Chrome\\chromedriver.exe')\n",
    "driver.get('https://books.toscrape.com/')"
   ]
  },
  {
   "cell_type": "code",
   "execution_count": 32,
   "id": "c0b6021e",
   "metadata": {},
   "outputs": [
    {
     "name": "stderr",
     "output_type": "stream",
     "text": [
      "C:\\Users\\mohan\\AppData\\Local\\Temp/ipykernel_11420/64347087.py:1: DeprecationWarning: find_element_by_xpath is deprecated. Please use find_element(by=By.XPATH, value=xpath) instead\n",
      "  ans=driver.find_element_by_xpath('/html/head/title')\n"
     ]
    },
    {
     "data": {
      "text/plain": [
       "'\\n    All products | Books to Scrape - Sandbox\\n'"
      ]
     },
     "execution_count": 32,
     "metadata": {},
     "output_type": "execute_result"
    }
   ],
   "source": [
    "ans=driver.find_element_by_xpath('/html/head/title')\n",
    "ans.get_attribute('outerHTML')\n",
    "ans.get_attribute('innerHTML')"
   ]
  },
  {
   "cell_type": "code",
   "execution_count": 33,
   "id": "0b83918c",
   "metadata": {},
   "outputs": [
    {
     "name": "stderr",
     "output_type": "stream",
     "text": [
      "C:\\Users\\mohan\\AppData\\Local\\Temp/ipykernel_11420/881300618.py:1: DeprecationWarning: find_element_by_xpath is deprecated. Please use find_element(by=By.XPATH, value=xpath) instead\n",
      "  btn=driver.find_element_by_xpath('//*[@id=\"default\"]/div/div/div/div/section/div[2]/ol/li[6]/article/h3/a')\n"
     ]
    }
   ],
   "source": [
    "btn=driver.find_element_by_xpath('//*[@id=\"default\"]/div/div/div/div/section/div[2]/ol/li[6]/article/h3/a')\n",
    "btn.click()"
   ]
  },
  {
   "cell_type": "code",
   "execution_count": 34,
   "id": "488dc7c5",
   "metadata": {},
   "outputs": [],
   "source": [
    "driver.back()"
   ]
  },
  {
   "cell_type": "code",
   "execution_count": null,
   "id": "40a66aff",
   "metadata": {},
   "outputs": [],
   "source": [
    "# //*[] means search anything in the page"
   ]
  },
  {
   "cell_type": "markdown",
   "id": "86d33381",
   "metadata": {},
   "source": [
    "## Type into Fields"
   ]
  },
  {
   "cell_type": "code",
   "execution_count": 35,
   "id": "28c3e899",
   "metadata": {},
   "outputs": [
    {
     "name": "stderr",
     "output_type": "stream",
     "text": [
      "C:\\Users\\mohan\\AppData\\Local\\Temp/ipykernel_11420/2798198385.py:1: DeprecationWarning: executable_path has been deprecated, please pass in a Service object\n",
      "  driver=webdriver.Chrome(executable_path='C:\\Webdriver Chrome\\chromedriver.exe')\n"
     ]
    }
   ],
   "source": [
    "driver=webdriver.Chrome(executable_path='C:\\Webdriver Chrome\\chromedriver.exe')\n",
    "driver.get('https://www.google.com/')"
   ]
  },
  {
   "cell_type": "code",
   "execution_count": 36,
   "id": "1fa1f610",
   "metadata": {},
   "outputs": [
    {
     "name": "stderr",
     "output_type": "stream",
     "text": [
      "C:\\Users\\mohan\\AppData\\Local\\Temp/ipykernel_11420/2043368227.py:1: DeprecationWarning: find_element_by_xpath is deprecated. Please use find_element(by=By.XPATH, value=xpath) instead\n",
      "  btn=driver.find_element_by_xpath('/html/body/div[1]/div[3]/form/div[1]/div[1]/div[1]/div/div[2]/input')\n"
     ]
    }
   ],
   "source": [
    "btn=driver.find_element_by_xpath('/html/body/div[1]/div[3]/form/div[1]/div[1]/div[1]/div/div[2]/input')"
   ]
  },
  {
   "cell_type": "code",
   "execution_count": 37,
   "id": "2ed9518a",
   "metadata": {},
   "outputs": [],
   "source": [
    "btn.send_keys('Selenium')"
   ]
  },
  {
   "cell_type": "code",
   "execution_count": 38,
   "id": "325947b5",
   "metadata": {},
   "outputs": [
    {
     "name": "stderr",
     "output_type": "stream",
     "text": [
      "C:\\Users\\mohan\\AppData\\Local\\Temp/ipykernel_11420/1346737611.py:1: DeprecationWarning: find_element_by_xpath is deprecated. Please use find_element(by=By.XPATH, value=xpath) instead\n",
      "  btn=driver.find_element_by_xpath('/html/body/div[1]/div[3]/form/div[1]/div[1]/div[3]/center/input[1]')\n"
     ]
    }
   ],
   "source": [
    "btn=driver.find_element_by_xpath('/html/body/div[1]/div[3]/form/div[1]/div[1]/div[3]/center/input[1]')\n",
    "btn.click()"
   ]
  },
  {
   "cell_type": "markdown",
   "id": "1ef5bdb3",
   "metadata": {},
   "source": [
    "# Logging Into Gmail"
   ]
  },
  {
   "cell_type": "code",
   "execution_count": 39,
   "id": "37c6a31e",
   "metadata": {},
   "outputs": [
    {
     "name": "stderr",
     "output_type": "stream",
     "text": [
      "C:\\Users\\mohan\\AppData\\Local\\Temp/ipykernel_11420/1027254033.py:1: DeprecationWarning: executable_path has been deprecated, please pass in a Service object\n",
      "  driver=webdriver.Chrome(executable_path='C:\\Webdriver Chrome\\chromedriver.exe')\n"
     ]
    }
   ],
   "source": [
    "driver=webdriver.Chrome(executable_path='C:\\Webdriver Chrome\\chromedriver.exe')"
   ]
  },
  {
   "cell_type": "code",
   "execution_count": 40,
   "id": "5cdadce8",
   "metadata": {},
   "outputs": [],
   "source": [
    "driver.get('https://mail.google.com/mail/')"
   ]
  },
  {
   "cell_type": "code",
   "execution_count": 41,
   "id": "bcc22552",
   "metadata": {},
   "outputs": [
    {
     "name": "stderr",
     "output_type": "stream",
     "text": [
      "C:\\Users\\mohan\\AppData\\Local\\Temp/ipykernel_11420/2097913590.py:1: DeprecationWarning: find_element_by_xpath is deprecated. Please use find_element(by=By.XPATH, value=xpath) instead\n",
      "  btn=driver.find_element_by_xpath('//*[@id=\"identifierId\"]')\n"
     ]
    }
   ],
   "source": [
    "btn=driver.find_element_by_xpath('//*[@id=\"identifierId\"]')"
   ]
  },
  {
   "cell_type": "code",
   "execution_count": 42,
   "id": "f19228fa",
   "metadata": {},
   "outputs": [],
   "source": [
    "btn.send_keys('b121045@iiit-bh.ac.in')"
   ]
  },
  {
   "cell_type": "code",
   "execution_count": 44,
   "id": "65b1e7cf",
   "metadata": {},
   "outputs": [
    {
     "name": "stderr",
     "output_type": "stream",
     "text": [
      "C:\\Users\\mohan\\AppData\\Local\\Temp/ipykernel_11420/1871671743.py:1: DeprecationWarning: find_element_by_xpath is deprecated. Please use find_element(by=By.XPATH, value=xpath) instead\n",
      "  btn=driver.find_element_by_xpath('//*[@id=\"identifierNext\"]/div/button/span')\n"
     ]
    }
   ],
   "source": [
    "btn=driver.find_element_by_xpath('//*[@id=\"identifierNext\"]/div/button/span')"
   ]
  },
  {
   "cell_type": "code",
   "execution_count": 45,
   "id": "9c626599",
   "metadata": {},
   "outputs": [],
   "source": [
    "btn.click()"
   ]
  },
  {
   "cell_type": "code",
   "execution_count": 46,
   "id": "81f8ca48",
   "metadata": {},
   "outputs": [
    {
     "name": "stderr",
     "output_type": "stream",
     "text": [
      "C:\\Users\\mohan\\AppData\\Local\\Temp/ipykernel_11420/3829666037.py:1: DeprecationWarning: find_element_by_xpath is deprecated. Please use find_element(by=By.XPATH, value=xpath) instead\n",
      "  btn=driver.find_element_by_xpath('//*[@id=\"password\"]/div[1]/div/div[1]/input')\n"
     ]
    }
   ],
   "source": [
    "btn=driver.find_element_by_xpath('//*[@id=\"password\"]/div[1]/div/div[1]/input')"
   ]
  },
  {
   "cell_type": "code",
   "execution_count": 47,
   "id": "ea651855",
   "metadata": {},
   "outputs": [],
   "source": [
    "btn.send_keys('Rohan@12345')"
   ]
  },
  {
   "cell_type": "code",
   "execution_count": 48,
   "id": "a4bccb63",
   "metadata": {},
   "outputs": [
    {
     "name": "stderr",
     "output_type": "stream",
     "text": [
      "C:\\Users\\mohan\\AppData\\Local\\Temp/ipykernel_11420/335484388.py:1: DeprecationWarning: find_element_by_xpath is deprecated. Please use find_element(by=By.XPATH, value=xpath) instead\n",
      "  btn=driver.find_element_by_xpath('//*[@id=\"passwordNext\"]/div/button/span')\n"
     ]
    }
   ],
   "source": [
    "btn=driver.find_element_by_xpath('//*[@id=\"passwordNext\"]/div/button/span')"
   ]
  },
  {
   "cell_type": "code",
   "execution_count": 49,
   "id": "89fa55cc",
   "metadata": {},
   "outputs": [],
   "source": [
    "btn.click()"
   ]
  },
  {
   "cell_type": "code",
   "execution_count": 50,
   "id": "dd89f017",
   "metadata": {},
   "outputs": [],
   "source": [
    "driver.close()"
   ]
  },
  {
   "cell_type": "code",
   "execution_count": null,
   "id": "96e7420f",
   "metadata": {},
   "outputs": [],
   "source": []
  }
 ],
 "metadata": {
  "kernelspec": {
   "display_name": "Python 3 (ipykernel)",
   "language": "python",
   "name": "python3"
  },
  "language_info": {
   "codemirror_mode": {
    "name": "ipython",
    "version": 3
   },
   "file_extension": ".py",
   "mimetype": "text/x-python",
   "name": "python",
   "nbconvert_exporter": "python",
   "pygments_lexer": "ipython3",
   "version": "3.9.7"
  }
 },
 "nbformat": 4,
 "nbformat_minor": 5
}
