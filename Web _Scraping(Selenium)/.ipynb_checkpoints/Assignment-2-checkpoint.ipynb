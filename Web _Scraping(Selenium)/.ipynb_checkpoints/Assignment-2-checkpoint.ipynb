{
 "cells": [
  {
   "cell_type": "code",
   "execution_count": 8,
   "id": "6fb64411",
   "metadata": {},
   "outputs": [
    {
     "name": "stderr",
     "output_type": "stream",
     "text": [
      "C:\\Users\\mohan\\AppData\\Local\\Temp/ipykernel_22324/1007422170.py:3: DeprecationWarning: executable_path has been deprecated, please pass in a Service object\n",
      "  driver=webdriver.Chrome(executable_path=\"C:\\Webdriver Chrome\\chromedriver.exe\")\n"
     ]
    },
    {
     "data": {
      "text/plain": [
       "<selenium.webdriver.chrome.webdriver.WebDriver (session=\"937d2826e52d4b0882d8721219b83007\")>"
      ]
     },
     "execution_count": 8,
     "metadata": {},
     "output_type": "execute_result"
    }
   ],
   "source": [
    "from selenium import webdriver\n",
    "from selenium.webdriver.common.by import By\n",
    "driver=webdriver.Chrome(executable_path=\"C:\\Webdriver Chrome\\chromedriver.exe\")\n",
    "driver"
   ]
  },
  {
   "cell_type": "code",
   "execution_count": 2,
   "id": "b3e91420",
   "metadata": {},
   "outputs": [],
   "source": [
    "driver.get('https://www.codingninjas.com/codestudio')"
   ]
  },
  {
   "cell_type": "code",
   "execution_count": 6,
   "id": "71239c7a",
   "metadata": {},
   "outputs": [
    {
     "name": "stderr",
     "output_type": "stream",
     "text": [
      "C:\\Users\\mohan\\AppData\\Local\\Temp/ipykernel_22324/3984106894.py:1: DeprecationWarning: find_element_by_link_text is deprecated. Please use find_element(by=By.LINK_TEXT, value=link_text) instead\n",
      "  driver.find_element_by_link_text('See More').click()\n"
     ]
    }
   ],
   "source": [
    "driver.find_element_by_link_text('See More').click()"
   ]
  },
  {
   "cell_type": "code",
   "execution_count": 9,
   "id": "59ba2a92",
   "metadata": {},
   "outputs": [],
   "source": [
    "driver.get('https://codingninjas.in/courses?_ga=2.28975740.1169011454.1659011657-375265369.1658235964')"
   ]
  },
  {
   "cell_type": "code",
   "execution_count": 12,
   "id": "6e2b3ffa",
   "metadata": {},
   "outputs": [
    {
     "name": "stderr",
     "output_type": "stream",
     "text": [
      "C:\\Users\\mohan\\AppData\\Local\\Temp/ipykernel_22324/3157222875.py:1: DeprecationWarning: find_element_by_tag_name is deprecated. Please use find_element(by=By.TAG_NAME, value=name) instead\n",
      "  driver.find_element_by_tag_name('address')\n"
     ]
    },
    {
     "data": {
      "text/plain": [
       "<selenium.webdriver.remote.webelement.WebElement (session=\"937d2826e52d4b0882d8721219b83007\", element=\"503b9fba-3e87-4055-bb1d-67bc5791e60a\")>"
      ]
     },
     "execution_count": 12,
     "metadata": {},
     "output_type": "execute_result"
    }
   ],
   "source": [
    "driver.find_element_by_tag_name('address')"
   ]
  },
  {
   "cell_type": "code",
   "execution_count": null,
   "id": "5e92d532",
   "metadata": {},
   "outputs": [],
   "source": []
  }
 ],
 "metadata": {
  "kernelspec": {
   "display_name": "Python 3 (ipykernel)",
   "language": "python",
   "name": "python3"
  },
  "language_info": {
   "codemirror_mode": {
    "name": "ipython",
    "version": 3
   },
   "file_extension": ".py",
   "mimetype": "text/x-python",
   "name": "python",
   "nbconvert_exporter": "python",
   "pygments_lexer": "ipython3",
   "version": "3.9.7"
  }
 },
 "nbformat": 4,
 "nbformat_minor": 5
}
