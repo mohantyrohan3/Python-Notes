{
 "cells": [
  {
   "cell_type": "code",
   "execution_count": 1,
   "id": "b9ce2411",
   "metadata": {},
   "outputs": [
    {
     "data": {
      "text/plain": [
       "<selenium.webdriver.chrome.webdriver.WebDriver (session=\"009956dc0e5cff3e40d09be864d88c68\")>"
      ]
     },
     "execution_count": 1,
     "metadata": {},
     "output_type": "execute_result"
    }
   ],
   "source": [
    "from selenium import webdriver\n",
    "import warnings\n",
    "warnings.filterwarnings('ignore')\n",
    "driver=webdriver.Chrome(executable_path=\"C:\\Webdriver Chrome\\chromedriver.exe\")\n",
    "driver"
   ]
  },
  {
   "cell_type": "code",
   "execution_count": 11,
   "id": "9b4909c1",
   "metadata": {},
   "outputs": [],
   "source": [
    "driver.get('https://www.facebook.com/r.php')"
   ]
  },
  {
   "cell_type": "code",
   "execution_count": 4,
   "id": "a7feb660",
   "metadata": {},
   "outputs": [],
   "source": [
    "c=driver.find_element_by_name('firstname')"
   ]
  },
  {
   "cell_type": "code",
   "execution_count": 6,
   "id": "27cb2c88",
   "metadata": {},
   "outputs": [
    {
     "data": {
      "text/plain": [
       "True"
      ]
     },
     "execution_count": 6,
     "metadata": {},
     "output_type": "execute_result"
    }
   ],
   "source": [
    "c.is_enabled()"
   ]
  },
  {
   "cell_type": "code",
   "execution_count": 15,
   "id": "13267c83",
   "metadata": {},
   "outputs": [],
   "source": [
    "driver.find_element_by_id('day').click()"
   ]
  },
  {
   "cell_type": "code",
   "execution_count": 17,
   "id": "29979601",
   "metadata": {},
   "outputs": [],
   "source": [
    "d=driver.find_element_by_id('u_0_4_os')"
   ]
  },
  {
   "cell_type": "code",
   "execution_count": 19,
   "id": "120cdbbf",
   "metadata": {},
   "outputs": [
    {
     "data": {
      "text/plain": [
       "False"
      ]
     },
     "execution_count": 19,
     "metadata": {},
     "output_type": "execute_result"
    }
   ],
   "source": [
    "d.is_selected()"
   ]
  },
  {
   "cell_type": "code",
   "execution_count": 20,
   "id": "3bb642fa",
   "metadata": {},
   "outputs": [],
   "source": [
    "d.click()"
   ]
  },
  {
   "cell_type": "code",
   "execution_count": null,
   "id": "87714ee7",
   "metadata": {},
   "outputs": [],
   "source": []
  }
 ],
 "metadata": {
  "kernelspec": {
   "display_name": "Python 3 (ipykernel)",
   "language": "python",
   "name": "python3"
  },
  "language_info": {
   "codemirror_mode": {
    "name": "ipython",
    "version": 3
   },
   "file_extension": ".py",
   "mimetype": "text/x-python",
   "name": "python",
   "nbconvert_exporter": "python",
   "pygments_lexer": "ipython3",
   "version": "3.9.7"
  }
 },
 "nbformat": 4,
 "nbformat_minor": 5
}
