{
 "cells": [
  {
   "cell_type": "code",
   "execution_count": 6,
   "id": "f9561ad2",
   "metadata": {},
   "outputs": [],
   "source": [
    "#  Loading Html doc\n",
    "\n",
    "\n",
    "Html='<!DOCTYPE html>\\\n",
    "<html lang=\"en\" dir=\"ltr\">\\\n",
    "  <head>\\\n",
    "    <meta charset=\"utf-8\">\\\n",
    "    <title>Assessment 2</title>\\\n",
    "  </head>\\\n",
    "  <body>\\\n",
    "    <h1>Course Sign Up Page</h1>\\\n",
    "    <p>Please Note: First Name, Last Name, Password, and Email are required</p>\\\n",
    "    <form action=\"C:\\Web dev\\Django web dev\\Html\\style.html\" method=\"get\">\\\n",
    "      <label for=\"firstname\">First Name :</label>\\\n",
    "      <input id=\"firstname\" type=\"text\" name=\"\" value=\"\" placeholder=\"First Name\" required>\\\n",
    "      <label for=\"lastname\">Last Name :</label>\\\n",
    "      <input id=\"lastname\" type=\"text\" name=\"\" value=\"\" placeholder=\"Last Name\" required>\\\n",
    "      <br>\\\n",
    "      <br>\\\n",
    "      <label for=\"email1\">Email :</label>\\\n",
    "      <input id=\"email1\" type=\"email\" name=\"\" value=\"\" placeholder=\"name@gmail.com\" required>\\\n",
    "      <label for=\"password1\">Password :</label>\\\n",
    "      <input id=\"password1\" type=\"password\" name=\"\" value=\"\" required>\\\n",
    "      <br>\\\n",
    "      <br>\\\n",
    "      <p>Are you over the age of 18 ?</p>\\\n",
    "      <label for=\"yes\">Yes :</label>\\\n",
    "      <input id=\"yes\" type=\"radio\" name=\"loc\" value=\"\">\\\n",
    "      <label for=\"no\">No :</label>\\\n",
    "      <input id=\"no\" type=\"radio\" name=\"loc\" value=\"\">\\\n",
    "      <br>\\\n",
    "      <p>Do you have a Credit Card or PayPal?</p>\\\n",
    "      <select class=\"\" name=\"\">\\\n",
    "        <option value=\"\">Creditcard</option>\\\n",
    "        <option value=\"\">PayPal</option>\\\n",
    "      </select>\\\n",
    "      <br>\\\n",
    "      <br>\\\n",
    "      <input type=\"submit\" name=\"\" value=\"Submit Feedback\">\\\n",
    "    </form>\\\n",
    "  </body>\\\n",
    "</html>\\\n",
    "'"
   ]
  },
  {
   "cell_type": "code",
   "execution_count": 7,
   "id": "762a9b65",
   "metadata": {},
   "outputs": [
    {
     "data": {
      "text/plain": [
       "<!DOCTYPE html>\n",
       "<html dir=\"ltr\" lang=\"en\"> <head> <meta charset=\"utf-8\"/> <title>Assessment 2</title> </head> <body> <h1>Course Sign Up Page</h1> <p>Please Note: First Name, Last Name, Password, and Email are required</p> <form action=\"C:\\Web dev\\Django web dev\\Html\\style.html\" method=\"get\"> <label for=\"firstname\">First Name :</label> <input id=\"firstname\" name=\"\" placeholder=\"First Name\" required=\"\" type=\"text\" value=\"\"/> <label for=\"lastname\">Last Name :</label> <input id=\"lastname\" name=\"\" placeholder=\"Last Name\" required=\"\" type=\"text\" value=\"\"/> <br/> <br/> <label for=\"email1\">Email :</label> <input id=\"email1\" name=\"\" placeholder=\"name@gmail.com\" required=\"\" type=\"email\" value=\"\"/> <label for=\"password1\">Password :</label> <input id=\"password1\" name=\"\" required=\"\" type=\"password\" value=\"\"/> <br/> <br/> <p>Are you over the age of 18 ?</p> <label for=\"yes\">Yes :</label> <input id=\"yes\" name=\"loc\" type=\"radio\" value=\"\"/> <label for=\"no\">No :</label> <input id=\"no\" name=\"loc\" type=\"radio\" value=\"\"/> <br/> <p>Do you have a Credit Card or PayPal?</p> <select class=\"\" name=\"\"> <option value=\"\">Creditcard</option> <option value=\"\">PayPal</option> </select> <br/> <br/> <input name=\"\" type=\"submit\" value=\"Submit Feedback\"/> </form> </body></html>"
      ]
     },
     "execution_count": 7,
     "metadata": {},
     "output_type": "execute_result"
    }
   ],
   "source": [
    "# Parsing Html \n",
    "\n",
    "from bs4 import BeautifulSoup\n",
    "data=BeautifulSoup(Html,'html.parser')\n",
    "data"
   ]
  },
  {
   "cell_type": "code",
   "execution_count": 9,
   "id": "af88aa25",
   "metadata": {},
   "outputs": [
    {
     "name": "stdout",
     "output_type": "stream",
     "text": [
      "<!DOCTYPE html>\n",
      "<html dir=\"ltr\" lang=\"en\">\n",
      " <head>\n",
      "  <meta charset=\"utf-8\"/>\n",
      "  <title>\n",
      "   Assessment 2\n",
      "  </title>\n",
      " </head>\n",
      " <body>\n",
      "  <h1>\n",
      "   Course Sign Up Page\n",
      "  </h1>\n",
      "  <p>\n",
      "   Please Note: First Name, Last Name, Password, and Email are required\n",
      "  </p>\n",
      "  <form action=\"C:\\Web dev\\Django web dev\\Html\\style.html\" method=\"get\">\n",
      "   <label for=\"firstname\">\n",
      "    First Name :\n",
      "   </label>\n",
      "   <input id=\"firstname\" name=\"\" placeholder=\"First Name\" required=\"\" type=\"text\" value=\"\"/>\n",
      "   <label for=\"lastname\">\n",
      "    Last Name :\n",
      "   </label>\n",
      "   <input id=\"lastname\" name=\"\" placeholder=\"Last Name\" required=\"\" type=\"text\" value=\"\"/>\n",
      "   <br/>\n",
      "   <br/>\n",
      "   <label for=\"email1\">\n",
      "    Email :\n",
      "   </label>\n",
      "   <input id=\"email1\" name=\"\" placeholder=\"name@gmail.com\" required=\"\" type=\"email\" value=\"\"/>\n",
      "   <label for=\"password1\">\n",
      "    Password :\n",
      "   </label>\n",
      "   <input id=\"password1\" name=\"\" required=\"\" type=\"password\" value=\"\"/>\n",
      "   <br/>\n",
      "   <br/>\n",
      "   <p>\n",
      "    Are you over the age of 18 ?\n",
      "   </p>\n",
      "   <label for=\"yes\">\n",
      "    Yes :\n",
      "   </label>\n",
      "   <input id=\"yes\" name=\"loc\" type=\"radio\" value=\"\"/>\n",
      "   <label for=\"no\">\n",
      "    No :\n",
      "   </label>\n",
      "   <input id=\"no\" name=\"loc\" type=\"radio\" value=\"\"/>\n",
      "   <br/>\n",
      "   <p>\n",
      "    Do you have a Credit Card or PayPal?\n",
      "   </p>\n",
      "   <select class=\"\" name=\"\">\n",
      "    <option value=\"\">\n",
      "     Creditcard\n",
      "    </option>\n",
      "    <option value=\"\">\n",
      "     PayPal\n",
      "    </option>\n",
      "   </select>\n",
      "   <br/>\n",
      "   <br/>\n",
      "   <input name=\"\" type=\"submit\" value=\"Submit Feedback\"/>\n",
      "  </form>\n",
      " </body>\n",
      "</html>\n"
     ]
    }
   ],
   "source": [
    "print(data.prettify())"
   ]
  },
  {
   "cell_type": "code",
   "execution_count": 14,
   "id": "c154e5fd",
   "metadata": {},
   "outputs": [
    {
     "name": "stdout",
     "output_type": "stream",
     "text": [
      "<title>Assessment 2</title>\n",
      "<head> <meta charset=\"utf-8\"/> <title>Assessment 2</title> </head>\n",
      "<h1>Course Sign Up Page</h1>\n",
      "<p>Please Note: First Name, Last Name, Password, and Email are required</p>\n"
     ]
    }
   ],
   "source": [
    "# Diff Methods and attributes\n",
    "\n",
    "print(data.title) # Title\n",
    "\n",
    "print(data.head)  # head\n",
    "\n",
    "print(data.h1)\n",
    "\n",
    "print(data.p)"
   ]
  },
  {
   "cell_type": "code",
   "execution_count": 18,
   "id": "028d7fe1",
   "metadata": {},
   "outputs": [
    {
     "name": "stdout",
     "output_type": "stream",
     "text": [
      "<title>Assessment 2</title>\n",
      "title\n",
      "Assessment 2\n"
     ]
    }
   ],
   "source": [
    "print(data.title)\n",
    "print(data.title.name)\n",
    "print(data.title.string)"
   ]
  },
  {
   "cell_type": "code",
   "execution_count": 22,
   "id": "d98e5dcf",
   "metadata": {},
   "outputs": [
    {
     "name": "stdout",
     "output_type": "stream",
     "text": [
      "{'id': 'firstname', 'type': 'text', 'name': '', 'value': '', 'placeholder': 'First Name', 'required': ''}\n"
     ]
    }
   ],
   "source": [
    "print(data.input.attrs)  # Prints the attributes of given tag"
   ]
  },
  {
   "cell_type": "code",
   "execution_count": 25,
   "id": "13bf049a",
   "metadata": {},
   "outputs": [
    {
     "data": {
      "text/plain": [
       "'   Assessment 2   Course Sign Up Page Please Note: First Name, Last Name, Password, and Email are required  First Name :  Last Name :    Email :  Password :    Are you over the age of 18 ? Yes :  No :   Do you have a Credit Card or PayPal?  Creditcard PayPal      '"
      ]
     },
     "execution_count": 25,
     "metadata": {},
     "output_type": "execute_result"
    }
   ],
   "source": [
    "data.get_text() # Finds all the text values in html page"
   ]
  },
  {
   "cell_type": "code",
   "execution_count": 45,
   "id": "31ceb671",
   "metadata": {},
   "outputs": [],
   "source": [
    "ans=data.find_all('p')  # Finds all the tags with given input"
   ]
  },
  {
   "cell_type": "code",
   "execution_count": null,
   "id": "bcd49bb1",
   "metadata": {},
   "outputs": [],
   "source": []
  }
 ],
 "metadata": {
  "kernelspec": {
   "display_name": "Python 3 (ipykernel)",
   "language": "python",
   "name": "python3"
  },
  "language_info": {
   "codemirror_mode": {
    "name": "ipython",
    "version": 3
   },
   "file_extension": ".py",
   "mimetype": "text/x-python",
   "name": "python",
   "nbconvert_exporter": "python",
   "pygments_lexer": "ipython3",
   "version": "3.9.7"
  }
 },
 "nbformat": 4,
 "nbformat_minor": 5
}
