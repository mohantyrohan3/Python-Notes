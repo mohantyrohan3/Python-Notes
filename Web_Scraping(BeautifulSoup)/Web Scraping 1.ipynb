{
 "cells": [
  {
   "cell_type": "code",
   "execution_count": 1,
   "id": "f9561ad2",
   "metadata": {},
   "outputs": [],
   "source": [
    "#  Loading Html doc\n",
    "\n",
    "\n",
    "Html='<!DOCTYPE html>\\\n",
    "<html lang=\"en\" dir=\"ltr\">\\\n",
    "  <head>\\\n",
    "    <meta charset=\"utf-8\">\\\n",
    "    <title>Assessment 2</title>\\\n",
    "  </head>\\\n",
    "  <body>\\\n",
    "    <h1>Course Sign Up Page</h1>\\\n",
    "    <p>Please Note: First Name, Last Name, Password, and Email are required</p>\\\n",
    "    <form action=\"C:\\Web dev\\Django web dev\\Html\\style.html\" method=\"get\">\\\n",
    "      <label for=\"firstname\">First Name :</label>\\\n",
    "      <input id=\"firstname\" type=\"text\" name=\"\" value=\"\" placeholder=\"First Name\" required>\\\n",
    "      <label for=\"lastname\">Last Name :</label>\\\n",
    "      <input id=\"lastname\" type=\"text\" name=\"\" value=\"\" placeholder=\"Last Name\" required>\\\n",
    "      <br>\\\n",
    "      <br>\\\n",
    "      <label for=\"email1\">Email :</label>\\\n",
    "      <input id=\"email1\" type=\"email\" name=\"\" value=\"\" placeholder=\"name@gmail.com\" required>\\\n",
    "      <label for=\"password1\">Password :</label>\\\n",
    "      <input id=\"password1\" type=\"password\" name=\"\" value=\"\" required>\\\n",
    "      <br>\\\n",
    "      <br>\\\n",
    "      <p>Are you over the age of 18 ?</p>\\\n",
    "      <label for=\"yes\">Yes :</label>\\\n",
    "      <input id=\"yes\" type=\"radio\" name=\"loc\" value=\"\">\\\n",
    "      <label for=\"no\">No :</label>\\\n",
    "      <input id=\"no\" type=\"radio\" name=\"loc\" value=\"\">\\\n",
    "      <br>\\\n",
    "      <p>Do you have a Credit Card or PayPal?</p>\\\n",
    "      <select class=\"\" name=\"\">\\\n",
    "        <option value=\"\">Creditcard</option>\\\n",
    "        <option value=\"\">PayPal</option>\\\n",
    "      </select>\\\n",
    "      <br>\\\n",
    "      <br>\\\n",
    "      <input type=\"submit\" name=\"\" value=\"Submit Feedback\">\\\n",
    "    </form>\\\n",
    "  </body>\\\n",
    "</html>\\\n",
    "'"
   ]
  },
  {
   "cell_type": "code",
   "execution_count": 2,
   "id": "762a9b65",
   "metadata": {},
   "outputs": [
    {
     "data": {
      "text/plain": [
       "<!DOCTYPE html>\n",
       "<html dir=\"ltr\" lang=\"en\"> <head> <meta charset=\"utf-8\"/> <title>Assessment 2</title> </head> <body> <h1>Course Sign Up Page</h1> <p>Please Note: First Name, Last Name, Password, and Email are required</p> <form action=\"C:\\Web dev\\Django web dev\\Html\\style.html\" method=\"get\"> <label for=\"firstname\">First Name :</label> <input id=\"firstname\" name=\"\" placeholder=\"First Name\" required=\"\" type=\"text\" value=\"\"/> <label for=\"lastname\">Last Name :</label> <input id=\"lastname\" name=\"\" placeholder=\"Last Name\" required=\"\" type=\"text\" value=\"\"/> <br/> <br/> <label for=\"email1\">Email :</label> <input id=\"email1\" name=\"\" placeholder=\"name@gmail.com\" required=\"\" type=\"email\" value=\"\"/> <label for=\"password1\">Password :</label> <input id=\"password1\" name=\"\" required=\"\" type=\"password\" value=\"\"/> <br/> <br/> <p>Are you over the age of 18 ?</p> <label for=\"yes\">Yes :</label> <input id=\"yes\" name=\"loc\" type=\"radio\" value=\"\"/> <label for=\"no\">No :</label> <input id=\"no\" name=\"loc\" type=\"radio\" value=\"\"/> <br/> <p>Do you have a Credit Card or PayPal?</p> <select class=\"\" name=\"\"> <option value=\"\">Creditcard</option> <option value=\"\">PayPal</option> </select> <br/> <br/> <input name=\"\" type=\"submit\" value=\"Submit Feedback\"/> </form> </body></html>"
      ]
     },
     "execution_count": 2,
     "metadata": {},
     "output_type": "execute_result"
    }
   ],
   "source": [
    "# Parsing Html \n",
    "\n",
    "from bs4 import BeautifulSoup\n",
    "data=BeautifulSoup(Html,'html.parser')\n",
    "data"
   ]
  },
  {
   "cell_type": "code",
   "execution_count": 3,
   "id": "af88aa25",
   "metadata": {},
   "outputs": [
    {
     "name": "stdout",
     "output_type": "stream",
     "text": [
      "<!DOCTYPE html>\n",
      "<html dir=\"ltr\" lang=\"en\">\n",
      " <head>\n",
      "  <meta charset=\"utf-8\"/>\n",
      "  <title>\n",
      "   Assessment 2\n",
      "  </title>\n",
      " </head>\n",
      " <body>\n",
      "  <h1>\n",
      "   Course Sign Up Page\n",
      "  </h1>\n",
      "  <p>\n",
      "   Please Note: First Name, Last Name, Password, and Email are required\n",
      "  </p>\n",
      "  <form action=\"C:\\Web dev\\Django web dev\\Html\\style.html\" method=\"get\">\n",
      "   <label for=\"firstname\">\n",
      "    First Name :\n",
      "   </label>\n",
      "   <input id=\"firstname\" name=\"\" placeholder=\"First Name\" required=\"\" type=\"text\" value=\"\"/>\n",
      "   <label for=\"lastname\">\n",
      "    Last Name :\n",
      "   </label>\n",
      "   <input id=\"lastname\" name=\"\" placeholder=\"Last Name\" required=\"\" type=\"text\" value=\"\"/>\n",
      "   <br/>\n",
      "   <br/>\n",
      "   <label for=\"email1\">\n",
      "    Email :\n",
      "   </label>\n",
      "   <input id=\"email1\" name=\"\" placeholder=\"name@gmail.com\" required=\"\" type=\"email\" value=\"\"/>\n",
      "   <label for=\"password1\">\n",
      "    Password :\n",
      "   </label>\n",
      "   <input id=\"password1\" name=\"\" required=\"\" type=\"password\" value=\"\"/>\n",
      "   <br/>\n",
      "   <br/>\n",
      "   <p>\n",
      "    Are you over the age of 18 ?\n",
      "   </p>\n",
      "   <label for=\"yes\">\n",
      "    Yes :\n",
      "   </label>\n",
      "   <input id=\"yes\" name=\"loc\" type=\"radio\" value=\"\"/>\n",
      "   <label for=\"no\">\n",
      "    No :\n",
      "   </label>\n",
      "   <input id=\"no\" name=\"loc\" type=\"radio\" value=\"\"/>\n",
      "   <br/>\n",
      "   <p>\n",
      "    Do you have a Credit Card or PayPal?\n",
      "   </p>\n",
      "   <select class=\"\" name=\"\">\n",
      "    <option value=\"\">\n",
      "     Creditcard\n",
      "    </option>\n",
      "    <option value=\"\">\n",
      "     PayPal\n",
      "    </option>\n",
      "   </select>\n",
      "   <br/>\n",
      "   <br/>\n",
      "   <input name=\"\" type=\"submit\" value=\"Submit Feedback\"/>\n",
      "  </form>\n",
      " </body>\n",
      "</html>\n"
     ]
    }
   ],
   "source": [
    "print(data.prettify())"
   ]
  },
  {
   "cell_type": "code",
   "execution_count": 4,
   "id": "c154e5fd",
   "metadata": {},
   "outputs": [
    {
     "name": "stdout",
     "output_type": "stream",
     "text": [
      "<title>Assessment 2</title>\n",
      "<head> <meta charset=\"utf-8\"/> <title>Assessment 2</title> </head>\n",
      "<h1>Course Sign Up Page</h1>\n",
      "<p>Please Note: First Name, Last Name, Password, and Email are required</p>\n"
     ]
    }
   ],
   "source": [
    "# Diff Methods and attributes\n",
    "\n",
    "print(data.title) # Title\n",
    "\n",
    "print(data.head)  # head\n",
    "\n",
    "print(data.h1)\n",
    "\n",
    "print(data.p)"
   ]
  },
  {
   "cell_type": "code",
   "execution_count": 5,
   "id": "028d7fe1",
   "metadata": {},
   "outputs": [
    {
     "name": "stdout",
     "output_type": "stream",
     "text": [
      "<title>Assessment 2</title>\n",
      "title\n",
      "Assessment 2\n"
     ]
    }
   ],
   "source": [
    "print(data.title)\n",
    "print(data.title.name)\n",
    "print(data.title.string)"
   ]
  },
  {
   "cell_type": "code",
   "execution_count": 6,
   "id": "d98e5dcf",
   "metadata": {},
   "outputs": [
    {
     "name": "stdout",
     "output_type": "stream",
     "text": [
      "{'id': 'firstname', 'type': 'text', 'name': '', 'value': '', 'placeholder': 'First Name', 'required': ''}\n"
     ]
    }
   ],
   "source": [
    "print(data.input.attrs)  # Prints the attributes of given tag"
   ]
  },
  {
   "cell_type": "code",
   "execution_count": 7,
   "id": "13bf049a",
   "metadata": {},
   "outputs": [
    {
     "data": {
      "text/plain": [
       "'   Assessment 2   Course Sign Up Page Please Note: First Name, Last Name, Password, and Email are required  First Name :  Last Name :    Email :  Password :    Are you over the age of 18 ? Yes :  No :   Do you have a Credit Card or PayPal?  Creditcard PayPal      '"
      ]
     },
     "execution_count": 7,
     "metadata": {},
     "output_type": "execute_result"
    }
   ],
   "source": [
    "data.get_text() # Finds all the text values in html page"
   ]
  },
  {
   "cell_type": "code",
   "execution_count": 9,
   "id": "31ceb671",
   "metadata": {},
   "outputs": [
    {
     "data": {
      "text/plain": [
       "[<p>Please Note: First Name, Last Name, Password, and Email are required</p>,\n",
       " <p>Are you over the age of 18 ?</p>,\n",
       " <p>Do you have a Credit Card or PayPal?</p>]"
      ]
     },
     "execution_count": 9,
     "metadata": {},
     "output_type": "execute_result"
    }
   ],
   "source": [
    "ans=data.find_all('p')  # Finds all the tags with given input\n",
    "ans"
   ]
  },
  {
   "cell_type": "markdown",
   "id": "b0fb926c",
   "metadata": {},
   "source": [
    "# Navigating a Parse Tree"
   ]
  },
  {
   "cell_type": "code",
   "execution_count": 11,
   "id": "9b53d90b",
   "metadata": {},
   "outputs": [
    {
     "data": {
      "text/plain": [
       "[<p>Please Note: First Name, Last Name, Password, and Email are required</p>,\n",
       " <input id=\"firstname\" name=\"\" placeholder=\"First Name\" required=\"\" type=\"text\" value=\"\"/>,\n",
       " <input id=\"lastname\" name=\"\" placeholder=\"Last Name\" required=\"\" type=\"text\" value=\"\"/>,\n",
       " <input id=\"email1\" name=\"\" placeholder=\"name@gmail.com\" required=\"\" type=\"email\" value=\"\"/>,\n",
       " <input id=\"password1\" name=\"\" required=\"\" type=\"password\" value=\"\"/>,\n",
       " <p>Are you over the age of 18 ?</p>,\n",
       " <input id=\"yes\" name=\"loc\" type=\"radio\" value=\"\"/>,\n",
       " <input id=\"no\" name=\"loc\" type=\"radio\" value=\"\"/>,\n",
       " <p>Do you have a Credit Card or PayPal?</p>,\n",
       " <input name=\"\" type=\"submit\" value=\"Submit Feedback\"/>]"
      ]
     },
     "execution_count": 11,
     "metadata": {},
     "output_type": "execute_result"
    }
   ],
   "source": [
    "ans1=data.find_all([\"p\",'input'])\n",
    "ans1"
   ]
  },
  {
   "cell_type": "code",
   "execution_count": 12,
   "id": "68c1af3e",
   "metadata": {},
   "outputs": [
    {
     "data": {
      "text/plain": [
       "[<input id=\"yes\" name=\"loc\" type=\"radio\" value=\"\"/>]"
      ]
     },
     "execution_count": 12,
     "metadata": {},
     "output_type": "execute_result"
    }
   ],
   "source": [
    "ans2=data.find_all(id='yes')\n",
    "ans2"
   ]
  },
  {
   "cell_type": "code",
   "execution_count": 14,
   "id": "a437a918",
   "metadata": {},
   "outputs": [],
   "source": [
    "#      ans3=data.find_all(class_='')  For finding respective class tags"
   ]
  },
  {
   "cell_type": "code",
   "execution_count": 15,
   "id": "bc81e744",
   "metadata": {},
   "outputs": [
    {
     "data": {
      "text/plain": [
       "<title>Assessment 2</title>"
      ]
     },
     "execution_count": 15,
     "metadata": {},
     "output_type": "execute_result"
    }
   ],
   "source": [
    "data.head.title # Nesting of tags"
   ]
  },
  {
   "cell_type": "code",
   "execution_count": 16,
   "id": "4d3cb0e5",
   "metadata": {},
   "outputs": [
    {
     "data": {
      "text/plain": [
       "'Please Note: First Name, Last Name, Password, and Email are required'"
      ]
     },
     "execution_count": 16,
     "metadata": {},
     "output_type": "execute_result"
    }
   ],
   "source": [
    "# data.p.string will give string if and only there is one child present inside the tag"
   ]
  },
  {
   "cell_type": "code",
   "execution_count": 19,
   "id": "49cfa048",
   "metadata": {},
   "outputs": [
    {
     "name": "stdout",
     "output_type": "stream",
     "text": [
      "['Please Note: First Name, Last Name, Password, and Email are required']\n",
      "['Are you over the age of 18 ?']\n",
      "['Do you have a Credit Card or PayPal?']\n"
     ]
    }
   ],
   "source": [
    "ans=data.find_all('p')\n",
    "for i in ans:\n",
    "    print(list(i.strings))  # list(i.stripped_strings) will remove extra spaces if any"
   ]
  },
  {
   "cell_type": "code",
   "execution_count": 20,
   "id": "0b60e068",
   "metadata": {},
   "outputs": [
    {
     "data": {
      "text/plain": [
       "[' ',\n",
       " <head> <meta charset=\"utf-8\"/> <title>Assessment 2</title> </head>,\n",
       " ' ',\n",
       " <body> <h1>Course Sign Up Page</h1> <p>Please Note: First Name, Last Name, Password, and Email are required</p> <form action=\"C:\\Web dev\\Django web dev\\Html\\style.html\" method=\"get\"> <label for=\"firstname\">First Name :</label> <input id=\"firstname\" name=\"\" placeholder=\"First Name\" required=\"\" type=\"text\" value=\"\"/> <label for=\"lastname\">Last Name :</label> <input id=\"lastname\" name=\"\" placeholder=\"Last Name\" required=\"\" type=\"text\" value=\"\"/> <br/> <br/> <label for=\"email1\">Email :</label> <input id=\"email1\" name=\"\" placeholder=\"name@gmail.com\" required=\"\" type=\"email\" value=\"\"/> <label for=\"password1\">Password :</label> <input id=\"password1\" name=\"\" required=\"\" type=\"password\" value=\"\"/> <br/> <br/> <p>Are you over the age of 18 ?</p> <label for=\"yes\">Yes :</label> <input id=\"yes\" name=\"loc\" type=\"radio\" value=\"\"/> <label for=\"no\">No :</label> <input id=\"no\" name=\"loc\" type=\"radio\" value=\"\"/> <br/> <p>Do you have a Credit Card or PayPal?</p> <select class=\"\" name=\"\"> <option value=\"\">Creditcard</option> <option value=\"\">PayPal</option> </select> <br/> <br/> <input name=\"\" type=\"submit\" value=\"Submit Feedback\"/> </form> </body>]"
      ]
     },
     "execution_count": 20,
     "metadata": {},
     "output_type": "execute_result"
    }
   ],
   "source": [
    "data.html.contents"
   ]
  },
  {
   "cell_type": "code",
   "execution_count": 22,
   "id": "8ae3752c",
   "metadata": {},
   "outputs": [
    {
     "name": "stdout",
     "output_type": "stream",
     "text": [
      "[' ', <h1>Course Sign Up Page</h1>, ' ', <p>Please Note: First Name, Last Name, Password, and Email are required</p>, ' ', <form action=\"C:\\Web dev\\Django web dev\\Html\\style.html\" method=\"get\"> <label for=\"firstname\">First Name :</label> <input id=\"firstname\" name=\"\" placeholder=\"First Name\" required=\"\" type=\"text\" value=\"\"/> <label for=\"lastname\">Last Name :</label> <input id=\"lastname\" name=\"\" placeholder=\"Last Name\" required=\"\" type=\"text\" value=\"\"/> <br/> <br/> <label for=\"email1\">Email :</label> <input id=\"email1\" name=\"\" placeholder=\"name@gmail.com\" required=\"\" type=\"email\" value=\"\"/> <label for=\"password1\">Password :</label> <input id=\"password1\" name=\"\" required=\"\" type=\"password\" value=\"\"/> <br/> <br/> <p>Are you over the age of 18 ?</p> <label for=\"yes\">Yes :</label> <input id=\"yes\" name=\"loc\" type=\"radio\" value=\"\"/> <label for=\"no\">No :</label> <input id=\"no\" name=\"loc\" type=\"radio\" value=\"\"/> <br/> <p>Do you have a Credit Card or PayPal?</p> <select class=\"\" name=\"\"> <option value=\"\">Creditcard</option> <option value=\"\">PayPal</option> </select> <br/> <br/> <input name=\"\" type=\"submit\" value=\"Submit Feedback\"/> </form>, ' ']\n"
     ]
    }
   ],
   "source": [
    "print(list(data.body.children))    # Returns direct children"
   ]
  },
  {
   "cell_type": "code",
   "execution_count": 24,
   "id": "e391488d",
   "metadata": {},
   "outputs": [
    {
     "name": "stdout",
     "output_type": "stream",
     "text": [
      "[' ', <head> <meta charset=\"utf-8\"/> <title>Assessment 2</title> </head>, ' ', <meta charset=\"utf-8\"/>, ' ', <title>Assessment 2</title>, 'Assessment 2', ' ', ' ', <body> <h1>Course Sign Up Page</h1> <p>Please Note: First Name, Last Name, Password, and Email are required</p> <form action=\"C:\\Web dev\\Django web dev\\Html\\style.html\" method=\"get\"> <label for=\"firstname\">First Name :</label> <input id=\"firstname\" name=\"\" placeholder=\"First Name\" required=\"\" type=\"text\" value=\"\"/> <label for=\"lastname\">Last Name :</label> <input id=\"lastname\" name=\"\" placeholder=\"Last Name\" required=\"\" type=\"text\" value=\"\"/> <br/> <br/> <label for=\"email1\">Email :</label> <input id=\"email1\" name=\"\" placeholder=\"name@gmail.com\" required=\"\" type=\"email\" value=\"\"/> <label for=\"password1\">Password :</label> <input id=\"password1\" name=\"\" required=\"\" type=\"password\" value=\"\"/> <br/> <br/> <p>Are you over the age of 18 ?</p> <label for=\"yes\">Yes :</label> <input id=\"yes\" name=\"loc\" type=\"radio\" value=\"\"/> <label for=\"no\">No :</label> <input id=\"no\" name=\"loc\" type=\"radio\" value=\"\"/> <br/> <p>Do you have a Credit Card or PayPal?</p> <select class=\"\" name=\"\"> <option value=\"\">Creditcard</option> <option value=\"\">PayPal</option> </select> <br/> <br/> <input name=\"\" type=\"submit\" value=\"Submit Feedback\"/> </form> </body>, ' ', <h1>Course Sign Up Page</h1>, 'Course Sign Up Page', ' ', <p>Please Note: First Name, Last Name, Password, and Email are required</p>, 'Please Note: First Name, Last Name, Password, and Email are required', ' ', <form action=\"C:\\Web dev\\Django web dev\\Html\\style.html\" method=\"get\"> <label for=\"firstname\">First Name :</label> <input id=\"firstname\" name=\"\" placeholder=\"First Name\" required=\"\" type=\"text\" value=\"\"/> <label for=\"lastname\">Last Name :</label> <input id=\"lastname\" name=\"\" placeholder=\"Last Name\" required=\"\" type=\"text\" value=\"\"/> <br/> <br/> <label for=\"email1\">Email :</label> <input id=\"email1\" name=\"\" placeholder=\"name@gmail.com\" required=\"\" type=\"email\" value=\"\"/> <label for=\"password1\">Password :</label> <input id=\"password1\" name=\"\" required=\"\" type=\"password\" value=\"\"/> <br/> <br/> <p>Are you over the age of 18 ?</p> <label for=\"yes\">Yes :</label> <input id=\"yes\" name=\"loc\" type=\"radio\" value=\"\"/> <label for=\"no\">No :</label> <input id=\"no\" name=\"loc\" type=\"radio\" value=\"\"/> <br/> <p>Do you have a Credit Card or PayPal?</p> <select class=\"\" name=\"\"> <option value=\"\">Creditcard</option> <option value=\"\">PayPal</option> </select> <br/> <br/> <input name=\"\" type=\"submit\" value=\"Submit Feedback\"/> </form>, ' ', <label for=\"firstname\">First Name :</label>, 'First Name :', ' ', <input id=\"firstname\" name=\"\" placeholder=\"First Name\" required=\"\" type=\"text\" value=\"\"/>, ' ', <label for=\"lastname\">Last Name :</label>, 'Last Name :', ' ', <input id=\"lastname\" name=\"\" placeholder=\"Last Name\" required=\"\" type=\"text\" value=\"\"/>, ' ', <br/>, ' ', <br/>, ' ', <label for=\"email1\">Email :</label>, 'Email :', ' ', <input id=\"email1\" name=\"\" placeholder=\"name@gmail.com\" required=\"\" type=\"email\" value=\"\"/>, ' ', <label for=\"password1\">Password :</label>, 'Password :', ' ', <input id=\"password1\" name=\"\" required=\"\" type=\"password\" value=\"\"/>, ' ', <br/>, ' ', <br/>, ' ', <p>Are you over the age of 18 ?</p>, 'Are you over the age of 18 ?', ' ', <label for=\"yes\">Yes :</label>, 'Yes :', ' ', <input id=\"yes\" name=\"loc\" type=\"radio\" value=\"\"/>, ' ', <label for=\"no\">No :</label>, 'No :', ' ', <input id=\"no\" name=\"loc\" type=\"radio\" value=\"\"/>, ' ', <br/>, ' ', <p>Do you have a Credit Card or PayPal?</p>, 'Do you have a Credit Card or PayPal?', ' ', <select class=\"\" name=\"\"> <option value=\"\">Creditcard</option> <option value=\"\">PayPal</option> </select>, ' ', <option value=\"\">Creditcard</option>, 'Creditcard', ' ', <option value=\"\">PayPal</option>, 'PayPal', ' ', ' ', <br/>, ' ', <br/>, ' ', <input name=\"\" type=\"submit\" value=\"Submit Feedback\"/>, ' ', ' ']\n"
     ]
    }
   ],
   "source": [
    "print(list(data.html.descendants))   # Returns all the descendents"
   ]
  },
  {
   "cell_type": "code",
   "execution_count": 28,
   "id": "0de899bb",
   "metadata": {},
   "outputs": [
    {
     "name": "stdout",
     "output_type": "stream",
     "text": [
      "[' ', <h1>Course Sign Up Page</h1>, ' ', <p>Please Note: First Name, Last Name, Password, and Email are required</p>, ' ', <form action=\"C:\\Web dev\\Django web dev\\Html\\style.html\" method=\"get\"> <label for=\"firstname\">First Name :</label> <input id=\"firstname\" name=\"\" placeholder=\"First Name\" required=\"\" type=\"text\" value=\"\"/> <label for=\"lastname\">Last Name :</label> <input id=\"lastname\" name=\"\" placeholder=\"Last Name\" required=\"\" type=\"text\" value=\"\"/> <br/> <br/> <label for=\"email1\">Email :</label> <input id=\"email1\" name=\"\" placeholder=\"name@gmail.com\" required=\"\" type=\"email\" value=\"\"/> <label for=\"password1\">Password :</label> <input id=\"password1\" name=\"\" required=\"\" type=\"password\" value=\"\"/> <br/> <br/> <p>Are you over the age of 18 ?</p> <label for=\"yes\">Yes :</label> <input id=\"yes\" name=\"loc\" type=\"radio\" value=\"\"/> <label for=\"no\">No :</label> <input id=\"no\" name=\"loc\" type=\"radio\" value=\"\"/> <br/> <p>Do you have a Credit Card or PayPal?</p> <select class=\"\" name=\"\"> <option value=\"\">Creditcard</option> <option value=\"\">PayPal</option> </select> <br/> <br/> <input name=\"\" type=\"submit\" value=\"Submit Feedback\"/> </form>, ' ']\n"
     ]
    }
   ],
   "source": [
    "print(list(data.p.parent))"
   ]
  },
  {
   "cell_type": "code",
   "execution_count": 30,
   "id": "28a33bec",
   "metadata": {},
   "outputs": [
    {
     "data": {
      "text/plain": [
       "[<input id=\"firstname\" name=\"\" placeholder=\"First Name\" required=\"\" type=\"text\" value=\"\"/>,\n",
       " <input id=\"lastname\" name=\"\" placeholder=\"Last Name\" required=\"\" type=\"text\" value=\"\"/>,\n",
       " <input id=\"email1\" name=\"\" placeholder=\"name@gmail.com\" required=\"\" type=\"email\" value=\"\"/>,\n",
       " <input id=\"password1\" name=\"\" required=\"\" type=\"password\" value=\"\"/>,\n",
       " <input id=\"yes\" name=\"loc\" type=\"radio\" value=\"\"/>,\n",
       " <input id=\"no\" name=\"loc\" type=\"radio\" value=\"\"/>]"
      ]
     },
     "execution_count": 30,
     "metadata": {},
     "output_type": "execute_result"
    }
   ],
   "source": [
    "data.find_all(id=True)"
   ]
  },
  {
   "cell_type": "code",
   "execution_count": null,
   "id": "bfb9a10c",
   "metadata": {},
   "outputs": [],
   "source": []
  }
 ],
 "metadata": {
  "kernelspec": {
   "display_name": "Python 3 (ipykernel)",
   "language": "python",
   "name": "python3"
  },
  "language_info": {
   "codemirror_mode": {
    "name": "ipython",
    "version": 3
   },
   "file_extension": ".py",
   "mimetype": "text/x-python",
   "name": "python",
   "nbconvert_exporter": "python",
   "pygments_lexer": "ipython3",
   "version": "3.9.7"
  }
 },
 "nbformat": 4,
 "nbformat_minor": 5
}
