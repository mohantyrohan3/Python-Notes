{
 "cells": [
  {
   "cell_type": "markdown",
   "id": "8a221f73",
   "metadata": {},
   "source": [
    "### Connecting Sqlite files"
   ]
  },
  {
   "cell_type": "code",
   "execution_count": 2,
   "id": "4bde41bd",
   "metadata": {},
   "outputs": [
    {
     "data": {
      "text/plain": [
       "<sqlite3.Connection at 0x15e0768cc60>"
      ]
     },
     "execution_count": 2,
     "metadata": {},
     "output_type": "execute_result"
    }
   ],
   "source": [
    "import sqlite3\n",
    "db=sqlite3.connect(\"C:\\Python\\SQLite\\IMDB.sqlite\")\n",
    "db"
   ]
  },
  {
   "cell_type": "code",
   "execution_count": 3,
   "id": "a226bd6a",
   "metadata": {},
   "outputs": [
    {
     "data": {
      "text/plain": [
       "<sqlite3.Connection at 0x15e0768ca80>"
      ]
     },
     "execution_count": 3,
     "metadata": {},
     "output_type": "execute_result"
    }
   ],
   "source": [
    "db=sqlite3.connect(\"IMDB_1.sqlite\")\n",
    "db"
   ]
  },
  {
   "cell_type": "code",
   "execution_count": 11,
   "id": "5efef895",
   "metadata": {},
   "outputs": [
    {
     "data": {
      "text/plain": [
       "<sqlite3.Connection at 0x15e076a9030>"
      ]
     },
     "execution_count": 11,
     "metadata": {},
     "output_type": "execute_result"
    }
   ],
   "source": [
    "db=sqlite3.connect(\"School.sqlite\")\n",
    "db"
   ]
  },
  {
   "cell_type": "markdown",
   "id": "5db4f60b",
   "metadata": {},
   "source": [
    "### Creating Cursor "
   ]
  },
  {
   "cell_type": "code",
   "execution_count": 12,
   "id": "d2f96499",
   "metadata": {},
   "outputs": [
    {
     "data": {
      "text/plain": [
       "<sqlite3.Cursor at 0x15e0767ee30>"
      ]
     },
     "execution_count": 12,
     "metadata": {},
     "output_type": "execute_result"
    }
   ],
   "source": [
    "cur=db.cursor()\n",
    "cur"
   ]
  },
  {
   "cell_type": "code",
   "execution_count": 13,
   "id": "0b31824b",
   "metadata": {},
   "outputs": [
    {
     "data": {
      "text/plain": [
       "<sqlite3.Cursor at 0x15e0767ee30>"
      ]
     },
     "execution_count": 13,
     "metadata": {},
     "output_type": "execute_result"
    }
   ],
   "source": [
    "sql_query='Create table Student (RollNumber int Primary key ,Name text , Age int)'\n",
    "cur.execute(sql_query)"
   ]
  },
  {
   "cell_type": "code",
   "execution_count": 16,
   "id": "2f2da596",
   "metadata": {},
   "outputs": [
    {
     "data": {
      "text/plain": [
       "<sqlite3.Cursor at 0x15e0767ee30>"
      ]
     },
     "execution_count": 16,
     "metadata": {},
     "output_type": "execute_result"
    }
   ],
   "source": [
    "cur.execute('insert into Student values(45,\"Rohan\",19)')"
   ]
  },
  {
   "cell_type": "code",
   "execution_count": 17,
   "id": "58804477",
   "metadata": {},
   "outputs": [],
   "source": [
    "db.commit()"
   ]
  },
  {
   "cell_type": "markdown",
   "id": "4cb9d921",
   "metadata": {},
   "source": [
    "### Passing Parameters"
   ]
  },
  {
   "cell_type": "code",
   "execution_count": 1,
   "id": "04233a86",
   "metadata": {},
   "outputs": [],
   "source": [
    "import sqlite3\n",
    "db=sqlite3.connect(\"School.sqlite\")\n",
    "cur=db.cursor()"
   ]
  },
  {
   "cell_type": "code",
   "execution_count": 3,
   "id": "0f106767",
   "metadata": {},
   "outputs": [],
   "source": [
    "cur.execute(\"insert into Student values(102,'Mohit',24)\")\n",
    "db.commit()"
   ]
  },
  {
   "cell_type": "code",
   "execution_count": 4,
   "id": "c8d11b90",
   "metadata": {},
   "outputs": [],
   "source": [
    "rollno=103\n",
    "name=\"Aman\"\n",
    "age=20\n",
    "cur.execute(\"insert into Student values(?,?,?)\",(rollno,name,age))\n",
    "db.commit()"
   ]
  },
  {
   "cell_type": "code",
   "execution_count": 5,
   "id": "54e8a49f",
   "metadata": {},
   "outputs": [],
   "source": [
    "# Execute Many rows\n",
    "\n",
    "values=[(110,\"roshan\",19),(111,\"soumesh\",19),(112,\"rudra\",20)]\n",
    "cur.executemany(\"insert into Student values(?,?,?)\",values)\n",
    "db.commit()"
   ]
  },
  {
   "cell_type": "markdown",
   "id": "b371a01a",
   "metadata": {},
   "source": [
    "### Fetching Values"
   ]
  },
  {
   "cell_type": "code",
   "execution_count": 7,
   "id": "c67d6a82",
   "metadata": {},
   "outputs": [
    {
     "data": {
      "text/plain": [
       "(45, 'Rohan', 19)"
      ]
     },
     "execution_count": 7,
     "metadata": {},
     "output_type": "execute_result"
    }
   ],
   "source": [
    "cur.execute(\"Select * from Student\")\n",
    "cur.fetchone()"
   ]
  },
  {
   "cell_type": "code",
   "execution_count": 10,
   "id": "f48e604d",
   "metadata": {},
   "outputs": [
    {
     "data": {
      "text/plain": [
       "[(45, 'Rohan', 19),\n",
       " (102, 'Mohit', 24),\n",
       " (103, 'Aman', 20),\n",
       " (110, 'roshan', 19),\n",
       " (111, 'soumesh', 19),\n",
       " (112, 'rudra', 20)]"
      ]
     },
     "execution_count": 10,
     "metadata": {},
     "output_type": "execute_result"
    }
   ],
   "source": [
    "cur.execute(\"Select * from Student\")\n",
    "cur.fetchmany(10)"
   ]
  },
  {
   "cell_type": "code",
   "execution_count": 11,
   "id": "6e1d427f",
   "metadata": {},
   "outputs": [
    {
     "data": {
      "text/plain": [
       "[(45, 'Rohan', 19),\n",
       " (102, 'Mohit', 24),\n",
       " (103, 'Aman', 20),\n",
       " (110, 'roshan', 19),\n",
       " (111, 'soumesh', 19),\n",
       " (112, 'rudra', 20)]"
      ]
     },
     "execution_count": 11,
     "metadata": {},
     "output_type": "execute_result"
    }
   ],
   "source": [
    "cur.execute(\"Select * from Student\")\n",
    "cur.fetchall()"
   ]
  },
  {
   "cell_type": "markdown",
   "id": "486d0459",
   "metadata": {},
   "source": [
    "### Using Pandas"
   ]
  },
  {
   "cell_type": "code",
   "execution_count": 13,
   "id": "1f1db9c9",
   "metadata": {},
   "outputs": [
    {
     "data": {
      "text/html": [
       "<div>\n",
       "<style scoped>\n",
       "    .dataframe tbody tr th:only-of-type {\n",
       "        vertical-align: middle;\n",
       "    }\n",
       "\n",
       "    .dataframe tbody tr th {\n",
       "        vertical-align: top;\n",
       "    }\n",
       "\n",
       "    .dataframe thead th {\n",
       "        text-align: right;\n",
       "    }\n",
       "</style>\n",
       "<table border=\"1\" class=\"dataframe\">\n",
       "  <thead>\n",
       "    <tr style=\"text-align: right;\">\n",
       "      <th></th>\n",
       "      <th>RollNumber</th>\n",
       "      <th>Name</th>\n",
       "      <th>Age</th>\n",
       "    </tr>\n",
       "  </thead>\n",
       "  <tbody>\n",
       "    <tr>\n",
       "      <th>0</th>\n",
       "      <td>45</td>\n",
       "      <td>Rohan</td>\n",
       "      <td>19</td>\n",
       "    </tr>\n",
       "    <tr>\n",
       "      <th>1</th>\n",
       "      <td>102</td>\n",
       "      <td>Mohit</td>\n",
       "      <td>24</td>\n",
       "    </tr>\n",
       "    <tr>\n",
       "      <th>2</th>\n",
       "      <td>103</td>\n",
       "      <td>Aman</td>\n",
       "      <td>20</td>\n",
       "    </tr>\n",
       "    <tr>\n",
       "      <th>3</th>\n",
       "      <td>110</td>\n",
       "      <td>roshan</td>\n",
       "      <td>19</td>\n",
       "    </tr>\n",
       "    <tr>\n",
       "      <th>4</th>\n",
       "      <td>111</td>\n",
       "      <td>soumesh</td>\n",
       "      <td>19</td>\n",
       "    </tr>\n",
       "    <tr>\n",
       "      <th>5</th>\n",
       "      <td>112</td>\n",
       "      <td>rudra</td>\n",
       "      <td>20</td>\n",
       "    </tr>\n",
       "  </tbody>\n",
       "</table>\n",
       "</div>"
      ],
      "text/plain": [
       "   RollNumber     Name  Age\n",
       "0          45    Rohan   19\n",
       "1         102    Mohit   24\n",
       "2         103     Aman   20\n",
       "3         110   roshan   19\n",
       "4         111  soumesh   19\n",
       "5         112    rudra   20"
      ]
     },
     "execution_count": 13,
     "metadata": {},
     "output_type": "execute_result"
    }
   ],
   "source": [
    "import pandas as pd\n",
    "df=pd.read_sql_query(\"Select * from Student\",db)\n",
    "df"
   ]
  }
 ],
 "metadata": {
  "kernelspec": {
   "display_name": "Python 3 (ipykernel)",
   "language": "python",
   "name": "python3"
  },
  "language_info": {
   "codemirror_mode": {
    "name": "ipython",
    "version": 3
   },
   "file_extension": ".py",
   "mimetype": "text/x-python",
   "name": "python",
   "nbconvert_exporter": "python",
   "pygments_lexer": "ipython3",
   "version": "3.9.7"
  }
 },
 "nbformat": 4,
 "nbformat_minor": 5
}
