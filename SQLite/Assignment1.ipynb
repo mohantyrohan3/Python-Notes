{
 "cells": [
  {
   "cell_type": "code",
   "execution_count": 1,
   "id": "d8d195a7",
   "metadata": {},
   "outputs": [],
   "source": [
    "import sqlite3"
   ]
  },
  {
   "cell_type": "code",
   "execution_count": 2,
   "id": "e9c8a4a4",
   "metadata": {},
   "outputs": [
    {
     "data": {
      "text/plain": [
       "<sqlite3.Connection at 0x266128b27b0>"
      ]
     },
     "execution_count": 2,
     "metadata": {},
     "output_type": "execute_result"
    }
   ],
   "source": [
    "db=sqlite3.connect(\"Employee.sqlite\")\n",
    "db"
   ]
  },
  {
   "cell_type": "code",
   "execution_count": 3,
   "id": "b69a905e",
   "metadata": {},
   "outputs": [
    {
     "data": {
      "text/plain": [
       "<sqlite3.Cursor at 0x26612908e30>"
      ]
     },
     "execution_count": 3,
     "metadata": {},
     "output_type": "execute_result"
    }
   ],
   "source": [
    "cur=db.cursor()\n",
    "cur"
   ]
  },
  {
   "cell_type": "code",
   "execution_count": 4,
   "id": "ae28f192",
   "metadata": {},
   "outputs": [
    {
     "data": {
      "text/plain": [
       "<sqlite3.Cursor at 0x26612908e30>"
      ]
     },
     "execution_count": 4,
     "metadata": {},
     "output_type": "execute_result"
    }
   ],
   "source": [
    "cur.execute(\"create table EmployeeDetail (employeeid int Primary Key,Name text, age int , department text , salary int)\")"
   ]
  },
  {
   "cell_type": "code",
   "execution_count": 5,
   "id": "a6c5dad0",
   "metadata": {},
   "outputs": [
    {
     "data": {
      "text/plain": [
       "<sqlite3.Cursor at 0x26612908e30>"
      ]
     },
     "execution_count": 5,
     "metadata": {},
     "output_type": "execute_result"
    }
   ],
   "source": [
    "cur.execute(\"insert into EmployeeDetail values(100,'Rishab',25,'Marketing',50000)\")"
   ]
  },
  {
   "cell_type": "code",
   "execution_count": 6,
   "id": "5ed30e8f",
   "metadata": {},
   "outputs": [],
   "source": [
    "db.commit()"
   ]
  },
  {
   "cell_type": "code",
   "execution_count": 7,
   "id": "a01540a8",
   "metadata": {},
   "outputs": [
    {
     "data": {
      "text/plain": [
       "<sqlite3.Cursor at 0x26612908e30>"
      ]
     },
     "execution_count": 7,
     "metadata": {},
     "output_type": "execute_result"
    }
   ],
   "source": [
    "cur.execute(\"insert into EmployeeDetail values(101,'Abhisekh',26,'Operations',60000)\")"
   ]
  },
  {
   "cell_type": "code",
   "execution_count": 8,
   "id": "f9a8dd3f",
   "metadata": {},
   "outputs": [],
   "source": [
    "db.commit()"
   ]
  },
  {
   "cell_type": "code",
   "execution_count": 9,
   "id": "2eab9b61",
   "metadata": {},
   "outputs": [
    {
     "data": {
      "text/plain": [
       "<sqlite3.Cursor at 0x26612908e30>"
      ]
     },
     "execution_count": 9,
     "metadata": {},
     "output_type": "execute_result"
    }
   ],
   "source": [
    "cur.execute(\"insert into EmployeeDetail values(102,'Aman',24,'Human Resource',75000)\")"
   ]
  },
  {
   "cell_type": "code",
   "execution_count": 10,
   "id": "0909cda9",
   "metadata": {},
   "outputs": [],
   "source": [
    "db.commit()"
   ]
  },
  {
   "cell_type": "markdown",
   "id": "fd82c819",
   "metadata": {},
   "source": [
    "### Inserting Some more rows"
   ]
  },
  {
   "cell_type": "code",
   "execution_count": 1,
   "id": "03c0a4ae",
   "metadata": {},
   "outputs": [],
   "source": [
    "employee_id=[101,102,103,104,105,106,107,108,109,110,111,112]\n",
    "name=['Aadarsh','Aarti','Siddharth','Aman','Amit','Shivansh','Vaibhav','Himanshu','Raman','Kunal','Adhira','Tanya']\n",
    "age=[25,27,25,24,30,26,23,26,25,26,29,24]\n",
    "department=['Marketing','Operations','Finance','Human Resource','Marketing','IT','Finance','IT','Operations','Marketing','Human Resource','Marketing']\n",
    "salary=[50000,60000,85000,75000,50000,90000,85000,90000,60000,50000,75000,50000]"
   ]
  },
  {
   "cell_type": "code",
   "execution_count": 8,
   "id": "5841b70a",
   "metadata": {},
   "outputs": [
    {
     "data": {
      "text/plain": [
       "<sqlite3.Cursor at 0x244d5d84f10>"
      ]
     },
     "execution_count": 8,
     "metadata": {},
     "output_type": "execute_result"
    }
   ],
   "source": [
    "import sqlite3\n",
    "db=sqlite3.connect(\"Employee.sqlite\")\n",
    "cur=db.cursor()\n",
    "cur"
   ]
  },
  {
   "cell_type": "code",
   "execution_count": 11,
   "id": "8ab7ff47",
   "metadata": {},
   "outputs": [
    {
     "data": {
      "text/plain": [
       "[(101, 'Aadarsh', 25, 'Marketing', 50000),\n",
       " (102, 'Aarti', 27, 'Operations', 60000),\n",
       " (103, 'Siddharth', 25, 'Finance', 85000),\n",
       " (104, 'Aman', 24, 'Human Resource', 75000),\n",
       " (105, 'Amit', 30, 'Marketing', 50000),\n",
       " (106, 'Shivansh', 26, 'IT', 90000),\n",
       " (107, 'Vaibhav', 23, 'Finance', 85000),\n",
       " (108, 'Himanshu', 26, 'IT', 90000),\n",
       " (109, 'Raman', 25, 'Operations', 60000),\n",
       " (110, 'Kunal', 26, 'Marketing', 50000),\n",
       " (111, 'Adhira', 29, 'Human Resource', 75000),\n",
       " (112, 'Tanya', 24, 'Marketing', 50000)]"
      ]
     },
     "execution_count": 11,
     "metadata": {},
     "output_type": "execute_result"
    }
   ],
   "source": [
    "ans=[]\n",
    "for i in range(len(name)):\n",
    "    ans.append((employee_id[i],name[i],age[i],department[i],salary[i]))\n",
    "ans\n",
    "    "
   ]
  },
  {
   "cell_type": "code",
   "execution_count": 13,
   "id": "48a99485",
   "metadata": {},
   "outputs": [
    {
     "data": {
      "text/plain": [
       "<sqlite3.Cursor at 0x244d5dab1f0>"
      ]
     },
     "execution_count": 13,
     "metadata": {},
     "output_type": "execute_result"
    }
   ],
   "source": [
    "db=sqlite3.connect(\"Employee1.sqlite\")\n",
    "cur=db.cursor()\n",
    "cur.execute(\"create table EmployeeDetail (employeeid int Primary Key,Name text, age int , department text , salary int)\")\n"
   ]
  },
  {
   "cell_type": "code",
   "execution_count": 14,
   "id": "5f472d1e",
   "metadata": {},
   "outputs": [],
   "source": [
    "cur.executemany(\"insert into EmployeeDetail values(?,?,?,?,?)\",ans)\n",
    "db.commit()"
   ]
  },
  {
   "cell_type": "markdown",
   "id": "83dab7a7",
   "metadata": {},
   "source": [
    "### Fetching Details"
   ]
  },
  {
   "cell_type": "code",
   "execution_count": 16,
   "id": "bceee0b7",
   "metadata": {},
   "outputs": [
    {
     "name": "stdout",
     "output_type": "stream",
     "text": [
      "[(103,), (107,)]\n"
     ]
    }
   ],
   "source": [
    "cur.execute(\"select employeeid from EmployeeDetail where department='Finance'\")\n",
    "ans=cur.fetchall()\n",
    "print(ans)"
   ]
  },
  {
   "cell_type": "code",
   "execution_count": 18,
   "id": "83201740",
   "metadata": {},
   "outputs": [
    {
     "name": "stdout",
     "output_type": "stream",
     "text": [
      "103\n",
      "107\n"
     ]
    }
   ],
   "source": [
    "for i in  ans:\n",
    "    print(i[0])\n"
   ]
  },
  {
   "cell_type": "code",
   "execution_count": 21,
   "id": "e57dafa2",
   "metadata": {},
   "outputs": [
    {
     "data": {
      "text/plain": [
       "[('Finance', 2),\n",
       " ('Human Resource', 2),\n",
       " ('IT', 2),\n",
       " ('Marketing', 4),\n",
       " ('Operations', 2)]"
      ]
     },
     "execution_count": 21,
     "metadata": {},
     "output_type": "execute_result"
    }
   ],
   "source": [
    "cur.execute(\"select department,count(*) from EmployeeDetail group by department\")\n",
    "ans=cur.fetchall()\n",
    "ans"
   ]
  },
  {
   "cell_type": "code",
   "execution_count": null,
   "id": "89a90c42",
   "metadata": {},
   "outputs": [],
   "source": []
  }
 ],
 "metadata": {
  "kernelspec": {
   "display_name": "Python 3 (ipykernel)",
   "language": "python",
   "name": "python3"
  },
  "language_info": {
   "codemirror_mode": {
    "name": "ipython",
    "version": 3
   },
   "file_extension": ".py",
   "mimetype": "text/x-python",
   "name": "python",
   "nbconvert_exporter": "python",
   "pygments_lexer": "ipython3",
   "version": "3.9.7"
  }
 },
 "nbformat": 4,
 "nbformat_minor": 5
}
