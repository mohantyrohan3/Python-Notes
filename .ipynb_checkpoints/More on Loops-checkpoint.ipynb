{
 "cells": [
  {
   "cell_type": "markdown",
   "id": "e26b172e",
   "metadata": {},
   "source": [
    "## For Loops"
   ]
  },
  {
   "cell_type": "code",
   "execution_count": 2,
   "id": "dcdd9d39",
   "metadata": {},
   "outputs": [
    {
     "name": "stdout",
     "output_type": "stream",
     "text": [
      "a  b  c  d  "
     ]
    }
   ],
   "source": [
    "s=\"abcd\"\n",
    "for i in s:\n",
    "    print(i,\" \",end='')\n",
    "    "
   ]
  },
  {
   "cell_type": "code",
   "execution_count": 6,
   "id": "f750f70b",
   "metadata": {},
   "outputs": [
    {
     "name": "stdout",
     "output_type": "stream",
     "text": [
      "10\n",
      "1\n",
      "2\n",
      "3\n",
      "4\n",
      "5\n",
      "6\n",
      "7\n",
      "8\n",
      "9\n",
      "10\n"
     ]
    }
   ],
   "source": [
    "#Print N natural numbers\n",
    "n=int(input())\n",
    "for i in range(1,n+1,1): #in range i moves from start to end-1\n",
    "    print(i)"
   ]
  },
  {
   "cell_type": "code",
   "execution_count": 8,
   "id": "8a2abb6a",
   "metadata": {},
   "outputs": [
    {
     "name": "stdout",
     "output_type": "stream",
     "text": [
      "10\n",
      "10\n",
      "9\n",
      "8\n",
      "7\n",
      "6\n",
      "5\n",
      "4\n",
      "3\n",
      "2\n",
      "1\n"
     ]
    }
   ],
   "source": [
    "n=int(input())\n",
    "for i in range(n,0,-1): #in range i moves from start to end-1\n",
    "    print(i)"
   ]
  },
  {
   "cell_type": "code",
   "execution_count": 10,
   "id": "a8c640a3",
   "metadata": {
    "scrolled": true
   },
   "outputs": [
    {
     "name": "stdout",
     "output_type": "stream",
     "text": [
      "5\n",
      "50\n",
      "6\n",
      "9\n",
      "12\n",
      "15\n",
      "18\n",
      "21\n",
      "24\n",
      "27\n",
      "30\n",
      "33\n",
      "36\n",
      "39\n",
      "42\n",
      "45\n",
      "48\n"
     ]
    }
   ],
   "source": [
    "#Print Multiples of 3\n",
    "a=int(input())\n",
    "b=int(input())\n",
    "for i in range(a,b+1,1):\n",
    "    if(i%3==0):\n",
    "        print(i)\n"
   ]
  },
  {
   "cell_type": "code",
   "execution_count": 11,
   "id": "6b538950",
   "metadata": {},
   "outputs": [
    {
     "name": "stdout",
     "output_type": "stream",
     "text": [
      "10\n",
      "3\n"
     ]
    }
   ],
   "source": [
    "# Finding Square root \n",
    "n=int(input())\n",
    "if n==0:\n",
    "    ans=0\n",
    "else:\n",
    "    ans=1\n",
    "for i in range(1,n,1):\n",
    "    if(i*i>n):\n",
    "        break\n",
    "    elif i*i<=n:\n",
    "        ans=i\n",
    "print(ans)"
   ]
  },
  {
   "cell_type": "markdown",
   "id": "011df286",
   "metadata": {},
   "source": [
    "## Else with loops"
   ]
  },
  {
   "cell_type": "code",
   "execution_count": 12,
   "id": "aa97b4fd",
   "metadata": {},
   "outputs": [
    {
     "name": "stdout",
     "output_type": "stream",
     "text": [
      "1\n",
      "2\n",
      "3\n",
      "4\n",
      "5\n",
      "6\n",
      "7\n",
      "8\n",
      "9\n",
      "Ended with the loop\n"
     ]
    }
   ],
   "source": [
    "i=1\n",
    "while i<10:\n",
    "    print(i)\n",
    "    i=i+1\n",
    "else:\n",
    "    print(\"Ended with the loop\")"
   ]
  },
  {
   "cell_type": "code",
   "execution_count": 14,
   "id": "53261d41",
   "metadata": {},
   "outputs": [
    {
     "name": "stdout",
     "output_type": "stream",
     "text": [
      "1\n",
      "2\n",
      "3\n",
      "4\n"
     ]
    }
   ],
   "source": [
    "#else will not be excuted because of break statement\n",
    "for i in range(1,10):\n",
    "    if i==5:\n",
    "        break\n",
    "    print(i)\n",
    "else:\n",
    "    print(\"Reached end\")"
   ]
  },
  {
   "cell_type": "markdown",
   "id": "a9012c72",
   "metadata": {},
   "source": [
    "### Pass Keyword"
   ]
  },
  {
   "cell_type": "code",
   "execution_count": 5,
   "id": "a3675f11",
   "metadata": {},
   "outputs": [
    {
     "name": "stdout",
     "output_type": "stream",
     "text": [
      "Hey\n"
     ]
    }
   ],
   "source": [
    "#In python we cannot avoid empty in a if statement\n",
    "i=9\n",
    "if i<7:\n",
    "    pass\n",
    "print(\"Hey\")"
   ]
  }
 ],
 "metadata": {
  "kernelspec": {
   "display_name": "Python 3 (ipykernel)",
   "language": "python",
   "name": "python3"
  },
  "language_info": {
   "codemirror_mode": {
    "name": "ipython",
    "version": 3
   },
   "file_extension": ".py",
   "mimetype": "text/x-python",
   "name": "python",
   "nbconvert_exporter": "python",
   "pygments_lexer": "ipython3",
   "version": "3.9.7"
  }
 },
 "nbformat": 4,
 "nbformat_minor": 5
}
